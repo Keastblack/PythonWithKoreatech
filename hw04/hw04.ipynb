{
 "metadata": {
  "name": "",
  "signature": "sha256:64096b52f6376a7117c3f7c32f94440bf7e209ee610fc98354d0b2de271d1a7b"
 },
 "nbformat": 3,
 "nbformat_minor": 0,
 "worksheets": [
  {
   "cells": [
    {
     "cell_type": "heading",
     "level": 1,
     "metadata": {},
     "source": [
      "\uc2a4\ud06c\ub9bd\ud2b8 \ud504\ub85c\uadf8\ub798\ubc0d Assignment 4"
     ]
    },
    {
     "cell_type": "markdown",
     "metadata": {},
     "source": [
      "|\ubd84\ubc18|01|\n",
      "|---|---|\n",
      "|\uad50\uc218|\ud55c\uc5f0\ud76c \uad50\uc218\ub2d8|\n",
      "|\ud559\uacfc|\ucef4\ud4e8\ud130\uacf5\ud559\ubd80|\n",
      "|\ud559\ub144|3\ud559\ub144|\n",
      "|\ud559\ubc88|2012136116|\n",
      "|\uc774\ub984|\uc815\uc7ac\uc6b0(wodndb@koreatech.ac.kr)\n",
      "|\uc81c\ucd9c\uc77c|2014\ub144 10\uc6d4 18\uc77c|"
     ]
    },
    {
     "cell_type": "markdown",
     "metadata": {},
     "source": [
      "###[1\ubc88 \ubb38\uc81c] \ud30c\uc77c s.txt \ub0b4\uc758 \ub2e4\uc74c \ub0b4\uc6a9\uacfc \ud568\uaed8 \uc544\ub798 \ubb38\uc81c\uc758 \ucf54\ub4dc\ub97c \uc81c\uc2dc\ud558\uc2dc\uc624. \n",
      ">pig ham<br/>\n",
      ">cat dog<br/>\n",
      ">ham bird<br/>\n",
      ">dog pig<br/>"
     ]
    },
    {
     "cell_type": "markdown",
     "metadata": {},
     "source": [
      "* 1) \ud30c\uc77c s.txt\uc744 \uc77d\uc5b4\uc11c \uac01 \ub77c\uc778\ub4e4\uc5d0 \uc788\ub294 \uccab \ubc88\uc9f8 \ub2e8\uc5b4(\ubb38\uc790\uc5f4)\ub4e4\uc744 \uae30\uc900\uc73c\ub85c \ub77c\uc778\ubcc4 \uc815\ub82c\ud6c4 \ud30c\uc77c s1.txt\uc5d0 \uadf8 \uacb0\uacfc\ub97c \uae30\ub85d\ud558\ub294 \ucf54\ub4dc\ub97c \uc791\uc131\ud558\uc2dc\uc624. \uc989, \ud504\ub85c\uadf8\ub7a8 \uc218\ud589 \ud6c4 s1.txt\uc5d0 \uc788\ub294 \ud30c\uc77c \ub0b4\uc6a9\uc740 \ub2e4\uc74c\uacfc \uac19\ub2e4.\n",
      ">cat dog<br/>\n",
      ">dog pig<br/>\n",
      ">ham bird<br/>\n",
      ">pig ham<br/>"
     ]
    },
    {
     "cell_type": "markdown",
     "metadata": {},
     "source": [
      "* 2) \ud30c\uc77c s.txt\uc744 \uc77d\uc5b4\uc11c \uac01 \ub77c\uc778\ub4e4\uc5d0 \uc788\ub294 \ub450 \ubc88\uc9f8 \ub2e8\uc5b4(\ubb38\uc790\uc5f4)\ub4e4\uc744 \uae30\uc900\uc73c\ub85c \ub77c\uc778\ubcc4 \uc815\ub82c\ud6c4 \ud30c\uc77c s2.txt\uc5d0 \uadf8 \uacb0\uacfc\ub97c \uae30\ub85d\ud558\ub294 \ucf54\ub4dc\ub97c \uc791\uc131\ud558\uc2dc\uc624. \uc989, \ud504\ub85c\uadf8\ub7a8 \uc218\ud589 \ud6c4 s2.txt\uc5d0 \uc788\ub294 \ud30c\uc77c \ub0b4\uc6a9\uc740 \ub2e4\uc74c\uacfc \uac19\ub2e4.\n",
      ">ham bird<br/>\n",
      ">cat dog<br/>\n",
      ">pig ham<br/>\n",
      ">dog pig<br/>"
     ]
    },
    {
     "cell_type": "markdown",
     "metadata": {},
     "source": [
      "* 3) \ud30c\uc77c s.txt\uc744 \uc77d\uc5b4\uc11c \uac01 \ub77c\uc778\ub4e4\uc5d0 \uc788\ub294 \ubaa8\ub4e0 \ub2e8\uc5b4\ub4e4\uc744 \uc21c\ucc28\uc801\uc73c\ub85c \ub2e4\uc2dc \ub098\uc5f4\ud558\ub418 \uac01 \ub77c\uc778\uc5d0 \uc138 \uac1c\uc758 \ub2e8\uc5b4\ub4e4\uc774 \uc624\ub3c4\ub85d \ud558\uc5ec s3.txt\uc5d0 \uae30\ub85d\ud558\ub294 \ucf54\ub4dc\ub97c \uc791\uc131\ud558\uc2dc\uc624. \uc989, \ud504\ub85c\uadf8\ub7a8 \uc218\ud589 \ud6c4 s3.txt\uc5d0 \uc788\ub294 \ud30c\uc77c \ub0b4\uc6a9\uc740 \ub2e4\uc74c\uacfc \uac19\ub2e4.\n",
      ">pig ham cat<br/>\n",
      ">dog ham bird<br/>\n",
      ">dog pig<br/>"
     ]
    },
    {
     "cell_type": "markdown",
     "metadata": {},
     "source": [
      "* [1\ubc88 \ubb38\uc81c] \uc18c\uc2a4 \ucf54\ub4dc"
     ]
    },
    {
     "cell_type": "code",
     "collapsed": false,
     "input": [
      "#/ust/local/bin/python\n",
      "# coding: utf-8\n",
      "import sys, os, math\n",
      "\n",
      "def cmp_1(a1, a2):\n",
      "\treturn cmp(a1[1], a2[1])\n",
      "\n",
      "# Create s.txt#\n",
      "# because s.txt is not existed in ipython notebook #\n",
      "f0 = file(\"s.txt\", \"w\")\n",
      "f0.write(\"pig ham\\ncat dog\\nham bird\\ndog pig\\n\");\n",
      "f0.seek(0)\n",
      "\n",
      "# Sorting 1 #\n",
      "\n",
      "f0 = file(\"s.txt\")\n",
      "l1 = f0.readline()\n",
      "tempList = []\n",
      "\n",
      "while l1:\n",
      "\ttempList.append(l1.split())\n",
      "\tl1 = f0.readline()\n",
      "\n",
      "tempList.sort()\n",
      "\n",
      "f1 = open(\"s1.txt\", \"w+\")\n",
      "f1.write(\"\\n\".join([' '.join(x) for x in tempList]))\n",
      "f1.seek(0)\n",
      "\n",
      "print \"[01]\"\n",
      "print f1.read()\n",
      "print\n",
      "\n",
      "# Sorting 2 #\n",
      "\n",
      "f0 = file(\"s.txt\")\n",
      "l2 = f0.readline()\n",
      "tempList = []\n",
      "\n",
      "while l2:\n",
      "\ttempList.append(l2.split())\n",
      "\tl2 = f0.readline()\n",
      "\n",
      "tempList.sort(cmp_1)\n",
      "\n",
      "f2 = open(\"s2.txt\", \"w+\")\n",
      "f2.write(\"\\n\".join([' '.join(x) for x in tempList]))\n",
      "f2.seek(0)\n",
      "\n",
      "print \"[02]\"\n",
      "print f2.read()\n",
      "print\n",
      "\n",
      "# Sorting 3 #\n",
      "\n",
      "f0 = file(\"s.txt\")\n",
      "l3 = f0.readline()\n",
      "tempList = []\n",
      "\n",
      "i = 0\n",
      "\n",
      "while l3:\n",
      "\ttempList = tempList + l3.split()\n",
      "\tl3 = f0.readline()\n",
      "\n",
      "tempList2 = []\n",
      "\n",
      "for x in range(int(math.ceil(len(tempList) / 3.0))):\n",
      "\ttempList2.append(tempList[3*x:3*(x+1)])\n",
      "\n",
      "f3 = open(\"s3.txt\", \"w+\")\n",
      "f3.write(\"\\n\".join([' '.join(x) for x in tempList2]))\n",
      "f3.seek(0)\n",
      "\n",
      "print \"[03]\"\n",
      "print f3.read()\n",
      "print"
     ],
     "language": "python",
     "metadata": {},
     "outputs": [
      {
       "output_type": "stream",
       "stream": "stdout",
       "text": [
        "[01]\n",
        "cat dog\n",
        "dog pig\n",
        "ham bird\n",
        "pig ham\n",
        "\n",
        "[02]\n",
        "ham bird\n",
        "cat dog\n",
        "pig ham\n",
        "dog pig\n",
        "\n",
        "[03]\n",
        "pig ham cat\n",
        "dog ham bird\n",
        "dog pig\n",
        "\n"
       ]
      }
     ],
     "prompt_number": 2
    },
    {
     "cell_type": "markdown",
     "metadata": {},
     "source": [
      "* [1\ubc88 \ubb38\uc81c] \uc124\uba85\n",
      "    - ipython notebook\uc5d0\uc11c\ub294 \uae30\uc874\uc5d0 s.txt \ud30c\uc77c\uc744 \ub9cc\ub4e4 \uc218 \uc5c6\uae30 \ub54c\ubb38\uc5d0 s.txt\ud30c\uc77c\uc744 \uc0dd\uc131\ud558\ub294 \ubd80\ubd84\uc744 \ucd94\uac00\ud558\uc600\ub2e4. 1\ubc88\uc758 \uccab \ubc88\uc9f8 \ubb38\uc81c\ub294 \uac01 \ub77c\uc778\uc758 \uccab \ubc88\uc9f8 \ubb38\uc790\uc5f4\uc744 \uae30\uc900\uc73c\ub85c \uc904 \uc815\ub82c\uc744 \ud558\ub294 \ubd80\ubd84\uc73c\ub85c, \ud30c\uc77c\uc785\ucd9c\ub825\uc744 \ud1b5\ud574 \uac01 \ub77c\uc778\uc758 \ubb38\uc790\uc5f4\uc744 \ub9ac\uc2a4\ud2b8\uc758 \ud615\ud0dc\ub85c \ubcc0\ud658\ud558\uc5ec \ub9ac\uc2a4\ud2b8\uc5d0 \uc800\uc7a5\ud558\uc600\ub2e4. \ucd5c\uc885\uc801\uc73c\ub85c \uc785\ub825\ubc1b\uc740 \ub370\uc774\ud130\ub294 [[pig, ham], [ham ,bird], [cat, dog], [dog, pig]]\ub85c \uc800\uc7a5\ub41c\ub2e4. sort\ud568\uc218\ub85c \uc815\ub82c\ud558\uc600\ub2e4.\n",
      "    \n",
      "    - \ub450 \ubc88\uc9f8 \ubb38\uc81c\ub294 \uac01 \ub77c\uc778\uc758 \ub450 \ubc88\uc9f8 \ubb38\uc790\uc5f4\uc744 \uae30\uc900\uc73c\ub85c \uc904\uc744 \uc815\ub82c\ud558\ub294 \uac83\uc778\ub370, \uccab \ubc88\uc9f8 \ubb38\uc81c\uc640 \uac19\uc774 \uc785\ub825\uc744 \ubc1b\uc740 \ub4a4, \ub9ac\uc2a4\ud2b8\uc758 \ub450 \ubc88\uc9f8 \uc6d0\uc18c\ub97c \uae30\uc900\uc73c\ub85c \uc815\ub82c\ud558\ub3c4\ub85d \ube44\uad50 \ud568\uc218\ub97c \ub530\ub85c \uc9c0\uc815\ud558\uc5ec \uc815\ub82c\uc744 \ud558\uc600\ub2e4. \n",
      "    \n",
      "    - \uc138 \ubc88\uc9f8 \ubb38\uc81c\ub294 \uc904\uc5d0 \uad00\uacc4 \uc5c6\uc774 \ub4e4\uc5b4\uc624\ub294 \ub2e8\uc5b4\ub97c \uc21c\uc11c\ub300\ub85c \ub9ac\uc2a4\ud2b8\uc5d0 \ub123\uc5c8\ub2e4. \ub530\ub77c\uc11c \uc785\ub825\ubc1b\uc740 \ub370\uc774\ud130\ub294 [pig, ham, ham ,bird, cat, dog, dog, pig]\ub85c \uc800\uc7a5\ub41c\ub2e4. \uadf8\ub9ac\uace0 \uc774 \ub9ac\uc2a4\ud2b8\uc758 \uc6d0\uc18c\ub97c 3\uac1c\uc529 \ucabc\uac1c\uc5b4 \ub610 \ub2e4\ub978 \ub9ac\uc2a4\ud2b8\uc5d0 \uc800\uc7a5\ud558\uc600\ub2e4. \uc774 \ub54c, \ucabc\uac1c\ub294 \ubc29\ubc95\uc740 \uc2ac\ub77c\uc774\uc2f1\uc744 \uc0ac\uc6a9\ud558\uc600\uc73c\uba70, \uc6d0\uc18c\uc758 \ucd1d \uac2f\uc218\ub97c \ub118\uc9c0 \uc54a\ub3c4\ub85d for\ubb38\uc758 \ud69f\uc218\ub97c \uc81c\ud55c\ud558\uc600\ub2e4. \uadf8 \uacb0\uacfc [[pig, ham, ham], [bird, cat, dog], [dog, pig]]\ub97c \uc5bb\uc744 \uc218 \uc788\uc5c8\ub2e4. \uc774\ub97c \ub9ac\uc2a4\ud2b8 \ub0b4\ud3ec\uc640 join\uc744 \uc774\uc6a9\ud558\uc5ec \ud55c \ub9ac\uc2a4\ud2b8 \uc6d0\uc18c\uc529 \ud30c\uc77c\uc5d0 \uc800\uc7a5\uc2dc\ucf30\ub2e4. \uc774\ub7ec\ud55c \ubc29\ubc95\uc73c\ub85c \uc704\uc640 \uac19\uc740 \uacb0\uacfc\ub97c \uc5bb\uc744 \uc218 \uc788\uc5c8\ub2e4."
     ]
    },
    {
     "cell_type": "markdown",
     "metadata": {},
     "source": [
      "### [2\ubc88 \ubb38\uc81c] \ub2e4\uc74c\uacfc \uac19\uc740 \uc870\uac74\ub4e4\uc744 \ucc38\uace0\ud558\uc5ec \ud68c\uc6d0 \uac00\uc785 \ubc0f \ub85c\uadf8\uc778 \ud504\ub85c\uadf8\ub7a8\uc744 \uc791\uc131\ud558\uc2dc\uc624. \n",
      "  - 1) \ud504\ub85c\uadf8\ub7a8 \uc2dc\uc791 \ud6c4 \ub2e4\uc74c\uacfc \uac19\uc740 \uba54\uc2dc\uc9c0\uac00 \ucd9c\ub825\ub418\uc5b4 1, 2, 3 \uc911 \ud558\ub098\uc758 \uac12\uc744 \uc785\ub825 \ubc1b\ub3c4\ub85d \ud55c\ub2e4.\n",
      ">Welcome to Our Service<br/>\n",
      ">1. Sign Up<br/>\n",
      ">2. Sign In<br/>\n",
      ">3. Quit<br/>\n",
      "  - 2) 1\uc744 \uc120\ud0dd\ud558\uba74 ID, Password, Name, School\uc758 4\uac00\uc9c0 \uc815\ubcf4\ub97c \uc785\ub825\ubc1b\uc544 \ud30c\uc77c\uc5d0 \uc800\uc7a5\ud558\ub294 \ud504\ub85c\uadf8\ub7a8\uc744 \uc791\uc131\ud55c\ub2e4.\n",
      "    - 2-1) \uc785\ub825\ub41c \ub0b4\uc6a9\uc740 access \ub77c\ub294 \uc774\ub984\uc758 \ud30c\uc77c \ub0b4\uc5d0 \uc800\uc7a5\ub41c\ub2e4. \n",
      "    - 2-2) access \ud30c\uc77c\uc758 \uac01 \ub77c\uc778\uc5d0\ub294 \uac00\uc785\ub41c \ud68c\uc6d0 \uac01\uac01\uc758 \uc815\ubcf4\uac00 \"id: password, name, school\" \ud615\ud0dc\ub85c \uc800\uc7a5\ub41c\ub2e4.\n",
      "    - 2-3) \uc989, \uac00\uc785 \ud68c\uc6d0\uc774 10\uba85\uc774\uba74 access \ud30c\uc77c \ub0b4\uc5d0 \ub77c\uc778 \uc218\ub3c4 \uc815\ud655\ud788 10\uc774\ub2e4.\n",
      "    - 2-4) \uc554\ud638\ud654 \ubc29\uc2dd\uc740 sha \ubaa8\ub4c8\uc744 \ud65c\uc6a9\ud55c\ub2e4. sha \ubaa8\ub4c8 \ud65c\uc6a9 \ubc29\ubc95\uc740 \ubcf8 \ubb38\uc81c\uc758 \ub9c8\uc9c0\ub9c9\uc5d0 \uc81c\uc2dc\ub41c sha \ud65c\uc6a9 \uc608\ub97c \ucc38\uace0\ud55c\ub2e4.\n",
      "      - \uc989, access \ud30c\uc77c \ub0b4\uc5d0 password \uc815\ubcf4\ub294 \uc554\ud638\ud654 \ub418\uc5b4 \uc800\uc7a5\ub418\uc5b4\uc57c \ud55c\ub2e4.\n",
      "    - 2-5) \ud68c\uc6d0 \uc815\ubcf4\ub97c \uc785\ub825 \ubc1b\uc744 \ub54c id\ub97c \uc785\ub825 \ubc1b\uc740 \uc9c1\ud6c4 access\ub97c \ud655\uc778\ud558\uc5ec \uc774\ubbf8 \uc874\uc7ac\ud558\ub294 id\uac00 \uc785\ub825\ub418\uc5c8\ub2e4\uba74 \ub2e4\uc74c \uba54\uc2dc\uc9c0\ub97c \ucd9c\ub825\ud558\uace0 id \uc815\ubcf4\ub97c \ub2e4\uc2dc \uc785\ub825\ubc1b\ub294\ub2e4.\n",
      "      - Sorry, the entered ID is already used.\n",
      "  - 3) 2\ub97c \uc120\ud0dd\ud558\uba74 ID, Password\uc758 2\uac00\uc9c0 \uc815\ubcf4\ub97c \uc785\ub825\ubc1b\ub294 \ud504\ub85c\uadf8\ub7a8\uc744 \uc791\uc131\ud55c\ub2e4.\n",
      "    - 3-1) \uc785\ub825\ub41c ID \uc815\ubcf4\uac00 access\uc5d0 \uc874\uc7ac\ud558\uc9c0 \uc54a\uc73c\uba74 \ub2e4\uc74c\uacfc \uac19\uc740 \uba54\uc2dc\uc9c0\ub97c \ucd9c\ub825\ud558\uace0 \ub2e4\uc2dc \uc785\ub825\ubc1b\ub294\ub2e4.\n",
      "      - Sorry, you are not a registered member.\n",
      "    - 3-2) \uc785\ub825\ub41c ID\uac00 \uc62c\ubc14\ub974\uac8c \uc874\uc7ac\ud558\uc9c0\ub9cc Password \uc815\ubcf4\uac00 access \ud30c\uc77c\uc5d0 \uc788\ub294 \uc815\ubcf4\uc640 \ubd88\uc77c\uce58 \ud558\uba74 \ub2e4\uc74c\uacfc \uac19\uc740 \uba54\uc2dc\uc9c0\ub97c \ucd9c\ub825\ud558\uace0 \ub2e4\uc2dc \uc785\ub825\ubc1b\ub294\ub2e4.\n",
      "      - Sorry, the entered password is not correct.\n",
      "      - \uc774 \ub54c\uc5d0\ub3c4 \uc0ac\uc6a9\uc790\uac00 \uc785\ub825\ud55c \ud328\uc2a4\uc6cc\ub4dc \uc815\ubcf4\uc640 \ud568\uaed8 sha \ubaa8\ub4c8\uc774 \ud65c\uc6a9\ub418\uc5b4\uc57c \ud55c\ub2e4.\n",
      "    - 3-3) \uc785\ub825\ub41c ID\uc640 Password\uac00 \ubaa8\ub450 \uc62c\ubc14\ub974\uba74 \ub2e4\uc74c\uacfc \uac19\uc740 \uba54\uc2dc\uc9c0\ub97c \ucd9c\ub825\ud55c\ub2e4.\n",
      "      - Hello [name]!\n",
      "      - \uc704 [name]\uc5d0\ub294 access\uc5d0 \uae30\ub85d\ub418\uc5b4 \uc788\ub294 name \uc815\ubcf4\ub97c \ucd9c\ub825\ud55c\ub2e4.\n",
      "  - 4) 3\uc744 \uc120\ud0dd\ud558\uba74 \ud504\ub85c\uadf8\ub7a8\uc774 \ub05d\ub09c\ub2e4.\n",
      "  - [\ucc38\uace0] sha \ubaa8\ub4c8 \ud65c\uc6a9 \uc608"
     ]
    },
    {
     "cell_type": "code",
     "collapsed": false,
     "input": [
      "import sha\n",
      "password_plain = \"my password\"\n",
      "password_encrypted = sha.new(password_plain).hexdigest()\n",
      "print password_encrypted"
     ],
     "language": "python",
     "metadata": {},
     "outputs": [
      {
       "output_type": "stream",
       "stream": "stdout",
       "text": [
        "a2f8f7fa195a080a22a689041daa8f2044f9f336\n"
       ]
      }
     ],
     "prompt_number": 1
    },
    {
     "cell_type": "markdown",
     "metadata": {},
     "source": [
      "* [2\ubc88 \ubb38\uc81c] \ucf54\ub4dc"
     ]
    },
    {
     "cell_type": "code",
     "collapsed": false,
     "input": [
      "#/use/local/bin/python\n",
      "# coding: utf-8\n",
      "\n",
      "import sys, os, sha\n",
      "\n",
      "open(\"access\", \"w\")\n",
      "\n",
      "def signUp():\n",
      "\tprint \"Please input user information\"\n",
      "\tuser_info = []\t#\uc0ac\uc6a9\uc790 \uc544\uc774\ub514\ub97c \uc81c\uc678\ud55c \uc815\ubcf4\ub97c \uc800\uc7a5\ud560 \ub9ac\uc2a4\ud2b8\n",
      "\n",
      "\tid_plain = raw_input(\"User ID : \")\t#\uc0ac\uc6a9\uc790 \uc544\uc774\ub514 \uc800\uc7a5\n",
      "\tacc = open(\"access\", \"r\")\n",
      "\tuser_id = []\t#\ud30c\uc77c\uc5d0 \uc800\uc7a5\ub41c \uc0ac\uc6a9\uc790 \uc544\uc774\ub514 \ubaa9\ub85d\uc744 \uc800\uc7a5\ud560 \ub9ac\uc2a4\ud2b8\n",
      "\n",
      "\tfor line in acc:\n",
      "\t\tuser_id.append(line.split()[0].strip(':'))\n",
      "\n",
      "\twhile id_plain in user_id:\n",
      "\t\tprint \"Sorry, the entered ID is already used\"\n",
      "\t\tyn = raw_input(\"Are you want to re-input your id? (Y / N)\")\n",
      "\t\tif yn == 'Y' or yn == 'y':\n",
      "\t\t\tid_plain = raw_input(\"User ID : \")\n",
      "\t\telif yn == 'N' or yn == 'n':\n",
      "\t\t\tprint \"Return to main menu\"\n",
      "\t\t\treturn 0\n",
      "\n",
      "\tpassword_plain = raw_input(\"User Password : \")\n",
      "\tpassword_encrypted = sha.new(password_plain).hexdigest()\n",
      "\tuser_info.append(password_encrypted)\n",
      "\t\n",
      "\tuser_info.append(raw_input(\"User Name : \"))\n",
      "\tuser_info.append(raw_input(\"User School : \"))\n",
      "\tacc = open(\"access\", \"a+\")\n",
      "\t\n",
      "\t#debug#print id_plain\n",
      "\t#debug#print user_info\n",
      "\t\n",
      "\tacc.writelines(id_plain + \": \" + \", \".join(user_info) + '\\n')\n",
      "\t\n",
      "def signIn():\n",
      "\tprint \"Please input ID and Password\"\n",
      "\tid_plain = raw_input(\"User ID : \")\n",
      "\tacc = open(\"access\", \"r\")\n",
      "\tuser_id = []\n",
      "\tuser_pw = []\n",
      "\tfor line in acc:\n",
      "\t\tuser_id.append(line.split(\":\")[0])\n",
      "\t\tuser_pw.append(line.split(\":\")[1].strip().split(\", \"))\n",
      "\n",
      "\tuser_acc = dict(zip(user_id, user_pw))\n",
      "\t\n",
      "\t#debug# print user_acc\n",
      "\t\n",
      "\twhile (id_plain in user_id) == False:\n",
      "\t\tprint \"Sorry, you are not registered member.\"\n",
      "\t\tyn = raw_input(\"Are you want to re-input your id? (Y / N)\")\n",
      "\t\tif yn == 'Y' or yn == 'y':\n",
      "\t\t\tid_plain = raw_input(\"User ID : \")\n",
      "\t\telif yn == 'N' or yn == 'n':\n",
      "\t\t\tprint \"Return to main menu\"\n",
      "\t\t\treturn 0\n",
      "\tpassword_plain = raw_input(\"User Password : \")\n",
      "\tpassword_encrypted = sha.new(password_plain).hexdigest()\n",
      "\t\n",
      "\twhile (password_encrypted == user_acc[id_plain][0]) == False:\n",
      "\t\tprint \"Sorry, the entered password is not correct\"\n",
      "\t\tyn = raw_input(\"Are you want to re-input your password? (Y / N)\")\n",
      "\t\tif yn == 'Y' or yn == 'y':\n",
      "\t\t\tpassword_plain = raw_input(\"User Password : \")\n",
      "\t\t\tpassword_encrypted = sha.new(password_plain).hexdigest()\n",
      "\t\telif yn == 'N' or yn == 'n':\n",
      "\t\t\tprint \"Return to main menu\"\n",
      "\t\t\treturn 0\n",
      "\tprint \"Hello\", id_plain + \":\", user_acc[id_plain][1:], \"!\"\n",
      "\n",
      "def Quit():\n",
      "\treturn 0\n",
      "\n",
      "menu = {1 : signUp, 2 : signIn, 3 : Quit}\n",
      "\n",
      "def selMenu():\n",
      "\tsel = 0\n",
      "\tprint \"Welcome to Our Service\"\n",
      "\t\n",
      "\tprint \" 1. Sign Up \\n 2. Sign in \\n 3. Quit \\n\\n\"\n",
      "\tsel = int(raw_input(\">> please select menu : \"))\n",
      "\t\n",
      "\twhile(sel > 3 or sel < 1):\n",
      "\t\tprint(\"\\n Please input 1 to 3! \\n\")\n",
      "\t\tsel = int(raw_input(\">> please select menu : \"))\n",
      "\n",
      "\treturn sel\n",
      "\n",
      "sel = 0\n",
      "\n",
      "while sel != 3:\n",
      "\tsel = selMenu()\n",
      "\tmenu[sel]()\n"
     ],
     "language": "python",
     "metadata": {},
     "outputs": [
      {
       "output_type": "stream",
       "stream": "stdout",
       "text": [
        "Welcome to Our Service\n",
        " 1. Sign Up \n",
        " 2. Sign in \n",
        " 3. Quit \n",
        "\n",
        "\n"
       ]
      },
      {
       "name": "stdout",
       "output_type": "stream",
       "stream": "stdout",
       "text": [
        ">> please select menu : 1\n"
       ]
      },
      {
       "output_type": "stream",
       "stream": "stdout",
       "text": [
        "Please input user information\n"
       ]
      },
      {
       "name": "stdout",
       "output_type": "stream",
       "stream": "stdout",
       "text": [
        "User ID : wodndb\n"
       ]
      },
      {
       "name": "stdout",
       "output_type": "stream",
       "stream": "stdout",
       "text": [
        "User Password : 19930514\n"
       ]
      },
      {
       "name": "stdout",
       "output_type": "stream",
       "stream": "stdout",
       "text": [
        "User Name : JJW\n"
       ]
      },
      {
       "name": "stdout",
       "output_type": "stream",
       "stream": "stdout",
       "text": [
        "User School : KOREATECH\n"
       ]
      },
      {
       "output_type": "stream",
       "stream": "stdout",
       "text": [
        "Welcome to Our Service\n",
        " 1. Sign Up \n",
        " 2. Sign in \n",
        " 3. Quit \n",
        "\n",
        "\n"
       ]
      },
      {
       "name": "stdout",
       "output_type": "stream",
       "stream": "stdout",
       "text": [
        ">> please select menu : 1\n"
       ]
      },
      {
       "output_type": "stream",
       "stream": "stdout",
       "text": [
        "Please input user information\n"
       ]
      },
      {
       "name": "stdout",
       "output_type": "stream",
       "stream": "stdout",
       "text": [
        "User ID : wodndb\n"
       ]
      },
      {
       "output_type": "stream",
       "stream": "stdout",
       "text": [
        "Sorry, the entered ID is already used\n"
       ]
      },
      {
       "name": "stdout",
       "output_type": "stream",
       "stream": "stdout",
       "text": [
        "Are you want to re-input your id? (Y / N)Y\n"
       ]
      },
      {
       "name": "stdout",
       "output_type": "stream",
       "stream": "stdout",
       "text": [
        "User ID : rorona\n"
       ]
      },
      {
       "name": "stdout",
       "output_type": "stream",
       "stream": "stdout",
       "text": [
        "User Password : 20140101\n"
       ]
      },
      {
       "name": "stdout",
       "output_type": "stream",
       "stream": "stdout",
       "text": [
        "User Name : Rororaina\n"
       ]
      },
      {
       "name": "stdout",
       "output_type": "stream",
       "stream": "stdout",
       "text": [
        "User School : ArandUniv\n"
       ]
      },
      {
       "output_type": "stream",
       "stream": "stdout",
       "text": [
        "Welcome to Our Service\n",
        " 1. Sign Up \n",
        " 2. Sign in \n",
        " 3. Quit \n",
        "\n",
        "\n"
       ]
      },
      {
       "name": "stdout",
       "output_type": "stream",
       "stream": "stdout",
       "text": [
        ">> please select menu : 2\n"
       ]
      },
      {
       "output_type": "stream",
       "stream": "stdout",
       "text": [
        "Please input ID and Password\n"
       ]
      },
      {
       "name": "stdout",
       "output_type": "stream",
       "stream": "stdout",
       "text": [
        "User ID : wodndb\n"
       ]
      },
      {
       "name": "stdout",
       "output_type": "stream",
       "stream": "stdout",
       "text": [
        "User Password : 2012136116\n"
       ]
      },
      {
       "output_type": "stream",
       "stream": "stdout",
       "text": [
        "Sorry, the entered password is not correct\n"
       ]
      },
      {
       "name": "stdout",
       "output_type": "stream",
       "stream": "stdout",
       "text": [
        "Are you want to re-input your password? (Y / N)Y\n"
       ]
      },
      {
       "name": "stdout",
       "output_type": "stream",
       "stream": "stdout",
       "text": [
        "User Password : 19930514\n"
       ]
      },
      {
       "output_type": "stream",
       "stream": "stdout",
       "text": [
        "Hello wodndb: ['JJW', 'KOREATECH'] !\n",
        "Welcome to Our Service\n",
        " 1. Sign Up \n",
        " 2. Sign in \n",
        " 3. Quit \n",
        "\n",
        "\n"
       ]
      },
      {
       "name": "stdout",
       "output_type": "stream",
       "stream": "stdout",
       "text": [
        ">> please select menu : 2\n"
       ]
      },
      {
       "output_type": "stream",
       "stream": "stdout",
       "text": [
        "Please input ID and Password\n"
       ]
      },
      {
       "name": "stdout",
       "output_type": "stream",
       "stream": "stdout",
       "text": [
        "User ID : rorona\n"
       ]
      },
      {
       "name": "stdout",
       "output_type": "stream",
       "stream": "stdout",
       "text": [
        "User Password : 19920402\n"
       ]
      },
      {
       "output_type": "stream",
       "stream": "stdout",
       "text": [
        "Sorry, the entered password is not correct\n"
       ]
      },
      {
       "name": "stdout",
       "output_type": "stream",
       "stream": "stdout",
       "text": [
        "Are you want to re-input your password? (Y / N)N\n"
       ]
      },
      {
       "output_type": "stream",
       "stream": "stdout",
       "text": [
        "Return to main menu\n",
        "Welcome to Our Service\n",
        " 1. Sign Up \n",
        " 2. Sign in \n",
        " 3. Quit \n",
        "\n",
        "\n"
       ]
      },
      {
       "name": "stdout",
       "output_type": "stream",
       "stream": "stdout",
       "text": [
        ">> please select menu : 2\n"
       ]
      },
      {
       "output_type": "stream",
       "stream": "stdout",
       "text": [
        "Please input ID and Password\n"
       ]
      },
      {
       "name": "stdout",
       "output_type": "stream",
       "stream": "stdout",
       "text": [
        "User ID : meruru\n"
       ]
      },
      {
       "output_type": "stream",
       "stream": "stdout",
       "text": [
        "Sorry, you are not registered member.\n"
       ]
      },
      {
       "name": "stdout",
       "output_type": "stream",
       "stream": "stdout",
       "text": [
        "Are you want to re-input your id? (Y / N)Y\n"
       ]
      },
      {
       "name": "stdout",
       "output_type": "stream",
       "stream": "stdout",
       "text": [
        "User ID : rorona\n"
       ]
      },
      {
       "name": "stdout",
       "output_type": "stream",
       "stream": "stdout",
       "text": [
        "User Password : 20140101\n"
       ]
      },
      {
       "output_type": "stream",
       "stream": "stdout",
       "text": [
        "Hello rorona: ['Rororaina', 'ArandUniv'] !\n",
        "Welcome to Our Service\n",
        " 1. Sign Up \n",
        " 2. Sign in \n",
        " 3. Quit \n",
        "\n",
        "\n"
       ]
      },
      {
       "name": "stdout",
       "output_type": "stream",
       "stream": "stdout",
       "text": [
        ">> please select menu : 3\n"
       ]
      }
     ],
     "prompt_number": 6
    },
    {
     "cell_type": "markdown",
     "metadata": {},
     "source": [
      "* [2\ubc88 \ubb38\uc81c] \uc124\uba85\n",
      "    - \ud070 \ud2c0\uc5d0\uc11c \uc774 \ubb38\uc81c\uc5d0\uc11c \uad6c\ud604\ud574\uc57c \ud560 \uae30\ub2a5\uc740 \uba54\ub274 \uc120\ud0dd, \uac00\uc785, \ub85c\uadf8\uc778, \uadf8\ub9ac\uace0 \uc885\ub8cc\ub2e4. \uac00\uc785, \ub85c\uadf8\uc778, \uba54\ub274 \uae30\ub2a5\uc740 \ud568\uc218\ub85c \ub9cc\ub4e4\uace0, \uc0ac\uc804 \uac1d\uccb4\uc5d0 \ub123\uc5b4\uc11c \uba54\ub274\uc758 \ubc88\ud638\uc640 \ub300\uc751\ub300\ub3c4\ub85d \uad6c\ud604\ud558\uc600\ub2e4. \uba54\ub274\uc5d0\uc11c 3\ubc88\uc778 \uc885\ub8cc\uac00 \uc120\ud0dd\ub418\uae30 \uc804\uae4c\uc9c0\ub294 \uba54\ub274\uac00 while\ubb38\uc5d0\uc11c \ubb34\ud55c\ud788 \ud638\ucd9c\ub41c\ub2e4.\n",
      "    - \uac00\uc785(Sign up) \uae30\ub2a5\uc744 \uad6c\ud604\ud558\ub294 \ub370 \ud575\uc2ec\uc801\uc778 \uae30\ub2a5\uc740 \uc2e0\uaddc \uc0ac\uc6a9\uc790\uc758 ID\uac00 \uae30\uc874 \uc0ac\uc6a9\uc790\uc758 ID\uc640 \uc911\ubcf5\ub418\uc9c0 \uc54a\ub3c4\ub85d \uccb4\ud06c\ud558\ub294 \uac83\uc774\ub2e4. \uc774\ub97c \uad6c\ud604\ud558\uae30 \uc704\ud574\uc11c\ub294 \uae30\uc874 \uc0ac\uc6a9\uc790\uc758 \uc815\ubcf4\uac00 \uc800\uc7a5\ub41c access\ud30c\uc77c\uc5d0\uc11c \uc801\uc808\ud558\uac8c \uc0ac\uc6a9\uc790\uc758 \uc815\ubcf4\ub97c \ud30c\uc2f1\ud558\uace0, \uc785\ub825\ub41c \uc2e0\uaddc \uc0ac\uc6a9\uc790\uc758 \uc815\ubcf4\uc640 \ube44\uad50\ud558\uc5ec ID\ub97c \uc911\ubcf5\ub418\uc9c0 \uc54a\ub3c4\ub85d \ud558\ub294 \uac83\uc774\ub2e4. \ubcf8\uc778\uc740 \uc774 \uae30\ub2a5\uc744 \uad6c\ud604\ud558\uae30 \uc704\ud574 \ud30c\uc77c \uc785\ucd9c\ub825\uc73c\ub85c \ubc1b\uc544\uc628 \uc0ac\uc6a9\uc790\uc758 \uc815\ubcf4\ub97c split\ud568\uc218\uc640 strip\ud568\uc218, \uc2ac\ub77c\uc774\uc2f1\uc744 \uc774\uc6a9\ud558\uc5ec \uc801\uc808\ud558\uac8c \uc0ac\uc6a9\uc790\uc758 ID\ub9cc \ub9ac\uc2a4\ud2b8\ub85c \ucd94\ucd9c\ud558\uc600\ub2e4. \uadf8\ub9ac\uace0 \uc785\ub825\ubc1b\uc740 \uc2e0\uaddc \uc0ac\uc6a9\uc790\uc758 ID\uac00 \uae30\uc874 \uc0ac\uc6a9\uc790\uc758 ID \ub9ac\uc2a4\ud2b8\uc5d0 \uc788\ub294\uc9c0 \ube44\uad50\ud558\uace0, \uc874\uc7ac\ud560 \uacbd\uc6b0 \ub2e4\uc2dc \uc2e0\uaddc \uc0ac\uc6a9\uc790\uc758 ID\ub97c \uc785\ub825\ubc1b\uc744 \uc218 \uc788\ub3c4\ub85d \ud558\uc600\ub2e4. \uadf8\ub9ac\uace0 \uc774 \uae30\ub2a5 \ubabb\uc9c0 \uc54a\uac8c \uc911\uc694\ud55c \uac83\uc774 \ube44\ubc00\ubc88\ud638 \uc554\ud638\ud654\uc778\ub370, sha \uc608\uc81c\ub97c \uadf8\ub300\ub85c \ud65c\uc6a9\ud558\uc5ec \ud30c\uc77c\uc5d0 \uc800\uc7a5\ud558\uc600\ub2e4.\n",
      "    - \ub85c\uadf8\uc778(Sign in) \uae30\ub2a5\uc5d0\uc11c \uad6c\ud604\ud574\uc57c \ud558\ub294 \uac83\uc740 \uae30\uc874 \uc0ac\uc6a9\uc790\uc758 ID\uac00 \uc785\ub825\ub418\uc5c8\ub294\uc9c0, \uadf8\ub9ac\uace0 \ube44\ubc00\ubc88\ud638\ub97c sha\ub85c \ubcc0\ud658\ud558\uc5ec \uc81c\ub300\ub85c \uc785\ub825\uc774 \ub41c \uac83\uc778\uc9c0 \ud655\uc778\ud558\ub294 \uc791\uc5c5\uc774\ub2e4. \uac00\uc785 \uae30\ub2a5\uc744 \uad6c\ud604\ud560 \ub54c \uc0ac\uc6a9\ud558\uc600\ub358 \ubc29\ubc95\ub300\ub85c, \uc801\uc808\ud558\uac8c \uae30\uc874 \uc0ac\uc6a9\uc790\uc758 \uc815\ubcf4\ub97c \ud30c\uc2f1\ud574\uc11c \uc785\ub825\ub41c \uc0ac\uc6a9\uc790 \uc815\ubcf4\uc640 \ube44\uad50\ud55c \ud6c4, \uc798\ubabb\ub41c \uc815\ubcf4\uac00 \uc785\ub825\ub418\uc5c8\uc744 \uacbd\uc6b0 \ub2e4\uc2dc \uc785\ub825\ubc1b\ub3c4\ub85d \ud558\uc600\ub2e4. \uadf8\ub9ac\uace0 \ucd5c\uc885\uc801\uc73c\ub85c \ubb38\uc81c\uc758 \uc694\uad6c\uc0ac\ud56d\uc5d0 \ub9de\uac8c \uc0ac\uc6a9\uc790\uc758 \uc815\ubcf4\ub97c \ucd9c\ub825\ud558\uc600\ub2e4.\n",
      "    - \uc2e4\ud589 \ud654\uba74\uc744 \ubcf4\uba74 \uac00\uc785 \ubc0f \ub85c\uadf8\uc778\uc5d0\uc11c \uc0ac\uc6a9\uc790\uac00 \uc785\ub825\ud55c \uc798\ubabb\ub41c \uc815\ubcf4\ub97c \uc81c\ub300\ub85c \uc7a1\uc544\ub0b4\uace0 \uc788\ub294 \uac83\uc744 \ud655\uc778\ud560 \uc218 \uc788\ub2e4. \uadf8\ub9ac\uace0 \uc0ac\uc6a9\uc790 \uc815\ubcf4 \uc62c\ubc14\ub978 \uc785\ub825\uc5d0 \ub300\ud574\uc11c\ub3c4 \uc798 \uc791\ub3d9\ud558\uace0 \uc788\ub2e4."
     ]
    },
    {
     "cell_type": "markdown",
     "metadata": {},
     "source": [
      "###[3\ubc88 \ubb38\uc81c] range() \ud568\uc218\uc640 \uc720\uc0ac\ud55c frange() \ud568\uc218\ub97c \ub2e4\uc74c \uc870\uac74\uc744 \ucc38\uace0\ud558\uc5ec \ub9cc\ub4dc\uc2dc\uc624.\n",
      "  - 1) frange()\uc758 \uc778\uc790 \uad6c\uc131\uc740 \ub2e4\uc74c\uacfc \uac19\uc774 range\uc640 \ub3d9\uc77c\ud558\uc9c0\ub9cc \uac01 \uc778\uc218\ub4e4\uc740 \uc74c\uc218\ub97c \ubc1b\uc9c0 \uc54a\ub294\ub2e4\uace0 \uac00\uc815\ud55c\ub2e4.\n",
      "  > range(stop)<br/>\n",
      "  > range(start, stop[, step])<br/>\n",
      "  - 2) frange() \ud568\uc218\uc758 \uc778\uc790\uc5d0 \ub300\ud55c \uae30\ubcf8 \uc2dc\uc791(start) \uac12\uc740 0.0\uc774\uace0, \uae30\ubcf8 \ub2e8\uacc4(step) \uac12\uc740 0.1\uc774\ub2e4. \n",
      "  - 3) frange \uc0ac\uc6a9 \uc608\n",
      "    - 3-1) frange(0.5)\n",
      "      - [0.0, 0.1, 0.2, 0.3, 0.4]\n",
      "    - 3-2) frange(1.0, 2.0)\n",
      "      - [1.0, 1.1, 1.2, 1.3, 1.4, 1.5, 1.6, 1.7, 1.8, 1.9]\n",
      "    - 3-3) frange(2.2, 4.0, 0.5)\n",
      "      - [2.2, 2.7, 3.2, 3.7]"
     ]
    },
    {
     "cell_type": "markdown",
     "metadata": {},
     "source": [
      "* [3\ubc88 \ubb38\uc81c] \uc18c\uc2a4 \ucf54\ub4dc"
     ]
    },
    {
     "cell_type": "code",
     "collapsed": false,
     "input": [
      "#/usr/local/bin/python\n",
      "# coding: utf-8\n",
      "\n",
      "import sys, os\n",
      "import math, cmath\n",
      "from decimal import *\n",
      "\n",
      "def frange(stmp, *arg):\n",
      "\tresult = []\n",
      "\tif len(arg) > 3:\n",
      "\t\tprint \"The number of arguments in frange function must be same or smaller than 3\"\n",
      "\t\treturn -1\n",
      "\n",
      "\telif len(arg) == 0:\n",
      "\t\tstart = Decimal(0.0).quantize(Decimal(\".000000000000001\"), rounding = ROUND_DOWN)\n",
      "\t\twhile start < stmp:\n",
      "\t\t\tresult.append(float(start))\n",
      "\t\t\tstart += Decimal(0.1).quantize(Decimal(\".0000000000000001\"), rounding = ROUND_DOWN)\n",
      "\t\treturn result\n",
      "\n",
      "\telse:\n",
      "\t\tstart = Decimal(stmp).quantize(Decimal(\".000000000000001\"), rounding = ROUND_DOWN)\n",
      "\t\tstop = Decimal(arg[0]).quantize(Decimal(\".0000000000000001\"), rounding = ROUND_DOWN)\n",
      "\t\tif len(arg) == 2:\n",
      "\t\t\tstep = Decimal(arg[1]).quantize(Decimal(\".000000000000001\"), rounding = ROUND_DOWN)\n",
      "\t\telse:\n",
      "\t\t\tstep = Decimal(0.1).quantize(Decimal(\".0000000000000001\"), rounding = ROUND_DOWN)\n",
      "\n",
      "\t\twhile start < stop:\n",
      "\t\t\tresult.append(float(start))\n",
      "\t\t\tstart += step\n",
      "\t\treturn result\n",
      "\n",
      "print \" # frange(0.5)\"\n",
      "print frange(0.5)\n",
      "print\n",
      "print \" # frange(1.0, 2.0)\"\n",
      "print frange(1.0, 2.0)\n",
      "print\n",
      "print \" # frange(2.2, 4.0, 0.5)\"\n",
      "print frange(2.2, 4.0, 0.5)\n",
      "print"
     ],
     "language": "python",
     "metadata": {},
     "outputs": [
      {
       "output_type": "stream",
       "stream": "stdout",
       "text": [
        " # frange(0.5)\n",
        "[0.0, 0.1, 0.2, 0.3, 0.4]\n",
        "\n",
        " # frange(1.0, 2.0)\n",
        "[1.0, 1.1, 1.2, 1.3, 1.4, 1.5, 1.6, 1.7, 1.8, 1.9]\n",
        "\n",
        " # frange(2.2, 4.0, 0.5)\n",
        "[2.2, 2.7, 3.2, 3.7]\n",
        "\n"
       ]
      }
     ],
     "prompt_number": 7
    },
    {
     "cell_type": "markdown",
     "metadata": {},
     "source": [
      "* [3\ubc88 \ubb38\uc81c] \uc124\uba85\n",
      "    - \uc774 \ubb38\uc81c\ub97c \ud574\uacb0\ud558\uae30 \uc704\ud574 \uac00\ubcc0\uc778\uc218\ub97c \uc0ac\uc6a9\ud558\uc600\ub2e4. \ud568\uc218 \uc624\ubc84\ub85c\ub529\uc774 \ub418\uc9c0 \uc54a\uc558\uae30 \ub54c\ubb38\uc774\ub2e4. \uc778\uc790\uac00 \uba87 \uac1c\uac00 \uc785\ub825\ub418\uc5c8\ub294\uc9c0\ub97c \uccb4\ud06c\ud558\uc5ec, \uc778\uc790\uc758 \uac1c\uc218\uc5d0 \ub530\ub77c \uae30\ub2a5\uc744 \ub2ec\ub9ac\ud558\uc600\ub2e4.\n",
      "    - \ubd80\ub3d9\uc18c\uc218\uc810 \uc5f0\uc0b0\uc774 \uc815\ud655\ud55c \uac83\uc774 \uc544\ub2c8\uae30 \ub54c\ubb38\uc5d0, \uc790\uc798\ud558\uba74\uc11c\ub3c4 \ubbf8\uc138\ud55c \uc18c\uc218\uc810\uc774 \ub098\uc624\ub294 \uacbd\uc6b0\uac00 \uc788\uc5c8\ub2e4. \uc608\ub97c \ub4e4\uba74 1.1\uc774\ub77c\ub294 \uacb0\uacfc\uac00 \ub098\uc640\uc57c \ud558\ub294\ub370, 1.100000000000001\uc774 \ucd9c\ub825\ub418\ub294 \uc608\uc678\uac00 \ubc1c\uc0dd\ud558\uc600\ub2e4. \uadf8\ub798\uc11c Decimal\ub85c \uc815\ud655\ud55c \uc18c\uc218\uc810 14\ubc88\uc9f8 \uc790\ub9ac\uac00 1\uc778 \uc2e4\uc218\ub97c \uc5bb\uace0, \uadf8 \uc218\ub97c \uae30\uc900\uc73c\ub85c \ubc18\uc62c\ub9bc\uc744 \ud558\uae30 \uc704\ud574 quantize \ud568\uc218\ub97c \uc0ac\uc6a9\ud558\uc600\ub2e4. \uacb0\uacfc\ub294 \uc608\uc2dc\ucc98\ub7fc \ub9cc\uc871\uc2a4\ub7fd\uac8c \ub098\uc654\ub2e4."
     ]
    },
    {
     "cell_type": "markdown",
     "metadata": {},
     "source": [
      "### [4\ubc88 \ubb38\uc81c] \uac00\ubcc0\uc778\uc218\ub97c \ubc1b\ub294 \ud568\uc218 sum()\uc744 \ub2e4\uc74c\uacfc \uac19\uc740 \uc870\uac74\uc744 \ucc38\uace0\ud558\uc5ec \uad6c\ud604\ud558\uc2dc\uc624\n",
      "  - 1) sum() \uc0ac\uc6a9 \uc608 \n",
      "    - sum()\n",
      "      - 0\n",
      "    - sum(1, 2)\n",
      "      - 3\n",
      "    - sum(1, 2, 3, 4, 5)\n",
      "      - 15\n",
      "    - sum(1, 5, 7, 2, -10)\n",
      "      - 5"
     ]
    },
    {
     "cell_type": "markdown",
     "metadata": {},
     "source": [
      "* [4\ubc88 \ubb38\uc81c] \uc18c\uc2a4 \ucf54\ub4dc"
     ]
    },
    {
     "cell_type": "code",
     "collapsed": false,
     "input": [
      "#/usr/local/bin/python\n",
      "# coding: utf-8\n",
      "import sys, os\n",
      "\n",
      "def sum(*arg):\n",
      "\tresult = 0;\n",
      "\tfor num in arg:\n",
      "\t\tresult += num\n",
      "\n",
      "\treturn result\n",
      "\n",
      "print \" # sum() \"\n",
      "print sum()\n",
      "print\n",
      "\n",
      "print \" # sum(1, 2) \"\n",
      "print sum(1, 2)\n",
      "print\n",
      "\n",
      "print \" # sum(1, 2, 3, 4, 5) \"\n",
      "print sum(1, 2, 3, 4, 5)\n",
      "print\n",
      "\n",
      "print \" # sum(1, 5, 7, 2, -10) \"\n",
      "print sum(1, 5, 7, 2, -10)"
     ],
     "language": "python",
     "metadata": {},
     "outputs": [
      {
       "output_type": "stream",
       "stream": "stdout",
       "text": [
        " # sum() \n",
        "0\n",
        "\n",
        " # sum(1, 2) \n",
        "3\n",
        "\n",
        " # sum(1, 2, 3, 4, 5) \n",
        "15\n",
        "\n",
        " # sum(1, 5, 7, 2, -10) \n",
        "5\n"
       ]
      }
     ],
     "prompt_number": 8
    },
    {
     "cell_type": "markdown",
     "metadata": {},
     "source": [
      "* [4\ubc88 \ubb38\uc81c] \uc124\uba85\n",
      "    - \ubc1b\uc740 \uc778\uc790\uc758 \uac1c\uc218\ub97c \uad6c\ud574\uc11c, \ubc18\ubcf5\ubb38\uc744 \ud1b5\ud574 \uc785\ub825\ub41c \uc778\uc790\ub97c \ubaa8\ub450 \ub354\ud55c \uac12\uc744 \ucd9c\ub825\ud558\uc600\ub2e4. \uc2e4\ud589 \ub610\ud55c \ubcc4 \ub2e4\ub978 \uc5b4\ub824\uc6c0 \uc5c6\uc774 \uc608\uc81c\uc640 \ub3d9\uc77c\ud55c \uacb0\uacfc\ub97c \uc5bb\uc744 \uc218 \uc788\uc5c8\ub2e4."
     ]
    },
    {
     "cell_type": "markdown",
     "metadata": {},
     "source": [
      "### [5\ubc88 \ubb38\uc81c] \uc5ec\ub7ec \ub2e8\uc5b4\ub85c \uc774\ub8e8\uc5b4\uc9c4 \ubb38\uc790\uc5f4\uc744 \uc785\ub825\ubc1b\uc544 \uac01 \ub2e8\uc5b4\uc758 \uccab\uae00\uc790\ub85c \uc774\ub8e8\uc5b4\uc9c4 \ub2e8\uc5b4\ub97c \ub300\ubb38\uc790\ub85c \ucd9c\ub825\ud558\ub294 myinitial() \ud568\uc218\ub97c \ub2e4\uc74c \uc870\uac74\uc744 \ucc38\uace0\ud558\uc5ec \uc791\uc131\ud558\uc2dc\uc624.\n",
      "  - 1) split, map, join \ud568\uc218\ub97c \ubaa8\ub450 \uc774\uc6a9\ud574\uc57c \ud55c\ub2e4.\n",
      "  - 2) myinitial() \ud568\uc218 \uc0ac\uc6a9 \uc608\n",
      "    - myinitial(\"as soon as possible\")\n",
      "      - ASAP"
     ]
    },
    {
     "cell_type": "markdown",
     "metadata": {},
     "source": [
      "* [5\ubc88 \ubb38\uc81c] \uc18c\uc2a4 \ucf54\ub4dc"
     ]
    },
    {
     "cell_type": "code",
     "collapsed": false,
     "input": [
      "#/usr/local/bin/python\n",
      "# coding: utf-8\n",
      "\n",
      "import sys, os\n",
      "\n",
      "def myinitial(string):\n",
      "\treturn ''.join(map(lambda x: x.capitalize()[0], string.split()))\n",
      "\n",
      "print \" # myinitial(\\\"as soon as possible\\\")\"\n",
      "print myinitial(\"as soon as possible\")"
     ],
     "language": "python",
     "metadata": {},
     "outputs": [
      {
       "output_type": "stream",
       "stream": "stdout",
       "text": [
        " # myinitial(\"as soon as possible\")\n",
        "ASAP\n"
       ]
      }
     ],
     "prompt_number": 9
    },
    {
     "cell_type": "markdown",
     "metadata": {},
     "source": [
      "* [5\ubc88 \ubb38\uc81c] \uc124\uba85\n",
      "    - \ubb38\uc790\uc5f4\uc744 \uc785\ub825\ubc1b\uc73c\uba74 \uc6b0\uc120 split\ud568\uc218\ub97c \uc0ac\uc6a9\ud558\uc5ec \ub2e8\uc5b4 \uae30\uc900\uc73c\ub85c \uad6c\ubd84\ud558\uc5ec \ub9ac\uc2a4\ud2b8\ub97c \ub9cc\ub4e0\ub2e4. \uadf8\ub9ac\uace0 \ub9ac\uc2a4\ud2b8\uc758 \uac01 \uc6d0\uc18c\ub4e4\uc778 \ubb38\uc790\uc758 \uccab \uc54c\ud30c\ubcb3\uc744 capitalize\ub97c \uc0ac\uc6a9\ud558\uc5ec \ub300\ubb38\uc790\ub85c \ub9cc\ub4dc\ub294 \uac83\uc744 \ub78c\ub2e4 \ud568\uc218\ub85c \uad6c\ud604\ud55c\ub2e4. map\ud568\uc218\ub97c \uc774\uc6a9\ud558\uba74 \uac01 \ubb38\uc790\uc758 \uba38\ub9bf\uae00\uc790\uac00 \ub300\ubb38\uc790\ub85c \ubcc0\ud658\ub41c \uacb0\uacfc\ubb3c\uc774 \ub9ac\uc2a4\ud2b8\uc5d0 \uc800\uc7a5\ud560 \uc218 \uc788\ub2e4. \uadf8\ub9ac\uace0 \uc774 \uacb0\uacfc\ub97c join\ud568\uc218\ub97c \uc0ac\uc6a9\ud558\uc5ec \ud569\uce58\uba74 \ubb38\uc790\uc5f4\uc758 \uac01 \uba38\ub9bf\uae00\ub97c \ub300\ubb38\uc790\ub85c \ubcc0\ud658\ud55c \uacb0\uacfc\ub9cc\uc744 \ud569\uce5c \ubb38\uc790\uc5f4\uc744 \uc5bb\uc744 \uc218 \uc788\ub2e4. \ube44\ud6a8\uc728\uc801\uc774\uc9c0\ub9cc \uc218\uc5c5\uc2dc\uac04\uc5d0 \ubc30\uc6b4 \ub2e4\uc591\ud55c \uac1c\ub150\uc744 \uc0ac\uc6a9\ud574\ubcf4\uace0\uc790 \uc774\ub7ec\ud55c \ubc29\uc2dd\uc73c\ub85c \ubb38\uc81c\ub97c \ud574\uacb0\ud558\uc600\ub2e4."
     ]
    },
    {
     "cell_type": "markdown",
     "metadata": {},
     "source": [
      "### [6\ubc88 \ubb38\uc81c] \uc74c\uc774 \uc544\ub2cc \uc815\uc218 n\ub97c \uc785\ub825\ubc1b\uc73c\uba74 n! (factorial)\uc744 \uacc4\uc0b0\ud558\ub294 myfact() \ud568\uc218\ub97c \uc7ac\uadc0\uc801 \ud568\uc218\ub85c \uad6c\ud604\ud558\uc2dc\uc624."
     ]
    },
    {
     "cell_type": "markdown",
     "metadata": {},
     "source": [
      "* [6\ubc88 \ubb38\uc81c] \uc18c\uc2a4 \ucf54\ub4dc"
     ]
    },
    {
     "cell_type": "code",
     "collapsed": false,
     "input": [
      "#/usr/local/bin/python\n",
      "# coding: utf-8\n",
      "\n",
      "def myfact(num):\n",
      "\tif(num == 1):\n",
      "\t\treturn 1;\n",
      "\telse:\n",
      "\t\treturn num * myfact(num - 1)\n",
      "\n",
      "print \"myfact(5)\"\n",
      "print myfact(5)"
     ],
     "language": "python",
     "metadata": {},
     "outputs": [
      {
       "output_type": "stream",
       "stream": "stdout",
       "text": [
        "myfact(5)\n",
        "120\n"
       ]
      }
     ],
     "prompt_number": 10
    },
    {
     "cell_type": "markdown",
     "metadata": {},
     "source": [
      "* [6\ubc88 \ubb38\uc81c] \uc124\uba85\n",
      "    - \uc7ac\uadc0\uc801\uc73c\ub85c factorial \ud568\uc218\ub97c \uad6c\ud604\ud558\uc600\uace0, \uadf8 \uacb0\uacfc \uc6d0\ud558\ub294 \uac12\uc744 \uc5bb\uc744 \uc218 \uc788\uc5c8\ub2e4."
     ]
    },
    {
     "cell_type": "markdown",
     "metadata": {},
     "source": [
      "### [7\ubc88 \ubb38\uc81c] (\uc11c\uc220\ud615) import string \uacfc from string import * \uc758 \ucc28\uc774\uc810\uc744 \uc124\uba85\ud558\uc2dc\uc624."
     ]
    },
    {
     "cell_type": "markdown",
     "metadata": {},
     "source": [
      "* import string\uc740 string\uc774\ub77c\ub294 \ubaa8\ub4c8\uc744 \ubd88\ub7ec\uc624\ub294 \uac00\uc7a5 \uae30\ubcf8\uc801\uc778 \ubc29\ubc95\uc774\ub2e4. string.<\ud568\uc218\uba85>()\uc774\ub77c\ub294 \ud615\ud0dc\ub85c \uc774\ub984 \uacf5\uac04\uc774 \uc874\uc7ac\ud558\uba74\uc11c \uc790\uaca9 \uc774\ub984\uc744 \uc0ac\uc6a9\ud55c\ub2e4.\n",
      "* \ubc18\uba74 from string import \\*\ub294 string\uc774\ub77c\ub294 \ubaa8\ub4c8\uc5d0 \uc874\uc7ac\ud558\ub294 \\_\\_\ub97c \uc81c\uc678\ud55c \ubaa8\ub4e0 \uc774\ub984\ub4e4\uc744 \ubb34\uc790\uaca9 \uc774\ub984\uc758 \ud615\ud0dc\ub85c \ubd88\ub7ec\uc624\ub294 \ubc29\ubc95\uc774\ub2e4. \ubaa8\ub4c8 \uc774\ub984\uc744 \ub530\ub85c \uc55e\uc5d0 \ubd99\uc774\uc9c0 \uc54a\uace0 \ubc14\ub85c \ud568\uc218 \uc774\ub984\uc744 \uc0ac\uc6a9\ud560 \uc218 \uc788\ub2e4\ub294 \uc810\uc5d0\uc11c import string\uacfc \ud070 \ucc28\uc774\uac00 \uc788\ub2e4."
     ]
    },
    {
     "cell_type": "markdown",
     "metadata": {},
     "source": [
      "### [8\ubc88 \ubb38\uc81c] \uc774\uc804 Assignment 3\uc758 \ub9c8\uc9c0\ub9c9 \ubb38\uc81c\ub294 \uc6f9 URL\ub85c \uc9c0\uc815\ub41c \uc6f9\ud398\uc774\uc9c0\ub97c \ubb38\uc790\uc5f4\ub85c \uac00\uc838\uc640 \ubaa8\ub4e0 HTML \ud0dc\uadf8 \ubc0f CSS\uc640 Javascript\ub97c \uc81c\uc678\ud55c \uc21c\uc218 \ud14d\uc2a4\ud2b8\ub97c \uc5bb\uc5b4\ub0b4\uace0 \uadf8 \uc548\uc5d0 \uc874\uc7ac\ud558\ub294 \ub2e8\uc5b4\ub97c \ucd94\ucd9c\ud558\uc5ec \uac01 \ub2e8\uc5b4\ub4e4\uc5d0 \ub300\ud574 \ucd9c\ud604\ube48\ub3c4\ub97c \uc0ac\uc804\ud615\ud0dc({'world': 2, 'hello': 1, 'python': 1})\ub85c \uc800\uc7a5\ud558\uc5ec \ucd9c\ub825\ud558\ub294 \uac83\uc774\uc5c8\ub2e4. \uc774\ubc88\uc5d0\ub294 Assignment 3\ub97c \ud655\uc7a5\ud558\uc5ec \ub2e4\uc74c\uacfc \uac19\uc740 \uc870\uac74\uc744 \ub9cc\uc871\ud558\ub3c4\ub85d \uad6c\ud604\ud558\uc2dc\uc624. \n",
      "  - 1) \uac01 URL\ub85c \uc9c0\uc815\ub41c \uc6f9\ud398\uc774\uc9c0\uc758 HTML \uc18c\uc2a4\ub97c \ud30c\uc77c\ub85c \uc800\uc7a5\ud558\uc2dc\uc624. \n",
      "    - URL\uc774 http://URL \uc774\ub77c\uba74 \ud30c\uc77c\uba85\uc740 URL.html \uc774\ub2e4. \n",
      "    - \uc608: URL\uc774 http://www.koreatech.ac.kr \uc774\ub77c\uba74 \ud30c\uc77c\uba85\uc740 www.koreatech.ac.kr.html \uc774\ub2e4. \n",
      "  - 2) \ub2e8\uc5b4\uc758 \ucd9c\ud604\ube48\ub3c4\uac00 \ub2f4\uae34 \uc0ac\uc804 \uac1d\uccb4\ub97c \uc704 HTML \uc18c\uc2a4 \ud30c\uc77c\uacfc \ub3d9\uc77c\ud55c \ud3f4\ub354\uc5d0 \ud30c\uc77c\ub85c \uc800\uc7a5\ud558\uc2dc\uc624.\n",
      "    - \uad50\uc7ac 11-2 \ud53c\ud074\ub9c1 \ubc29\ubc95\uc744 \ud65c\uc6a9\ud558\uc2dc\uc624. \n",
      "    - URL\uc774 http://URL \uc774\ub77c\uba74 \ud30c\uc77c\uba85\uc740 URL.words.frequency \uc774\ub2e4.\n",
      "    - \uc608: URL\uc774 http://www.koreatech.ac.kr \uc774\ub77c\uba74 \ud30c\uc77c\uba85\uc740 www.koreatech.ac.kr.words.frequency \uc774\ub2e4.\n",
      "  - 3) \ucd5c\uc18c 5\uac1c \uc774\uc0c1\uc758 \uc6f9 \uc0ac\uc774\ud2b8\uc5d0 \ub300\ud55c HTML \uc18c\uc2a4 \ud30c\uc77c\uacfc \ub2e8\uc5b4 \ucd9c\ud604\ube48\ub3c4 \ud30c\uc77c\uc744 \uc800\uc7a5\ud558\uc2dc\uc624. \n",
      "    - \uc989, \ucd1d 10\uac1c\uc758 \ud30c\uc77c\uc744 \ub3d9\uc77c\ud55c \ud3f4\ub354\uc5d0 \uc0dd\uc131\ud558\uc2dc\uc624."
     ]
    },
    {
     "cell_type": "markdown",
     "metadata": {},
     "source": [
      "* [8\ubc88 \ubb38\uc81c] \uc18c\uc2a4 \ucf54\ub4dc"
     ]
    },
    {
     "cell_type": "code",
     "collapsed": false,
     "input": [
      "#!/usr/local/bin/python\n",
      "# coding: utf-8\n",
      "import sys, os, urllib, string, pickle\n",
      "\n",
      "urlList = {\"http://www.koreatech.ac.kr\", \"http://cse.koreatech.ac.kr\", \"http://www.naver.com\", \"http://www.daum.net\", \"http://link.koreatech.ac.kr\"}\n",
      "\n",
      "def parsingUrl(url):\n",
      "\ts = urllib.urlopen(url).read()\n",
      "\thtmlFile = open(url[7:]+\".html\", \"w\")\n",
      "\thtmlFile.write(s)\n",
      "\thtmlFile.close()\n",
      "\t\n",
      "\tn = 0\n",
      "\tpivot = 0\n",
      "\twhile(n < len(s)):\n",
      "\t\tif(s[n] == \"<\" and s[n + 1 : n + 7].lower() == \"script\"):\n",
      "\t\t\tpivot = n\n",
      "\t\t\twhile(s[pivot] != \"<\" or s[pivot + 1] != \"/\" or s[pivot + 2 : pivot + 8].lower() != \"script\"):\n",
      "\t\t\t\tpivot += 1\n",
      "\t\t\ts = s[0:n] + ' ' + s[pivot+9:]\n",
      "\t\n",
      "\t\telif(s[n] == \"<\" and s[n + 1 : n + 6].lower() == \"style\"):\n",
      "\t\t\tpivot = n\n",
      "\t\t\twhile(s[pivot] != \"<\" or s[pivot + 1] != \"/\" or s[pivot + 2 : pivot + 7].lower() != \"style\"):\n",
      "\t\t\t\tpivot += 1\n",
      "\t\t\ts = s[0:n] + ' ' + s[pivot+8:]\n",
      "\t\n",
      "\t\telif(s[n] == '<'):\n",
      "\t\t\tpivot = n\n",
      "\t\t\twhile(s[pivot] != '>'):\n",
      "\t\t\t\tpivot += 1\n",
      "\t\t\ts = s[0:n] + ' ' + s[pivot+1:]\n",
      "\t\telif(s[n] == '\\n' or s[n] == '\\t'):\n",
      "\t\t\ts = s[0:n] + ' ' + s[n+1:]\n",
      "\t\telif(s[n] in string.punctuation):\n",
      "\t\t\ts = s[0:n] + s[n+1:]\n",
      "\t\telse:\n",
      "\t\t\tn += 1\n",
      "\n",
      "\ts2 = s.split()\n",
      "\ts3 = ' '.join(s2)\n",
      "\tn = 0\n",
      "\tD = {}\n",
      "\twhile(n < len(s2)):\n",
      "\t\tif(s2[n] in D.keys()):\n",
      "\t\t\tD[s2[n]] += 1\n",
      "\t\telse:\n",
      "\t\t\tD[s2[n]] = 1\n",
      "\t\tn += 1\n",
      "\t\n",
      "\tfreqFile = open(url[7:]+\".words.frequency\", \"w\")\n",
      "\tpickle.dump(D, freqFile)\n",
      "\n",
      "for urls in urlList:\n",
      "\tparsingUrl(urls)"
     ],
     "language": "python",
     "metadata": {},
     "outputs": [],
     "prompt_number": 19
    },
    {
     "cell_type": "markdown",
     "metadata": {},
     "source": [
      "* [8\ubc88 \ubb38\uc81c] \uc124\uba85\n",
      "    - \uc9c0\ub09c \uacfc\uc81c\uc5d0\uc11c \uc694\uad6c\ud55c \uacb0\uacfc\uc5d0 \ud30c\uc77c\uc785\ucd9c\ub825\uc774\ub77c\ub294 \uc694\uc18c\uac00 \ucd94\uac00\ub41c \ubb38\uc81c\uc774\ub2e4. \ubb38\uc81c\uc758 \uc694\uad6c\uc0ac\ud56d\uc5d0 \ub9de\ucd94\uc5b4 url\uc758 html \uc18c\uc2a4\ub97c html \ud30c\uc77c\ub85c \uc800\uc7a5\ud558\uace0, \ub2e8\uc5b4 \ube48\ub3c4\uac00 \uc0ac\uc804 \ud615\ud0dc\ub85c \uc800\uc7a5\ub418\ub3c4\ub85d \ud53c\ud074\ub9c1 \uae30\ub2a5\uc744 \ud65c\uc6a9\ud558\uc5ec word.frequency\ub97c url\uc774\ub984 \ub4a4\uc5d0 \ubd99\uc778 \ud30c\uc77c\uba85\uc73c\ub85c \uc800\uc7a5\ud558\uc600\ub2e4. \ub2e4\uc218\uc758 url\ub97c \ubc1b\uae30 \ub54c\ubb38\uc5d0 \ub2e8\uc77c url\uc758 html \uc18c\uc2a4\ucf54\ub4dc\uc640 \ub2e8\uc5b4 \ube48\ub3c4\uc218\ub97c \ud30c\uc77c\ub85c \uc800\uc7a5\ud558\ub294 \ucf54\ub4dc\ub97c \ud568\uc218\ub85c \ubb36\uace0, url\uc744 \ub9ac\uc2a4\ud2b8\uc5d0 \uc800\uc7a5\ud558\uc5ec \ubc18\ubcf5\ubb38\uc73c\ub85c \ud568\uc218\uc5d0 \ub123\uc5b4 \uc6d0\ud558\ub294 \uacb0\uacfc\ub97c \uc5bb\uc744 \uc218 \uc788\uc5c8\ub2e4."
     ]
    },
    {
     "cell_type": "markdown",
     "metadata": {},
     "source": [
      "- [9\ubc88 \ubb38\uc81c] \uc704 \ubb38\uc81c\uc5d0\uc11c \uc800\uc7a5\ud55c \ubaa8\ub4e0 words.frequency \ud30c\uc77c\ub4e4\uc744 \ub85c\ub4dc \ud558\uc5ec \ubcf8\uc778\uc774 \uc800\uc7a5\ud558\uc5ec \ubd84\uc11d\ud55c \uc0ac\uc774\ud2b8\ub4e4\uc5d0\uc11c \uac00\uc7a5 \ub9ce\uc774 \ucd9c\ud604\ud55c \ub2e8\uc5b4\ub97c \ubf51\uc544 \uc81c\uc2dc\ud558\uc2dc\uc624.\n",
      "  - 8\ubc88 \ubb38\uc81c\uc640\ub294 \ub2e4\ub978 \ubcc4\ub3c4\uc758 \ud504\ub85c\uadf8\ub7a8\uc73c\ub85c \uc791\uc131\ud558\uc2dc\uc624."
     ]
    },
    {
     "cell_type": "markdown",
     "metadata": {},
     "source": [
      "* [9\ubc88 \ubb38\uc81c] \uc18c\uc2a4 \ucf54\ub4dc"
     ]
    },
    {
     "cell_type": "code",
     "collapsed": false,
     "input": [
      "#/usr/local/bin/python\n",
      "# coding: utf-8\n",
      "import sys, os, pickle\n",
      "\n",
      "urlList = {\"http://cse.koreatech.ac.kr\", \"http://www.koreatech.ac.kr\", \"http://www.naver.com\", \"http://www.daum.net\", \"http://link.koreatech.ac.kr\"}\n",
      "\n",
      "maxValues = 0\n",
      "maxKeys = ' '\n",
      "maxUrls = ' '\n",
      "\n",
      "totalDict = {}\n",
      "\n",
      "for urls in urlList:\n",
      "\tfreqFile = open(urls[7:] + \".words.frequency\")\n",
      "\tD = pickle.load(freqFile)\n",
      "\tkeys = totalDict.keys()\n",
      "\tfor key, value in D.items():\n",
      "\t\tif(key in keys):\n",
      "\t\t\ttotalDict[key] += value\n",
      "\t\telse:\n",
      "\t\t\ttotalDict[key] = value\n",
      "\n",
      "for key, value in totalDict.items():\n",
      "\tif(maxValues < value):\n",
      "\t\tmaxValues = value\n",
      "\t\tmaxKeys = [key]\n",
      "\telif(maxValues == value):\n",
      "\t\tmaxKeys.append(key)\n",
      "\n",
      "print \"The max of frequency key is\",\n",
      "for s in maxKeys:\n",
      "    print s,\n",
      "\n",
      "print':', maxValues\n",
      "print \"in\", urlList"
     ],
     "language": "python",
     "metadata": {},
     "outputs": [
      {
       "output_type": "stream",
       "stream": "stdout",
       "text": [
        "The max of frequency key is \uc0c1\uc2b9 : 27\n",
        "in set(['http://link.koreatech.ac.kr', 'http://www.naver.com', 'http://cse.koreatech.ac.kr', 'http://www.koreatech.ac.kr', 'http://www.daum.net'])\n"
       ]
      }
     ],
     "prompt_number": 20
    },
    {
     "cell_type": "markdown",
     "metadata": {},
     "source": [
      "* [9\ubc88 \ubb38\uc81c] \uc124\uba85\n",
      "    - \ud53c\ud074\ub9c1\uc73c\ub85c \ud30c\uc77c\uc5d0 \uc800\uc7a5\ub41c \ub2e8\uc5b4 \ube48\ub3c4 \ub370\uc774\ud130\ub97c \uc0ac\uc804\uc758 \ud615\ud0dc\ub85c \ubc1b\uc544\uc628 \ub4a4, \uc5ec\ub7ec url\uc758 \ub2e8\uc5b4 \ube48\ub3c4\ub97c \ub204\uc801\ud558\uc5ec \uce74\uc6b4\ud2b8\ud560 \uc0ac\uc804\uc778 totalDict\uc5d0 \uc800\uc7a5\ud558\uc600\ub2e4. \uadf8\ub9ac\uace0 \ub2e8\uc5b4\uc758 \ube48\ub3c4\uac00 \uac00\uc7a5 \ud070 \uac83\uc744 \ucc3e\uc544\uc11c \ucd9c\ub825\ud558\uc600\ub2e4. \ub2e4\ub9cc \ub3d9\uc77c\ud55c \ube48\ub3c4\uc77c \uacbd\uc6b0 \ub9ac\uc2a4\ud2b8\uc5d0 \ub123\ub3c4\ub85d \ud558\uc600\ub294\ub370, \ucd5c\uace0 \ube48\ub3c4\uac00 \ub2e8 \ud558\ub098\ubc16\uc5d0 \uc5c6\uc5b4\uc11c \uadf8\ub7f0\uc9c0 \ud55c \uac1c\ub9cc \ucd9c\ub825\ub41c \uacb0\uacfc\ub97c \ud655\uc778\ud560 \uc218 \uc788\uc5c8\ub2e4. \uc2dc\uac04\uc5d0 \ub530\ub77c \ubcc0\ud558\uae30 \ub54c\ubb38\uc5d0 \uc2dc\uc2dc\uac01\uac01 \ubcc0\ud558\ub294 \uc6f9 \uc0ac\uc774\ud2b8\uc758 \ud2b9\uc131\uc744 \uccb4\uac10\ud560 \uc218 \uc788\uc5c8\ub2e4."
     ]
    },
    {
     "cell_type": "markdown",
     "metadata": {},
     "source": [
      "### \uc18c\uac10\n",
      "\n",
      "* \uc774\ubc88 \uacfc\uc81c\uc5d0\uc11c \uad49\uc7a5\ud788 \ud765\ubbf8\ub85c\uc6b4 \uac83\uc740 lambda \ud568\uc218\uc758 \uac04\uacb0\ud558\uace0 \ud3b8\ub9ac\ud55c \uad6c\uc870\uc640, \uadf8\ub9ac\uace0 \ud30c\uc77c\uc785\ucd9c\ub825, sha \uc554\ud638\ud654 \uae30\uc220\uc774\uc5c8\ub2e4. lambda \ud568\uc218\ub294 \ub9c8\uce58 \uc218\ud559\uc758 \ud568\uc218\uc640 \uac19\uc774 \uc774\ud574\ud55c\ub2e4\uba74 \uad49\uc7a5\ud788 \ud6a8\uc728\uc801\uc73c\ub85c \ucf54\ub529\uc744 \ud560 \uc218 \uc788\ub2e4\ub294 \uc810\uc5d0\uc11c \uc7ac\ubbf8\uc788\uc5c8\uace0, \ud30c\uc77c \uc785\ucd9c\ub825\uc740 \ud30c\uc774\uc36c\uc5d0\uc11c\ub3c4 \ub370\uc774\ud130\ub97c \uc800\uc7a5\ud558\uace0 \ubd88\ub7ec\uc624\ub294 \uae30\ub2a5\uc744 \uc0ac\uc6a9\ud560 \uc904 \uc54c\uac8c \ub418\uc5c8\ub2e4\ub294 \uc810\uc5d0\uc11c \uc990\uac70\uc6e0\ub2e4. C\ud504\ub85c\uadf8\ub798\ubc0d II\uc758 \ud140\ud504\ub85c\uc81d\ud2b8\ub85c \ud14d\uc2a4\ud2b8 \ud30c\uc77c \ubdf0\uc5b4\ub97c \uac1c\ubc1c\ud55c \uacbd\ud5d8\uc774 \uc788\uae30 \ub54c\ubb38\uc5d0 \ud30c\uc77c\uc785\ucd9c\ub825\uc5d0\ub294 \uc560\ucc29\uc774 \ub9ce\uc774 \uac14\ub2e4. sha \ubaa8\ub4c8\uc744 \uc774\uc6a9\ud55c \uc554\ud638\ud654\ub294 \ud559\uad50 \ucee4\ub9ac\ud058\ub7fc\uc5d0\uc11c \uac70\uc758 \ucc98\uc74c\uc73c\ub85c \uc2e4\ud589\ud574\ubcf8 \uc554\ud638 \uae30\uc220\uc774\ub77c\uc11c \uc2e0\uae30\ud588\ub2e4."
     ]
    }
   ],
   "metadata": {}
  }
 ]
}