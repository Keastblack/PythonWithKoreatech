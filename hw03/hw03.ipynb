{
 "metadata": {
  "name": "",
  "signature": "sha256:6e5359b668bcf4dc4e7cf6ef58b4f41fc9471aee6ab3789acc37de4ef0078a66"
 },
 "nbformat": 3,
 "nbformat_minor": 0,
 "worksheets": [
  {
   "cells": [
    {
     "cell_type": "heading",
     "level": 1,
     "metadata": {},
     "source": [
      "\uc2a4\ud06c\ub9bd\ud2b8 \ud504\ub85c\uadf8\ub798\ubc0d Assignment 3"
     ]
    },
    {
     "cell_type": "markdown",
     "metadata": {},
     "source": [
      "|\ubd84\ubc18|01|\n",
      "|---|---|\n",
      "|\uad50\uc218|\ud55c\uc5f0\ud76c \uad50\uc218\ub2d8|\n",
      "|\ud559\uacfc|\ucef4\ud4e8\ud130\uacf5\ud559\ubd80|\n",
      "|\ud559\ub144|3\ud559\ub144|\n",
      "|\ud559\ubc88|2012136116|\n",
      "|\uc774\ub984|\uc815\uc7ac\uc6b0(wodndb@koreatech.ac.kr)\n",
      "|\uc81c\ucd9c\uc77c|2014\ub144 10\uc6d4 18\uc77c|"
     ]
    },
    {
     "cell_type": "heading",
     "level": 3,
     "metadata": {},
     "source": [
      "\ubb38\uc81c 1) L=[1, 2, 3, 4, 5]\uc77c \ub54c \ub2e4\uc74c \uac01 \ubb38\uc7a5\uc744 \uc218\ud589\ud55c \ud6c4\uc758 \uacb0\uacfc\ub97c \ubcf4\uace0 \ub0a9\ub4dd\ud560 \ub9cc\ud55c \uc774\uc720\ub97c \uc124\uba85\ud558\uc2dc\uc624. "
     ]
    },
    {
     "cell_type": "markdown",
     "metadata": {},
     "source": [
      " \n",
      "  - 1)<pre>L[1:3] = [100]\n",
      "   print L</pre>\n"
     ]
    },
    {
     "cell_type": "code",
     "collapsed": false,
     "input": [
      "#!/usr/local/bin/python\n",
      "# coding: utf-8\n",
      "\n",
      "import sys, os\n",
      "\n",
      "L = [1, 2, 3, 4, 5]\t#initalizing L\n",
      "L[1:3] = [100]\n",
      "print L"
     ],
     "language": "python",
     "metadata": {},
     "outputs": [
      {
       "output_type": "stream",
       "stream": "stdout",
       "text": [
        "[1, 100, 4, 5]\n"
       ]
      }
     ],
     "prompt_number": 2
    },
    {
     "cell_type": "markdown",
     "metadata": {},
     "source": [
      " - [\uc124\uba85] L[1:3]\uc740 \ub9ac\uc2a4\ud2b8 L\uc758 1\ubc88 \uc778\ub371\uc2a4 \uc6d0\uc18c\uc5d0\uc11c 2\ubc88 \uc778\ub371\uc2a4 \uc6d0\uc18c\uae4c\uc9c0\ub77c\ub294 \uc758\ubbf8\ub2e4. \uc774\ub97c 100\uc774\ub77c\ub294 \ud558\ub098\uc758 \uc708\uc18c\ub97c \uc9c0\ub2cc \ub9ac\uc2a4\ud2b8\ub85c \uce58\ud658\ud558\ub77c\ub294 \uc758\ubbf8\ub85c \ucf54\ub4dc\uac00 \ub3d9\uc791\ud558\uc5ec \ub9ac\uc2a4\ud2b8 L\uc758 2\uc640 3\uc774 100\uc73c\ub85c \uce58\ud658\ub418\uc5c8\ub2e4."
     ]
    },
    {
     "cell_type": "markdown",
     "metadata": {},
     "source": [
      "\n",
      "  - 2)<pre>L[1:3] = [(100)]\n",
      "   print L</pre>\n",
      "      "
     ]
    },
    {
     "cell_type": "code",
     "collapsed": false,
     "input": [
      "#!/usr/local/bin/python\n",
      "# coding: utf-8\n",
      "\n",
      "import sys, os\n",
      "\n",
      "L = [1, 2, 3, 4, 5]\t#initalizing L\n",
      "L[1:3] = [(100)]\n",
      "print L"
     ],
     "language": "python",
     "metadata": {},
     "outputs": [
      {
       "output_type": "stream",
       "stream": "stdout",
       "text": [
        "[1, 100, 4, 5]\n"
       ]
      }
     ],
     "prompt_number": 3
    },
    {
     "cell_type": "markdown",
     "metadata": {},
     "source": [
      " - [\uc124\uba85] L[1:3]\uc740 \ub9ac\uc2a4\ud2b8 L\uc758 1\ubc88 \uc778\ub371\uc2a4 \uc6d0\uc18c\uc5d0\uc11c 2\ubc88 \uc778\ub371\uc2a4 \uc6d0\uc18c\uae4c\uc9c0\ub77c\ub294 \uc758\ubbf8\ub2e4. \uc774\ub97c 100\uc774\ub77c\ub294 \ud558\ub098\uc758 \uc708\uc18c\ub97c \uc9c0\ub2cc \ub9ac\uc2a4\ud2b8\ub85c \uce58\ud658\ud558\ub77c\ub294 \uc758\ubbf8\ub85c \ucf54\ub4dc\uac00 \ub3d9\uc791\ud558\uc5ec \ub9ac\uc2a4\ud2b8 L\uc758 2\uc640 3\uc774 100\uc73c\ub85c \uce58\ud658\ub418\uc5c8\ub2e4. 100\uc758 \uc591 \ucabd\uc5d0 \uc0ac\uc6a9\ub41c \uad04\ud638 '()'\ub294 \uad04\ud638 \uc548\uc5d0 \uc788\ub294 \uac83\uc744 \uba3c\uc800 \uc5f0\uc0b0\ud558\ub77c\ub294 \uc6b0\uc120\uc21c\uc704\ub85c\uc11c \uc791\ub3d9\ud558\uc600\uae30 \ub54c\ubb38\uc5d0 1\ubc88\uc758 \uacbd\uc6b0\uc640 \ud070 \ucc28\uc774\uac00 \uc5c6\ub2e4."
     ]
    },
    {
     "cell_type": "markdown",
     "metadata": {},
     "source": [
      "\n",
      "  - 3)<pre>L[1:3] = 100\n",
      "   print L</pre>\n",
      "    \n",
      "  "
     ]
    },
    {
     "cell_type": "code",
     "collapsed": false,
     "input": [
      "#!/usr/local/bin/python\n",
      "# coding: utf-8\n",
      "\n",
      "import sys, os\n",
      "\n",
      "L = [1, 2, 3, 4, 5]\t#initalizing L\n",
      "L[1:3] = 100\n",
      "print L"
     ],
     "language": "python",
     "metadata": {},
     "outputs": [
      {
       "ename": "TypeError",
       "evalue": "can only assign an iterable",
       "output_type": "pyerr",
       "traceback": [
        "\u001b[0;31m---------------------------------------------------------------------------\u001b[0m\n\u001b[0;31mTypeError\u001b[0m                                 Traceback (most recent call last)",
        "\u001b[0;32m<ipython-input-4-4fc5a25689c5>\u001b[0m in \u001b[0;36m<module>\u001b[0;34m()\u001b[0m\n\u001b[1;32m      5\u001b[0m \u001b[0;34m\u001b[0m\u001b[0m\n\u001b[1;32m      6\u001b[0m \u001b[0mL\u001b[0m \u001b[0;34m=\u001b[0m \u001b[0;34m[\u001b[0m\u001b[0;36m1\u001b[0m\u001b[0;34m,\u001b[0m \u001b[0;36m2\u001b[0m\u001b[0;34m,\u001b[0m \u001b[0;36m3\u001b[0m\u001b[0;34m,\u001b[0m \u001b[0;36m4\u001b[0m\u001b[0;34m,\u001b[0m \u001b[0;36m5\u001b[0m\u001b[0;34m]\u001b[0m     \u001b[0;31m#initalizing L\u001b[0m\u001b[0;34m\u001b[0m\u001b[0m\n\u001b[0;32m----> 7\u001b[0;31m \u001b[0mL\u001b[0m\u001b[0;34m[\u001b[0m\u001b[0;36m1\u001b[0m\u001b[0;34m:\u001b[0m\u001b[0;36m3\u001b[0m\u001b[0;34m]\u001b[0m \u001b[0;34m=\u001b[0m \u001b[0;36m100\u001b[0m\u001b[0;34m\u001b[0m\u001b[0m\n\u001b[0m\u001b[1;32m      8\u001b[0m \u001b[0;32mprint\u001b[0m \u001b[0mL\u001b[0m\u001b[0;34m\u001b[0m\u001b[0m\n",
        "\u001b[0;31mTypeError\u001b[0m: can only assign an iterable"
       ]
      }
     ],
     "prompt_number": 4
    },
    {
     "cell_type": "markdown",
     "metadata": {},
     "source": [
      "[\uc124\uba85] \uc5d0\ub7ec\ubb38\uc744 \ubcf4\uba74 \uc624\uc9c1 \ubc18\ubcf5\ub420 \uc218 \uc788\ub294 \uac83\ub9cc \ubc30\uce58\ud560 \uc218 \uc788\ub2e4\uace0 \ub098\uc628\ub2e4. \ub2e4\uc2dc \ub9d0\ud574 \uc2dc\ud038\uc2a4 \uc790\ub8cc\ud615\ub9cc\uc774 \uc62c \uc218 \uc788\ub294 \uc790\ub9ac\uc5d0 \ub2e8\uc21c\ud55c \uc815\uc218\ud615 \uc790\ub8cc\uac00 \ub4e4\uc5b4\uc654\uae30 \ub54c\ubb38\uc5d0 \uc624\ub958\uac00 \ub09c \uac83\uc774\ub2e4. \ub9ac\uc2a4\ud2b8 L\uc758 1\ubc88\ubd80\ud130 2\ubc88 \uc778\ub371\uc2a4\uae4c\uc9c0\uc758 \uc790\ub8cc\ub294 \uc2dc\ud038\uc2a4 \uc790\ub8cc\ud615\uc778\ub370, \uc774 \uc790\ub8cc\ub97c \ub300\uc785\ubb38\uc744 \ud1b5\ud574 \ubc14\uafb8\uae30 \uc704\ud574\uc11c\ub294 \ub9ac\uc2a4\ud2b8\uc640 \ub3d9\uc77c\ud55c \uc2dc\ud038\uc2a4 \uc790\ub8cc\ub97c \uc0ac\uc6a9\ud574\uc57c \ud55c\ub2e4."
     ]
    },
    {
     "cell_type": "markdown",
     "metadata": {},
     "source": [
      "\n",
      "  - 4)<pre>L[1:3] = (100)\n",
      "   print L</pre>\n",
      "    "
     ]
    },
    {
     "cell_type": "code",
     "collapsed": false,
     "input": [
      "#!/usr/local/bin/python\n",
      "# coding: utf-8\n",
      "\n",
      "import sys, os\n",
      "\n",
      "L = [1, 2, 3, 4, 5]\t#initalizing L\n",
      "L[1:3] = (100)\n",
      "print L"
     ],
     "language": "python",
     "metadata": {},
     "outputs": [
      {
       "ename": "TypeError",
       "evalue": "can only assign an iterable",
       "output_type": "pyerr",
       "traceback": [
        "\u001b[0;31m---------------------------------------------------------------------------\u001b[0m\n\u001b[0;31mTypeError\u001b[0m                                 Traceback (most recent call last)",
        "\u001b[0;32m<ipython-input-5-b8f7984525c6>\u001b[0m in \u001b[0;36m<module>\u001b[0;34m()\u001b[0m\n\u001b[1;32m      5\u001b[0m \u001b[0;34m\u001b[0m\u001b[0m\n\u001b[1;32m      6\u001b[0m \u001b[0mL\u001b[0m \u001b[0;34m=\u001b[0m \u001b[0;34m[\u001b[0m\u001b[0;36m1\u001b[0m\u001b[0;34m,\u001b[0m \u001b[0;36m2\u001b[0m\u001b[0;34m,\u001b[0m \u001b[0;36m3\u001b[0m\u001b[0;34m,\u001b[0m \u001b[0;36m4\u001b[0m\u001b[0;34m,\u001b[0m \u001b[0;36m5\u001b[0m\u001b[0;34m]\u001b[0m     \u001b[0;31m#initalizing L\u001b[0m\u001b[0;34m\u001b[0m\u001b[0m\n\u001b[0;32m----> 7\u001b[0;31m \u001b[0mL\u001b[0m\u001b[0;34m[\u001b[0m\u001b[0;36m1\u001b[0m\u001b[0;34m:\u001b[0m\u001b[0;36m3\u001b[0m\u001b[0;34m]\u001b[0m \u001b[0;34m=\u001b[0m \u001b[0;34m(\u001b[0m\u001b[0;36m100\u001b[0m\u001b[0;34m)\u001b[0m\u001b[0;34m\u001b[0m\u001b[0m\n\u001b[0m\u001b[1;32m      8\u001b[0m \u001b[0;32mprint\u001b[0m \u001b[0mL\u001b[0m\u001b[0;34m\u001b[0m\u001b[0m\n",
        "\u001b[0;31mTypeError\u001b[0m: can only assign an iterable"
       ]
      }
     ],
     "prompt_number": 5
    },
    {
     "cell_type": "markdown",
     "metadata": {},
     "source": [
      "[\uc124\uba85] \uc704\uc640 \ub9c8\ucc2c\uac00\uc9c0\uc758 \uc624\ub958\ub2e4. 100\uc758 \uc591\ucabd\uc5d0 \uc0ac\uc6a9\ub41c \uad04\ud638 '()'\ub294 \uc6b0\uc120\uc801\uc73c\ub85c \uad04\ud638 \uc548\uc5d0 \uc788\ub294 \ub0b4\uc6a9\uc744 \uc5f0\uc0b0\ud558\ub77c\ub294 \uc758\ubbf8\ub85c \uc0ac\uc6a9\ub418\uc5c8\uae30 \ub54c\ubb38\uc5d0 \uc2dc\ud038\uc2a4 \uc790\ub8cc\uc5d0 \ub2e8\uc21c \uc815\uc218 \uc790\ub8cc\ud615\uc744 \ub300\uc785\ud55c \uac83\uc774 \ub418\ubbc0\ub85c \uc5d0\ub7ec \ucc98\ub9ac\ub418\uc5c8\ub2e4."
     ]
    },
    {
     "cell_type": "markdown",
     "metadata": {},
     "source": [
      "\n",
      "  - 5)<pre>L[1:3] = (100, 101, 102)\n",
      "   print L</pre>\n"
     ]
    },
    {
     "cell_type": "code",
     "collapsed": false,
     "input": [
      "#!/usr/local/bin/python\n",
      "# coding: utf-8\n",
      "\n",
      "import sys, os\n",
      "\n",
      "L = [1, 2, 3, 4, 5]\t#initalizing L\n",
      "L[1:3] = (100, 101, 102)\n",
      "print L"
     ],
     "language": "python",
     "metadata": {},
     "outputs": [
      {
       "output_type": "stream",
       "stream": "stdout",
       "text": [
        "[1, 100, 101, 102, 4, 5]\n"
       ]
      }
     ],
     "prompt_number": 6
    },
    {
     "cell_type": "markdown",
     "metadata": {},
     "source": [
      "[\uc124\uba85] \uc2dc\ud038\uc2a4 \uc790\ub8cc(\ub9ac\uc2a4\ud2b8)\uc5d0 \uc2dc\ud038\uc2a4 \uc790\ub8cc(\ud29c\ud50c)\ub97c \uc0ac\uc6a9\ud558\uc600\uae30 \ub54c\ubb38\uc5d0 \uadf8\ub300\ub85c [2, 3]\uc774 (100, 101, 102)\ub85c \uce58\ud658\uc774 \ub418\uc5c8\ub2e4. \uce58\ud658\uc774 \ub418\uba74\uc11c \ub3d9\uc2dc\uc5d0 \ud29c\ud50c\uc774 \ub9ac\uc2a4\ud2b8\ub85c \ubcc0\ud658\ub418\uc5c8\ub2e4."
     ]
    },
    {
     "cell_type": "markdown",
     "metadata": {},
     "source": [
      "  - 6)<pre>L[1:3] = [100, 101, 102]\n",
      "   print L</pre>  \n",
      "    \n"
     ]
    },
    {
     "cell_type": "code",
     "collapsed": false,
     "input": [
      "#!/usr/local/bin/python\n",
      "# coding: utf-8\n",
      "\n",
      "import sys, os\n",
      "\n",
      "L = [1, 2, 3, 4, 5]\t#initalizing L\n",
      "L[1:3] = [100, 101, 102]\n",
      "print L"
     ],
     "language": "python",
     "metadata": {},
     "outputs": [
      {
       "output_type": "stream",
       "stream": "stdout",
       "text": [
        "[1, 100, 101, 102, 4, 5]\n"
       ]
      }
     ],
     "prompt_number": 7
    },
    {
     "cell_type": "markdown",
     "metadata": {},
     "source": [
      "[\uc124\uba85] \uc2dc\ud038\uc2a4 \uc790\ub8cc(\ub9ac\uc2a4\ud2b8)\uc5d0 \uc2dc\ud038\uc2a4 \uc790\ub8cc(\ub9ac\uc2a4\ud2b8)\ub97c \uc0ac\uc6a9\ud558\uc600\uae30 \ub54c\ubb38\uc5d0 \uadf8\ub300\ub85c [2, 3]\uc774 [100, 101, 102]\ub85c \uce58\ud658\uc774 \ub418\uc5c8\ub2e4. \uce58\ud658\uc774 \ub418\uba74\uc11c \ub3d9\uc2dc\uc5d0 \ud29c\ud50c\uc774 \ub9ac\uc2a4\ud2b8\ub85c \ubcc0\ud658\ub418\uc5c8\ub2e4."
     ]
    },
    {
     "cell_type": "markdown",
     "metadata": {},
     "source": [
      "  - 7)<pre>L[1:3] = [(100, 101, 102)]\n",
      "   print L</pre>      \n"
     ]
    },
    {
     "cell_type": "code",
     "collapsed": false,
     "input": [
      "#!/usr/local/bin/python\n",
      "# coding: utf-8\n",
      "\n",
      "import sys, os\n",
      "\n",
      "L = [1, 2, 3, 4, 5]\t#initalizing L\n",
      "L[1:3] = [(100, 101, 102)]\n",
      "print L"
     ],
     "language": "python",
     "metadata": {},
     "outputs": [
      {
       "output_type": "stream",
       "stream": "stdout",
       "text": [
        "[1, (100, 101, 102), 4, 5]\n"
       ]
      }
     ],
     "prompt_number": 8
    },
    {
     "cell_type": "markdown",
     "metadata": {},
     "source": [
      "[\uc124\uba85] [(100, 101, 102)]\ub294 (100, 101, 102)\ub77c\ub294 \ud29c\ud50c\uc744 \uc6d0\uc18c\ub85c \uac16\ub294 \ub9ac\uc2a4\ud2b8\ub97c \ub73b\ud55c\ub2e4. \ub530\ub77c\uc11c [(100, 101, 102)]\uc758 \uc6d0\uc18c\ub294 1\uac1c\uc774\uba70, \ud29c\ud50c\uc744 \ud558\ub098\uc758 \uc6d0\uc18c\uc774\uc790 \uac1d\uccb4\ub85c \uc778\uc2dd\ud558\uc600\uae30 \ub54c\ubb38\uc5d0 \uc704\uc640 \uac19\uc740 \uacb0\uacfc\uac00 \ub098\uc654\ub2e4."
     ]
    },
    {
     "cell_type": "markdown",
     "metadata": {},
     "source": [
      "  - 8)<pre>L[1:3] = [[100, 101, 102]]\n",
      "   print L</pre>    "
     ]
    },
    {
     "cell_type": "code",
     "collapsed": false,
     "input": [
      "#!/usr/local/bin/python\n",
      "# coding: utf-8\n",
      "\n",
      "import sys, os\n",
      "\n",
      "L = [1, 2, 3, 4, 5]\t#initalizing L\n",
      "L[1:3] = [[100, 101, 102]]\n",
      "print L"
     ],
     "language": "python",
     "metadata": {},
     "outputs": [
      {
       "output_type": "stream",
       "stream": "stdout",
       "text": [
        "[1, [100, 101, 102], 4, 5]\n"
       ]
      }
     ],
     "prompt_number": 9
    },
    {
     "cell_type": "markdown",
     "metadata": {},
     "source": [
      "[\uc124\uba85] [(100, 101, 102)]\ub294 [100, 101, 102]\ub77c\ub294 \ub9ac\uc2a4\ud2b8\ub97c \ud558\ub098\uc758 \uc6d0\uc18c\ub85c \uac16\ub294 \ub9ac\uc2a4\ud2b8\ub97c \ub73b\ud55c\ub2e4. \ub530\ub77c\uc11c \ub9ac\uc2a4\ud2b8\ub97c \ud558\ub098\uc758 \uc6d0\uc18c\uc774\uc790 \uac1d\uccb4\ub85c \uc778\uc2dd\ud558\uc600\uae30 \ub54c\ubb38\uc5d0 \uc704\uc640 \uac19\uc740 \uacb0\uacfc\uac00 \ub098\uc654\ub2e4."
     ]
    },
    {
     "cell_type": "markdown",
     "metadata": {},
     "source": [
      "### \ubb38\uc81c 2) \ubb38\uc790\uc5f4 S = 'Hello World and Python'\uc5d0 \ub300\ud574 \ub2e4\uc74c \uc694\uad6c\uc0ac\ud56d\uc5d0 \ub300\ud55c Python \ucf54\ub4dc\ub97c \uc81c\uc2dc\ud558\uc2dc\uc624. \n",
      "  - 1) \ub2e8\uc5b4\uc758 \uc21c\uc11c\uac00 \uc5ed\uc21c\uc73c\ub85c \ub418\uc5b4\uc9c4 \ubb38\uc790\uc5f4 ('Python and World Hello')\uc744 \ub9cc\ub4e4\uace0  \n",
      "  - 2) 1)\uc758 \uacb0\uacfc \ubb38\uc790\uc5f4\uc5d0 \ub300\ud574 \uba54\uc18c\ub4dc split\uacfc join\uc744 \uc774\uc6a9\ud558\uc5ec \uacf5\ubc31\uc744 \ubaa8\ub450 \uc5c6\uc5d4 \ubb38\uc790\uc5f4 'PythonandWorldHello'\uc744 \ub9cc\ub4dc\uc2dc\uc624."
     ]
    },
    {
     "cell_type": "code",
     "collapsed": false,
     "input": [
      "#!/usr/local/bin/ipython\n",
      "# coding: utf-8\n",
      "\n",
      "S = 'Hello World and Python'\n",
      "L = S.split()\n",
      "print \"\uc6d0\ub798 \ubb38\uc790\uc5f4 :\", S\n",
      "L.reverse()\n",
      "RL = ' '.join(L)\n",
      "print \"\uac70\uafb8\ub85c \ucd9c\ub825 :\", RL\n",
      "RRL = ''.join(RL.split())\n",
      "print '\uacf5\ubc31 \uc81c\uac70 :', RRL"
     ],
     "language": "python",
     "metadata": {},
     "outputs": [
      {
       "output_type": "stream",
       "stream": "stdout",
       "text": [
        "\uc6d0\ub798 \ubb38\uc790\uc5f4 : Hello World and Python\n",
        "\uac70\uafb8\ub85c \ucd9c\ub825 : Python and World Hello\n",
        "\uacf5\ubc31 \uc81c\uac70 : PythonandWorldHello\n"
       ]
      }
     ],
     "prompt_number": 10
    },
    {
     "cell_type": "markdown",
     "metadata": {},
     "source": [
      "[\uc124\uba85] \uc6d0\ub798 \ubb38\uc790\uc5f4\uc744 split \uba54\uc18c\ub4dc\ub97c \uc0ac\uc6a9\ud558\uc5ec \ubb38\uc790\uc5f4\ub85c \ub9cc\ub4e4\uace0, reverse \uba54\uc18c\ub4dc\ub97c \uc0ac\uc6a9\ud558\uc5ec \uc5ed\uc21c\uc73c\ub85c \ub2e8\uc5b4\ub97c \ubc30\uce58\ud55c \ub2e4\uc74c \uacf5\ubc31\ubb38\uc790\ub97c \uae30\uc900\uc73c\ub85c join \uba54\uc18c\ub4dc\ub97c \uc0ac\uc6a9\ud558\uc5ec \ubb38\uc790\uc5f4\uc744 \uac70\uafb8\ub85c \ubc30\uc5f4\ud558\uc600\ub2e4. \uacf5\ubc31\uc744 \uc81c\uac70\ud560 \ub54c\ub294 \ube44\uc5b4\uc788\ub294 \ubb38\uc790\ub97c \uae30\uc900\uc73c\ub85c join \uba54\uc18c\ub4dc\ub97c \uc0ac\uc6a9\ud558\uba74 \ub41c\ub2e4."
     ]
    },
    {
     "cell_type": "markdown",
     "metadata": {},
     "source": [
      "###\ubb38\uc81c 3) \ub2e4\uc74c \ucf54\ub4dc\ub97c \ubcf4\uace0 \ubb3c\uc74c\uc5d0 \ub2f5\ud558\uc2dc\uc624.\n",
      "  <pre>a = [1, 2, 3]\n",
      "  b = a &#42; 3\n",
      "  c = [a] &#42; 3\n",
      "  print b\n",
      "  print c</pre>\n",
      "\n",
      "  - 1) \uc704 \ucf54\ub4dc\ub97c \uc218\ud589\ud55c \uc774\ud6c4 \ub2e4\uc74c \ucf54\ub4dc\ub97c \uc218\ud589\ud55c \ud6c4 b\uc640 c\uc758 \ub0b4\uc6a9\uc744 \ud655\uc778\ud558\uc2dc\uc624.\n",
      "    <pre>a[0]=0</pre>\n",
      "  - 2) b\uc640 c \uac1d\uccb4\uc758 \ucc28\uc774\ub294 \ubb34\uc5c7\uc778\uac00?"
     ]
    },
    {
     "cell_type": "code",
     "collapsed": false,
     "input": [
      "#!/usr/local/bin/python\n",
      "# coding: utf-8\n",
      "\n",
      "import sys, os\n",
      "\n",
      "a = [1, 2, 3]\n",
      "b = a * 3\n",
      "c = [a] * 3\n",
      "print b\n",
      "print c\n",
      "print\n",
      "\n",
      "a[0] = 0\n",
      "\n",
      "print b\n",
      "print c"
     ],
     "language": "python",
     "metadata": {},
     "outputs": [
      {
       "output_type": "stream",
       "stream": "stdout",
       "text": [
        "[1, 2, 3, 1, 2, 3, 1, 2, 3]\n",
        "[[1, 2, 3], [1, 2, 3], [1, 2, 3]]\n",
        "\n",
        "[1, 2, 3, 1, 2, 3, 1, 2, 3]\n",
        "[[0, 2, 3], [0, 2, 3], [0, 2, 3]]\n"
       ]
      }
     ],
     "prompt_number": 22
    },
    {
     "cell_type": "markdown",
     "metadata": {},
     "source": [
      "[\uc124\uba85] b\uac1d\uccb4\ub294 a\ub77c\ub294 \ub9ac\uc2a4\ud2b8 \uac1d\uccb4\uc758 \uc790\ub8cc\ub4e4\uc744 \uc138 \ubc88 \ub354\ud55c \uacb0\uacfc\ub97c \uc800\uc7a5\ud55c \uac83\uc774\ub2e4. \uadf8\ub798\uc11c \uc815\uc218\ud615 \uc790\ub8cc 9\uac1c\ub97c \uc6d0\uc18c\ub85c \uac00\uc9c0\uace0 \uc788\ub294 \uac83\uc774\ub2e4. \ubc18\uba74 c\uac1d\uccb4\ub294 a\ub77c\ub294 \uac1d\uccb4\ub97c \ud558\ub098\uc758 \uc6d0\uc18c\ub85c \uac16\ub294 \ub9ac\uc2a4\ud2b8 \uac1d\uccb4\ub97c \uc138 \ubc88 \ub354\ud55c \uacb0\uacfc\ub97c \uc800\uc7a5\ud55c \uac83\uc774\ub2e4. \ub530\ub77c\uc11c a\ub77c\ub294 \ub9ac\uc2a4\ud2b8 \uac1d\uccb4 \uc138 \uac1c\ub97c \uc6d0\uc18c\ub85c \uac00\uc9c0\uace0 \uc788\uc73c\uba70, \uac1d\uccb4\ub97c \ucc38\uc870\ud558\uace0 \uc788\ub2e4. a[0] = 0\uc774\ub77c\ub294 \ucf54\ub4dc\ub97c \uc218\ud589\ud55c \ub4a4\uc758 \uacb0\uacfc\uc640 \ube44\uad50\ud574\ubcf4\uba74 \uc774\ub97c \uba85\ud655\ud788 \ud655\uc778\ud560 \uc218 \uc788\ub2e4. b\uac1d\uccb4\ub294 a\uac1d\uccb4\ub97c \ucc38\uc870\ud558\ub294 \uac83\uc774 \uc544\ub2c8\ub77c, a\uac1d\uccb4\uc758 \uc790\ub8cc\ub4e4\uc744 \ubcf5\uc0ac\ud574 \ub354\ud55c \uacb0\uacfc\uc774\uae30 \ub54c\ubb38\uc5d0 a\uac1d\uccb4\ub97c \uc804\ud600 \ucc38\uc870\ud558\uace0 \uc788\uc9c0 \uc54a\uc73c\ubbc0\ub85c a\uac1d\uccb4\uc758 \uc790\ub8cc \ubcc0\ud654\uc5d0 \uc601\ud5a5\uc744 \ubc1b\uc9c0 \uc54a\ub294\ub2e4. \ud558\uc9c0\ub9cc c \uac1d\uccb4\ub294 \uba85\ubc31\ud788 a\ub77c\ub294 \uac1d\uccb4\ub97c \ucc38\uc870\ud558\uc5ec \uc774\ub97c \uc6d0\uc18c\ub85c \uc0bc\uc558\uae30 \ub54c\ubb38\uc5d0 a \uac1d\uccb4 \uc790\ub8cc\uc758 \ubcc0\ud654\uc5d0 \ub530\ub77c \uadf8 \uac12\uc774 \ub2ec\ub77c\uc9c4\ub2e4."
     ]
    },
    {
     "cell_type": "markdown",
     "metadata": {},
     "source": [
      "###\ubb38\uc81c 4) \ub2e4\uc74c \ubb38\uc790\uc5f4\uc744 ':'\uc744 \uae30\uc900\uc73c\ub85c \ubd84\ub9ac\ud558\uc5ec \ub9ac\uc2a4\ud2b8\ub85c \ub9cc\ub4e4\uace0 \uac01 \ubb38\uc790\uc5f4\uc758 \uc88c\uc6b0 \uacf5\ubc31\uc744 \uc81c\uac70\ud558\uc2dc\uc624 (\uc989, \ubb38\uc790\uc5f4 S\uc5d0\uc11c l\uc744 \ub9cc\ub4e4\uc5b4\ub77c)\n",
      "<pre>\n",
      "s = '  first star   :   second star   :    third star  '\n",
      "l = ['first star', 'second star', 'third star']\n",
      "</pre>\n",
      "  - 1) for ~ in \ubb38\uc744 \uc774\uc6a9\ud55c \ucf54\ub4dc\ub97c \uc791\uc131\ud558\uc2dc\uc624. \n",
      "  - 2) \ub9ac\uc2a4\ud2b8 \ub0b4\ud3ec(list comprehension)\ub97c \uc774\uc6a9\ud55c \ucf54\ub4dc\ub97c \uc791\uc131\ud558\uc2dc\uc624."
     ]
    },
    {
     "cell_type": "code",
     "collapsed": false,
     "input": [
      "#!/usr/local/bin/python\n",
      "#coding:utf-8\n",
      "\n",
      "s = '  first star   :   second star   :   third star  '\n",
      "L = s.split(':')\n",
      "\n",
      "print \"< 1. for ~ in \ub9ac\ud130\ub7f4\uc744 \uc0ac\uc6a9\ud55c \ubb38\uc81c \ud574\uacb0>\" \n",
      "\n",
      "for k in range(len(L)):\n",
      "\tL[k] = L[k].strip()\n",
      "\n",
      "print L\n",
      "\n",
      "print\n",
      "print \"< 2. \ub9ac\uc2a4\ud2b8 \ub0b4\ud3ec\ub97c \uc0ac\uc6a9\ud55c \ubb38\uc81c \ud574\uacb0>\"\n",
      "\n",
      "s = '  first star   :   second star   :   third star  '\n",
      "L = s.split(':')\n",
      "\n",
      "L = [L[k].strip() for k in range(len(L))]\n",
      "\n",
      "print L"
     ],
     "language": "python",
     "metadata": {},
     "outputs": [
      {
       "output_type": "stream",
       "stream": "stdout",
       "text": [
        "< 1. for ~ in \ub9ac\ud130\ub7f4\uc744 \uc0ac\uc6a9\ud55c \ubb38\uc81c \ud574\uacb0>\n",
        "['first star', 'second star', 'third star']\n",
        "\n",
        "< 2. \ub9ac\uc2a4\ud2b8 \ub0b4\ud3ec\ub97c \uc0ac\uc6a9\ud55c \ubb38\uc81c \ud574\uacb0>\n",
        "['first star', 'second star', 'third star']\n"
       ]
      }
     ],
     "prompt_number": 12
    },
    {
     "cell_type": "markdown",
     "metadata": {},
     "source": [
      "[\uc124\uba85] ':'\uc744 \uae30\uc900\uc73c\ub85c \ubb38\uc790\uc5f4\uc744 \ubd84\ub9ac\ud574 \ub9ac\uc2a4\ud2b8\ub97c \ub9cc\ub4e4\uae30 \uc704\ud574 \uc6b0\uc120 split\ud568\uc218\ub97c \uc0ac\uc6a9\ud558\uc600\ub2e4. \uadf8 \ub2e4\uc74c\uc5d0 \ub9ac\uc2a4\ud2b8\uc758 \uac01 \uc6d0\uc18c\uc778 \ubb38\uc790\uc5f4\uc758 \uacf5\ubc31\uc744 \uac01\uac01 \uc81c\uac70\ud574\uc57c \ud558\ub294\ub370, \uc774 \ub54c \ubc18\ubcf5\ubb38\uc774 \ud544\uc694\ud558\ub2e4. for\ubb38\uacfc \ub9ac\uc2a4\ud2b8 \ub0b4\ud3ec \ub458 \ub2e4 strip\ud568\uc218\ub97c \uc0ac\uc6a9\ud558\uc5ec \uac01 \ubb38\uc790\uc5f4\uc758 \uc88c\uc6b0 \uacf5\ubc31\uc744 \uc81c\uac70\ud560 \uc218 \uc788\uc5c8\ub2e4."
     ]
    },
    {
     "cell_type": "markdown",
     "metadata": {},
     "source": [
      "###\ubb38\uc81c 5)  \ub2e4\uc74c\uacfc \uac19\uc774 0\ubcf4\ub2e4 \ud070 \uc815\uc218 \ub9ac\uc2a4\ud2b8 \ubcc0\uc218 list\ub97c \uc778\uc790\ub85c \ubc1b\ub294 \ud568\uc218 addall(list)\uc640 addallodd(list)\ub97c for ~ in \ub9ac\ud130\ub110\uacfc \ub9ac\uc2a4\ud2b8 \ub0b4\ud3ec \ubc29\uc2dd\uc73c\ub85c \uac01\uac01 \uc81c\uc2dc\ud558\uc2dc\uc624.\n",
      "  - 1) addall(list) \ud568\uc218 (\ub9ac\uc2a4\ud2b8 \ub0b4\uc758 \ubaa8\ub4e0 \uc815\uc218\ub97c \ub354\ud558\ub294 \ud568\uc218\ub85c\uc11c \ud574\ub2f5\uc73c\ub85c\ub294 for ~ in \ub9ac\ud130\ub7f4\uacfc \ub9ac\uc2a4\ud2b8 \ub0b4\ud3ec \ubc29\uc2dd\uc73c\ub85c \uac01\uac01 \uc81c\uc2dc\ud558\uc2dc\uc624.)\n",
      "    - <pre>>>> addall([1])\n",
      "    1</pre>\n",
      "    - <pre>>>> addall([1, 2, 3, 4, 5, 6, 7, 8, 9])\n",
      "    45</pre>\n"
     ]
    },
    {
     "cell_type": "code",
     "collapsed": false,
     "input": [
      "#!usr/local/bin/python\n",
      "# coding: utf-8\n",
      "\n",
      "def addall(L):\n",
      "\t\"Return SUM of element in List that is parameter of this function by for~in literal\"\n",
      "\tresult = 0\n",
      "\tfor k in range(len(L)):\n",
      "\t\tif(type(L[k]) == int):\n",
      "\t\t\tresult += L[k]\n",
      "\n",
      "\treturn result\n",
      "\n",
      "print \">>> addall([1])\"\n",
      "print addall([1])\n",
      "print\n",
      "print \">>> addall([1, 2, 3, 4, 5, 6, 7, 8, 9])\"\n",
      "print addall([1, 2, 3, 4, 5, 6, 7, 8, 9])\n",
      "print"
     ],
     "language": "python",
     "metadata": {},
     "outputs": [
      {
       "output_type": "stream",
       "stream": "stdout",
       "text": [
        ">>> addall([1])\n",
        "1\n",
        "\n",
        ">>> addall([1, 2, 3, 4, 5, 6, 7, 8, 9])\n",
        "45\n",
        "\n"
       ]
      }
     ],
     "prompt_number": 13
    },
    {
     "cell_type": "code",
     "collapsed": false,
     "input": [
      "#!usr/local/bin/python\n",
      "# coding: utf-8\n",
      "\n",
      "def addall(L):\n",
      "\t\"Return SUM of element in List that is parameter of this function by list comprehension\"\n",
      "\treturn sum([L[k] for k in range(len(L)) if type(L[k]) == int])\n",
      "\n",
      "print \">>> addall([1])\"\n",
      "print addall([1])\n",
      "print\n",
      "print \">>> addall([1, 2, 3, 4, 5, 6, 7, 8, 9])\"\n",
      "print addall([1, 2, 3, 4, 5, 6, 7, 8, 9])\n",
      "print"
     ],
     "language": "python",
     "metadata": {},
     "outputs": [
      {
       "output_type": "stream",
       "stream": "stdout",
       "text": [
        ">>> addall([1])\n",
        "1\n",
        "\n",
        ">>> addall([1, 2, 3, 4, 5, 6, 7, 8, 9])\n",
        "45\n",
        "\n"
       ]
      }
     ],
     "prompt_number": 14
    },
    {
     "cell_type": "markdown",
     "metadata": {},
     "source": [
      "  - 2) addallodd(list) \ud568\uc218 (\ub9ac\uc2a4\ud2b8\ub0b4\uc758 \ubaa8\ub4e0 \ud640\uc218\ub97c \ub354\ud558\ub294 \ud568\uc218\ub85c\uc11c \ud574\ub2f5\uc73c\ub85c\ub294 for ~ in \ub9ac\ud130\ub7f4\uacfc \ub9ac\uc2a4\ud2b8 \ub0b4\ud3ec \ubc29\uc2dd\uc73c\ub85c \uac01\uac01 \uc81c\uc2dc\ud558\uc2dc\uc624.)\n",
      "    - <pre>>>> addallodd([1])\n",
      "    1</pre>\n",
      "    - <pre>>>> addallodd([1, 2, 3, 4, 5, 6, 7, 8, 9])\n",
      "    25</pre>\n"
     ]
    },
    {
     "cell_type": "code",
     "collapsed": false,
     "input": [
      "#!usr/local/bin/python\n",
      "# coding: utf-8\n",
      "\n",
      "def addallodd(L):\n",
      "\t\"Return SUM of odd element in List that is parameter of this function by for~in literal\"\n",
      "\tresult = 0\n",
      "\tfor k in range(len(L)):\n",
      "\t\tif(type(L[k]) == int and L[k] % 2 == 1):\n",
      "\t\t\tresult += L[k]\n",
      "\n",
      "\treturn result\n",
      "\n",
      "print \">>> addallodd([1])\"\n",
      "print addallodd([1])\n",
      "print\n",
      "print \">>> addallodd([1, 2, 3, 4, 5, 6, 7, 8, 9])\"\n",
      "print addallodd([1, 2, 3, 4, 5, 6, 7, 8, 9])\n",
      "print"
     ],
     "language": "python",
     "metadata": {},
     "outputs": [
      {
       "output_type": "stream",
       "stream": "stdout",
       "text": [
        ">>> addallodd([1])\n",
        "1\n",
        "\n",
        ">>> addallodd([1, 2, 3, 4, 5, 6, 7, 8, 9])\n",
        "25\n",
        "\n"
       ]
      }
     ],
     "prompt_number": 15
    },
    {
     "cell_type": "code",
     "collapsed": false,
     "input": [
      "#!usr/local/bin/python\n",
      "# coding: utf-8\n",
      "\n",
      "def addallodd(L):\n",
      "\t\"Return SUM of odd element in List that is parameter of this function by list comprehension\"\n",
      "\treturn sum([L[k] for k in range(len(L)) if type(L[k]) == int and L[k] % 2 == 1])\n",
      "\n",
      "print \">>> addallodd([1])\"\n",
      "print addallodd([1])\n",
      "print\n",
      "print \">>> addallodd([1, 2, 3, 4, 5, 6, 7, 8, 9])\"\n",
      "print addallodd([1, 2, 3, 4, 5, 6, 7, 8, 9])\n",
      "print"
     ],
     "language": "python",
     "metadata": {},
     "outputs": [
      {
       "output_type": "stream",
       "stream": "stdout",
       "text": [
        ">>> addallodd([1])\n",
        "1\n",
        "\n",
        ">>> addallodd([1, 2, 3, 4, 5, 6, 7, 8, 9])\n",
        "25\n",
        "\n"
       ]
      }
     ],
     "prompt_number": 16
    },
    {
     "cell_type": "markdown",
     "metadata": {},
     "source": [
      "  - [\ucc38\uace0 (2014\ub144 10\uc6d4 13\uc77c)]: \ub9ac\uc2a4\ud2b8 \ub0b4\ud3ec \ubc29\uc2dd\uc73c\ub85c addall() \ubc0f addallodd()\ud568\uc218\ub97c \ub9cc\ub4e4 \ub54c\uc5d4 \ub9ac\uc2a4\ud2b8 \ub0b4\ud3ec\uc5d0 \uc758\ud574 \uc0dd\uc131\ub41c \ub9ac\uc2a4\ud2b8 \uacb0\uacfc\uc5d0 \ub300\ud574 \ub0b4\uc7a5 \ud568\uc218\ub97c \uc0ac\uc6a9\ud558\ub294 \ubc29\uc2dd\uc744 \uace0\ub824\ud574\ubcf4\uc2dc\uc624 (\uc8fc\uc758: \ub9ac\uc2a4\ud2b8 \ub0b4\ud3ec \ubc29\uc2dd\uc758 addall() \ubc0f addallodd() \ud568\uc218\uc758 \ubab8\uccb4\ub294 \ub2e8 1\uc904\ub85c \uc791\uc131\ub418\uc5b4\uc57c \ud55c\ub2e4.) "
     ]
    },
    {
     "cell_type": "markdown",
     "metadata": {},
     "source": [
      "[\uc124\uba85] \uc774 \ubb38\uc81c\uc5d0\uc11c \ub9ac\uc2a4\ud2b8 \ub0b4\ud3ec\ub97c \uc0ac\uc6a9\ud558\ub294 \ubc29\ubc95\uc740 \uc548\uc88b\uc740 \ubc29\ubc95\uc774\ub2e4. \uadf8 \uc774\uc720\ub294 \uac1d\uccb4\ub97c \ub2e4\uc2dc \ub9cc\ub4e4\uc5b4\uc57c \ud558\uae30 \ub54c\ubb38\uc774\ub2e4. \uc774 \uacbd\uc6b0 \uacf5\uac04\ubcf5\uc7a1\ub3c4\uac00 for\ubb38\uc744 \uc0ac\uc6a9\ud588\uc744 \ub54c\ubcf4\ub2e4 \ub192\uc544\uc9c0\uae30 \ub54c\ubb38\uc5d0 \ucc98\uc74c\uc5d0 \ubb38\uc81c\ub97c \ubc1b\uc558\uc744 \ub54c \uc774\ud574\ud558\uae30 \uc5b4\ub824\uc6e0\ub2e4. \uc785\ub825\ub41c \ub9ac\uc2a4\ud2b8 \uc790\ub8cc\ub97c \ubcc0\uacbd\ud560 \uc218 \uc5c6\ub2e4\ub294 \uac00\uc815\ud558\uc5d0 \uc790\ub8cc\uc911\uc5d0 \ud640\uc218\ub9cc \ucd94\ucd9c\ud558\uac70\ub098 \ud2b9\uc815\ud55c \uc870\uac74\uc758 \uc218\ub97c \ucd94\ucd9c\ud558\uc5ec \uc0c8\ub85c\uc6b4 \ub9ac\uc2a4\ud2b8\ub97c \ub9cc\ub4e4 \uacbd\uc6b0\uc5d0\ub294 \uc720\uc6a9\ud558\uac8c \uc0ac\uc6a9\ub420 \uc218 \uc788\uc744 \uac83 \uac19\ub2e4."
     ]
    },
    {
     "cell_type": "markdown",
     "metadata": {},
     "source": [
      "###\ubb38\uc81c 6) \ub2e4\uc74c \ucf54\ub4dc\ub97c \ubcf4\uace0 \ubb3c\uc74c\uc5d0 \ub2f5\ud558\uc2dc\uc624.\n",
      "  <pre>L1 = [1, 2, 3]\n",
      "L2 = [4, 5, 6]\n",
      "d = {'low':L1, 'high':L2}\n",
      "e = d\n",
      "f = d.copy()\n",
      "print d\n",
      "print e\n",
      "print f\n",
      "print\n",
      "d['low'] = [10, 20, 30]\n",
      "d['high'][1] = 500\n",
      "print d\n",
      "print e\n",
      "print f</pre>\n",
      "\n",
      "  - 1) \uc704 \ucf54\ub4dc\uc758 \uc218\ud589 \uacb0\uacfc d\uc640 e\ub294 \ud56d\uc0c1 \uac19\uc740 \uacb0\uacfc\ub97c \ucd9c\ub825\ud55c\ub2e4. \uadf8 \uc774\uc720\ub294 \ubb34\uc5c7\uc778\uac00?\n",
      "  - 2) \uc704 \ucf54\ub4dc\uc758 \uc218\ud589 \uacb0\uacfc \ub9c8\uc9c0\ub9c9 f\uc758 \ub0b4\uc6a9\uc740 \ub2e4\uc74c\uacfc \uac19\ub2e4. \uc774 \ub54c 'high' \ud0a4\uc758 \uac12 \ub0b4\uc6a9 \uc911 500\uc774 \ucd9c\ub825\ub41c \uc774\uc720\uc640 'low' \ud0a4\uc758 \uac12 \ub0b4\uc6a9 \uc911 [1, 2, 3]\uc774 \ucd9c\ub825\ub41c \uc774\uc720\ub97c \uc124\uba85\ud558\uc2dc\uc624 ([hint]: shallow copy \uad00\uc810\uc5d0\uc11c \uc124\uba85\ud558\uc2dc\uc624.)\n",
      "  <pre>{'high': [4, 500, 6], 'low': [1, 2, 3]}</pre>\n",
      "  "
     ]
    },
    {
     "cell_type": "code",
     "collapsed": false,
     "input": [
      "#!/usr/local/bin/python\n",
      "# coding: utf-8\n",
      "\n",
      "import sys, os\n",
      "L1 = [1, 2, 3]\n",
      "L2 = [4, 5, 6]\n",
      "d = {'low':L1, 'high':L2}\n",
      "e = d\n",
      "f = d.copy()\n",
      "print d\n",
      "print e\n",
      "print f\n",
      "print\n",
      "d['low'] = [10, 20, 30]\n",
      "d['high'][1] = 500\n",
      "print d\n",
      "print e\n",
      "print f"
     ],
     "language": "python",
     "metadata": {},
     "outputs": [
      {
       "output_type": "stream",
       "stream": "stdout",
       "text": [
        "{'high': [4, 5, 6], 'low': [1, 2, 3]}\n",
        "{'high': [4, 5, 6], 'low': [1, 2, 3]}\n",
        "{'high': [4, 5, 6], 'low': [1, 2, 3]}\n",
        "\n",
        "{'high': [4, 500, 6], 'low': [10, 20, 30]}\n",
        "{'high': [4, 500, 6], 'low': [10, 20, 30]}\n",
        "{'high': [4, 500, 6], 'low': [1, 2, 3]}\n"
       ]
      }
     ],
     "prompt_number": 17
    },
    {
     "cell_type": "markdown",
     "metadata": {},
     "source": [
      "[\uc124\uba85]\n",
      "\n",
      " - 1) e\ub294 \uac1d\uccb4 d\ub97c Shallow copy\ub97c \ud55c \uac83\uc774\uba70 f\ub294 \uac1d\uccb4 d\ub97c deep copy\ub97c \ud55c \uac83\uc774\ub2e4. \uc77c\ub2e8\uc740 \uac19\uc740 \uac1d\uccb4\ub97c \ubcf5\uc0ac\ud558\uc600\uae30 \ub54c\ubb38\uc5d0 \uac12\uc774 \ub3d9\uc77c\ud558\uac8c \ucd9c\ub825\ub418\uc5c8\ub2e4.\n",
      " - 2) C\uc5b8\uc5b4\uc5d0\uc11c \ud3ec\uc778\ud130\ub77c\ub294 \uac1c\ub150\uc744 \ub2e4\ub8e8\uace0 \uc788\ub294\ub370 \ud30c\uc774\uc36c\uc5d0\uc11c\ub3c4 \ub3d9\uc77c\ud558\uac8c \ub2e4\ub8e8\uace0 \uc788\ub2e4. Shallow Copy\ub294 \uc8fc\uc18c\uac12\uc744 \uadf8\ub300\ub85c \ubcf5\uc0ac\ud558\uae30 \ub54c\ubb38\uc5d0 \uc6d0\ub798 \uc790\ub8cc\ub97c \uacc4\uc18d \ucc38\uc870\ud558\ub294 \ubc29\uc2dd\uc73c\ub85c \uc791\ub3d9\ud55c\ub2e4. \ub530\ub77c\uc11c \uc6d0\ub798 \uc790\ub8cc\uac00 \ubc14\ub00c\uba74 \uadf8 \uac12\uc744 \ucc38\uc870\ud558\uae30 \ub54c\ubb38\uc5d0 \uac19\uc774 \uac12\uc774 \ubc14\ub00c\ub294 \uac83\ucc98\ub7fc \ubcf4\uc778\ub2e4. Deep Copy\ub294 \uc8fc\uc18c\uac12\uc744 \ucc38\uc870\ud55c \uc790\ub8cc\ub97c \ubcf5\uc0ac\ud558\uae30 \ub54c\ubb38\uc5d0 \uc6d0\ub798 \uc790\ub8cc\uac00 \ubc14\ub00c\uc5b4\ub3c4 Deep Copy\ub97c \ud55c \uc790\ub8cc\uc758 \uac12\uc5d0\ub294 \ubcc0\ub3d9\uc774 \uc5c6\ub2e4.\n",
      "    e\ub294 d\ub97c Shallow Copt\ud588\uae30 \ub54c\ubb38\uc5d0 d\uac00 \ubcc0\ud558\uba74 \uac12\uc774 \uadf8\ub300\ub85c \ubcc0\ud55c\ub2e4. \ubc18\uba74 f\ub294 d\uc758 \uc790\ub8cc\uc778 L1\uacfc L2\ub97c \uadf8\ub300\ub85c \ubcf5\uc0ac\ud588\uae30 \ub54c\ubb38\uc5d0 L1\uacfc L2\ub97c \uc9c1\uc811 \ucc38\uc870\ud55c\ub2e4. \ub530\ub77c\uc11c d\uc758 low\ud0a4 \uac12\uc744 \ubc14\uafb8\uc5c8\uc744 \ub54c, d\ub97c \ucc38\uc870\ud558\uace0 \uc788\ub294 e\ub294 \uac12\uc774 [10, 20, 30]\uc73c\ub85c \ucd9c\ub825\ub418\uc9c0\ub9cc, f\ub294 Low\ud0a4 \uac12\uc774 L2\ub97c \uc9c1\uc811 \ucc38\uc870\ud558\uae30 \ub54c\ubb38\uc5d0 \uadf8\ub300\ub85c [1, 2, 3]\uc774 \ub72c\ub2e4. \ubc18\uba74 high \ud0a4\uc758 \ub9ac\uc2a4\ud2b8\uc5d0\uc11c \uc778\ub371\uc2a4 1\ubc88 \uac12\uc744 500\uc73c\ub85c \ubcc0\uacbd\ud55c \uac83\uc740 L1\uc758 \uc778\ub371\uc2a4 1\ubc88\uc744 \ubcc0\uacbd\ud55c \uac83\uc774\ub2e4. e\uac00 \ucc38\uc870\ud558\uace0 \uc788\ub294 d\uc758 high\uac00 L1\uc744 \ucc38\uc870\ud558\uace0 \uc788\uace0, f\ub3c4 high\uc5d0\uc11c L1\uc744 \ucc38\uc870\ud558\uace0 \uc788\ub294\ub370, L1\uc758 1\ubc88 \uc778\ub371\uc2a4\ub97c \ubc14\uafb8\uc5c8\uae30 \ub54c\ubb38\uc5d0 \uc774\ub97c \ucc38\uc870\ud558\uace0 \uc788\ub294 d, f\uc758 high \ud0a4 \uac12\uc774 \ubc14\ub00c\uc5c8\uace0, e\ub3c4 d\ub97c \ucc38\uc870\ud558\uace0 \uc788\uae30 \ub54c\ubb38\uc5d0 \ub3d9\uc77c\ud558\uac8c \uac12\uc774 \ubc14\ub00c\uc5c8\ub2e4. \ub530\ub77c\uc11c \uc704\uc640 \uac19\uc740 \uacb0\uacfc\uac00 \ub098\uc624\uac8c \ub418\uc5c8\ub2e4."
     ]
    },
    {
     "cell_type": "markdown",
     "metadata": {},
     "source": [
      "###\ubb38\uc81c 7) \uc0ac\uc804 d = {'one':1, 'two':2, 'three':3, 'four':4, 'five':5}\uac00 \uc8fc\uc5b4\uc84c\uc744 \ub54c \ub2e4\uc74c \uc694\uad6c\uc0ac\ud56d\uc5d0 \ub9de\ub294 \ucf54\ub4dc\ub97c \uc81c\uc2dc\ud558\uc2dc\uc624 \n",
      "  - [\ucc38\uace0]: d.keys(), d.values()\ub97c \ud1b5\ud574 \ub9ac\uc2a4\ud2b8\ub97c \uc5bb\uc5b4\ub0b8 \ud6c4 \ub9ac\uc2a4\ud2b8\uac00 \uc9c0\ub2c8\uace0 \uc788\ub294 sort(cmp=None, key=None, reverse=False)\ud568\uc218\ub97c \ud65c\uc6a9\ud558\uc2dc\uc624.\n",
      "  - 1) \ud0a4\uc758 \uc54c\ud30c\ubcb3 \uc624\ub984\ucc28\uc21c \uc21c\uc11c\ub300\ub85c \ud29c\ud50c (\ud0a4, \uac12)\uc744 \ucc28\ub840\ub300\ub85c \ucd9c\ub825\ud558\uc2dc\uc624.\n",
      "  - 2) \ud0a4\uc758 \uc54c\ud30c\ubcb3 \ub0b4\ub9bc\ucc28\uc21c \uc21c\uc11c\ub300\ub85c \ud29c\ud50c (\ud0a4, \uac12)\uc744 \ucc28\ub840\ub300\ub85c \ucd9c\ub825\ud558\uc2dc\uc624.\n",
      "  - 3) \uac12\uc758 \uc624\ub984\ucc28\uc21c \uc21c\uc11c\ub300\ub85c \ud29c\ud50c (\ud0a4, \uac12)\uc744 \ucc28\ub840\ub300\ub85c \ucd9c\ub825\ud558\uc2dc\uc624. \n",
      "  - 4) \uac12\uc758 \ub0b4\ub9bc\ucc28\uc21c \uc21c\uc11c\ub300\ub85c \ud29c\ud50c (\ud0a4, \uac12)\uc744 \ucc28\ub840\ub300\ub85c \ucd9c\ub825\ud558\uc2dc\uc624."
     ]
    },
    {
     "cell_type": "code",
     "collapsed": false,
     "input": [
      "#!/usr/local/bin/python\n",
      "# coding: utf-8\n",
      "\n",
      "import sys, os\n",
      "d = {'one':1, 'two':2, 'three':3, 'four':4, 'five':5}\n",
      "\n",
      "L = d.items()\n",
      "L_keys = d.keys()\n",
      "L_values = d.values()\n",
      "\n",
      "\n",
      "#1. Sorting tuples incresely to alphabet in keys\n",
      "L_keys.sort()\n",
      "for key in L_keys:\n",
      "\tprint key, d[key]\n",
      "print\n",
      "\n",
      "#2. Sorting tuples decreasly to alphabet in keys\n",
      "L_keys.sort(reverse = True)\n",
      "for key in L_keys:\n",
      "\tprint key, d[key]\n",
      "print\n",
      "\n",
      "#3. Sorting tuples increaely to number in values\n",
      "L_values.sort()\n",
      "for value in L_values:\n",
      "\tfor key in L_keys:\n",
      "\t\tif(d[key] == value):\n",
      "\t\t\tprint key, value\n",
      "print\n",
      "\n",
      "#4. Sorting tuples decreaely to number in values\n",
      "L_values.sort(reverse = True)\n",
      "for value in L_values:\n",
      "\tfor key in L_keys:\n",
      "\t\tif(d[key] == value):\n",
      "\t\t\tprint key, value\n",
      "print"
     ],
     "language": "python",
     "metadata": {},
     "outputs": [
      {
       "output_type": "stream",
       "stream": "stdout",
       "text": [
        "five 5\n",
        "four 4\n",
        "one 1\n",
        "three 3\n",
        "two 2\n",
        "\n",
        "two 2\n",
        "three 3\n",
        "one 1\n",
        "four 4\n",
        "five 5\n",
        "\n",
        "one 1\n",
        "two 2\n",
        "three 3\n",
        "four 4\n",
        "five 5\n",
        "\n",
        "five 5\n",
        "four 4\n",
        "three 3\n",
        "two 2\n",
        "one 1\n",
        "\n"
       ]
      }
     ],
     "prompt_number": 18
    },
    {
     "cell_type": "markdown",
     "metadata": {},
     "source": [
      "[\uc124\uba85] \ucc38\uace0 \uc0ac\ud56d\uc5d0 \ub530\ub974\uba74 d.keys() \uba54\uc18c\ub4dc\uc640 d.values() \uba54\uc18c\ub4dc\ub97c \uc0ac\uc6a9\ud558\uc5ec \uc0ac\uc804\uc758 \ub9ac\uc2a4\ud2b8\ub97c \ubf51\uc544\ub0b8 \ub4a4, \uc774\ub97c \uc815\ub82c\ud558\uc5ec \uc0ac\uc804\uc758 \ud0a4\uc640 \ud0a4\uc5d0 \ub300\uc751\ub418\ub294 \uac12\uc744 \uac01\uac01 \uc870\uac74\uc5d0 \ub530\ub77c \uc21c\uc11c\ub300\ub85c \ucd9c\ub825\ud558\ub77c\uace0 \ub098\uc640 \uc558\ub2e4. \uadf8\ub798\uc11c \uba54\uc18c\ub4dc\ub97c \uc0ac\uc6a9\ud574 \ubf51\uc544\ub0b8 \ud0a4\uac12\uc744 \uc815\ub82c\ud558\uc5ec \uadf8 \uc21c\uc11c\ub300\ub85c \uc0ac\uc804\uc758 \ub0b4\uc6a9\uc744 \ucd9c\ub825\ud558\ub294 \ubd80\ubd84\uc740 \uc27d\uac8c \ud560 \uc218 \uc788\uc5c8\ub294\ub370, \uac12\uc5d0 \ub300\uc751\ud574\uc11c \uc0ac\uc804\uc744 \ucc38\uc870\ud558\ub294 \uac83\uc740 \uae30\ub2a5\uc801\uc73c\ub85c \ubd88\uac00\ub2a5\ud558\uc600\ub2e4. \ub530\ub77c\uc11c \uc870\uae08 \ube44\ud6a8\uc728\uc801\uc774\uc9c0\ub9cc \uc21c\ucc28\ud0d0\uc0c9\uc744 \uc0ac\uc6a9\ud558\uc5ec \uac12\uc744 \ud0d0\uc0c9\ud558\uc5ec \uc624\ub984\ucc28\uc21c \ub610\ub294 \ub0b4\ub9bc\ucc28\uc21c\uc73c\ub85c \ucd9c\ub825\ud558\ub294 \ubc29\uc2dd\uc744 \uc0ac\uc6a9\ud558\uac8c \ub418\uc5c8\ub2e4. "
     ]
    },
    {
     "cell_type": "markdown",
     "metadata": {},
     "source": [
      "### \ubb38\uc81c 8) \uc774\uc804 Assignment 2\uc758 \ub9c8\uc9c0\ub9c9 \ubb38\uc81c\ub294 \uc6f9 URL\ub85c \uc9c0\uc815\ub41c \uc6f9\ud398\uc774\uc9c0\ub97c \ubb38\uc790\uc5f4\ub85c \uac00\uc838\uc640 \ubaa8\ub4e0 HTML \ud0dc\uadf8 \ubc0f CSS\uc640 Javascript\ub97c \uc81c\uc678\ud55c \uc21c\uc218 \ud14d\uc2a4\ud2b8\ub97c \uc5bb\uc5b4\ub0b4\uace0 \uadf8 \uc548\uc5d0 \uc874\uc7ac\ud558\ub294 \ub2e8\uc5b4\ub97c \ucd94\ucd9c\ud558\ub294 \ud504\ub85c\uadf8\ub7a8\uc744 \uc791\uc131\ud558\ub294 \uac83\uc774\uc5c8\ub2e4. \uc774\ubc88\uc5d0\ub294 \uadf8 \ub9c8\uc9c0\ub9c9 \uc219\uc81c\ub97c \uadf8\ub300\ub85c \ud655\uc7a5\ud558\uc5ec \uc6f9 URL\ub85c \uc9c0\uc815\ub41c \uc6f9\ud398\uc774\uc9c0 \ub0b4 \uc21c\uc218 \ud14d\uc2a4\ud2b8 \uc548\uc5d0 \uc874\uc7ac\ud558\ub294 \uac01 \ub2e8\uc5b4\ub4e4\uc5d0 \ub300\ud574 \ub2e4\uc74c \uc694\uad6c\uc0ac\ud56d \ub300\ub85c \ucd9c\ub825\ud558\ub294 \ud504\ub85c\uadf8\ub7a8\uc744 \uc791\uc131\ud558\uc2dc\uc624. \n",
      "  - \uc694\uad6c\uc0ac\ud56d 1. \uc21c\uc218 \ud14d\uc2a4\ud2b8 \uc548\uc5d0 \uc874\uc7ac\ud558\ub294 \ub2e8\uc5b4\ub4e4\uc5d0 \ub300\ud574 string \ubaa8\ub4c8\uc744 \ud65c\uc6a9\ud558\uc5ec \ubaa8\ub4e0 punctuation (\uad6c\ub450\ubb38\uc790)\ub97c \uc644\ubcbd\ud788 \uc81c\uac70\ud558\uc2dc\uc624 (\uad50\uc7ac 166\ud398\uc774\uc9c0 \ucc38\uace0).\n",
      "    - \uc608: ['world!', ':', '+hello+', '~python$$$', '=', 'world'] ---> ['world', 'hello', 'python', 'world']\n",
      "  - \uc694\uad6c\uc0ac\ud56d 2. \uac01 \ub2e8\uc5b4\ub4e4\uc758 \ucd9c\ud604\ube48\ub3c4\ub97c \uc0ac\uc804\ud615\ud0dc\ub85c \uc800\uc7a5\ud558\uc5ec \ucd9c\ub825\ud558\uc2dc\uc624.\n",
      "    - \uc608: ['world', 'hello', 'python', 'world'] ---> {'world': 2, 'hello': 1, 'python': 1}"
     ]
    },
    {
     "cell_type": "code",
     "collapsed": false,
     "input": [
      "#!/usr/local/bin/python\n",
      "# coding: utf-8\n",
      "import sys, os, urllib, string\n",
      "\n",
      "s = urllib.urlopen('http://cse.koreatech.ac.kr').read()\n",
      "\n",
      "\n",
      "n = 0\n",
      "pivot = 0\n",
      "while(n < len(s)):\n",
      "\tif(s[n] == \"<\" and s[n + 1 : n + 7].lower() == \"script\"):\n",
      "\t\tpivot = n\n",
      "\t\twhile(s[pivot] != \"<\" or s[pivot + 1] != \"/\" or s[pivot + 2 : pivot + 8].lower() != \"script\"):\n",
      "\t\t\tpivot += 1\n",
      "\t\ts = s[0:n] + ' ' + s[pivot+9:]\n",
      "\n",
      "\telif(s[n] == \"<\" and s[n + 1 : n + 6].lower() == \"style\"):\n",
      "\t\tpivot = n\n",
      "\t\twhile(s[pivot] != \"<\" or s[pivot + 1] != \"/\" or s[pivot + 2 : pivot + 7].lower() != \"style\"):\n",
      "\t\t\tpivot += 1\n",
      "\t\ts = s[0:n] + ' ' + s[pivot+8:]\n",
      "\n",
      "\telif(s[n] == '<'):\n",
      "\t\tpivot = n\n",
      "\t\twhile(s[pivot] != '>'):\n",
      "\t\t\tpivot += 1\n",
      "\t\ts = s[0:n] + ' ' + s[pivot+1:]\n",
      "\telif(s[n] == '\\n' or s[n] == '\\t'):\n",
      "\t\ts = s[0:n] + ' ' + s[n+1:]\n",
      "\telif(s[n] in string.punctuation):\n",
      "\t\ts = s[0:n] + s[n+1:]\n",
      "\telse:\n",
      "\t\tn += 1\n",
      "\n",
      "s2 = s.split()\n",
      "s3 = ' '.join(s2)\n",
      "n = 0\n",
      "D = {}\n",
      "while(n < len(s2)):\n",
      "\tif(s2[n] in D.keys()):\n",
      "\t\tD[s2[n]] += 1\n",
      "\telse:\n",
      "\t\tD[s2[n]] = 1\n",
      "\tn += 1\n",
      "\t\n",
      "\n",
      "print 'number of character :', len(s.split())\n",
      "print '<characters in webpage>'\n",
      "print s3\n",
      "\n",
      "for key, value in D.items():\n",
      "\tprint key, \":\",  value"
     ],
     "language": "python",
     "metadata": {},
     "outputs": [
      {
       "output_type": "stream",
       "stream": "stdout",
       "text": [
        "number of character : 167\n",
        "<characters in webpage>\n",
        "\ucef4\ud4e8\ud130\uacf5\ud559\ubd80 \ud648\ud398\uc774\uc9c0 \ucef4\ud4e8\ud130\uacf5\ud559\ubd80 \uad50\uc721\ubaa9\ud45c \ucc3e\uc544\uc624\uc2dc\ub294\uae38 \uc878\uc5c5\uc791\ud488 \uacf5\ud559\uc124\uacc4 \ucde8\uc5c5\uc870\uc0ac2014 \ucde8\uc5c5\uc870\uc0ac2013 \uad50\uc218\uc9c4 \ud559\uc0dd\ud68c \uc878\uc5c5\uc774\uc218\uc694\uac74 \ucef4\ud4e8\ud130SW \ucef4\ud4e8\ud130HW \ucef4\ud4e8\ud130\uc2a4\ub9c8\ud2b8IT \ucef4\ud4e8\ud130\uc2dc\uc2a4\ud15c\uc751\uc6a9 \uc7a5\ud559\uc81c\ub3c4 \ubaa8\uc9d1\uc694\uac15 \uc785\uc2dcQA \uacf5\uc9c0\uc0ac\ud56d \uc790\uc720\uac8c\uc2dc\ud310 \uc775\uba85\uac8c\uc2dc\ud310 \ucde8\uc5c5\uac8c\uc2dc\ud310 \ub3d9\ubb38\uac8c\uc2dc\ud310 \uc0ac\uc9c4\uac8c\uc2dc\ud310 \ud559\ubd80\uc0ac\uc9c4\uac94\ub7ec\ub9ac \uace0\uc7a5\uc2e0\uace0\uac8c\uc2dc\ud310 \uac15\uc758\uc790\ub8cc\uc2e4 \uc77c\ubc18\uc790\ub8cc\uc2e4 \uc11c\uc2dd\ubc0f\uc591\uc2dd\uc790\ub8cc\uc2e4 \ub300\ud559\uc6d0\uc18c\uac1c \uc5f0\uad6c\uc2e4\uc18c\uac1c \ub300\ud559\uc6d0\uac8c\uc2dc\ud310 \uacf5\ud559\uc778\uc99d\uc548\ub0b4 \uacf5\ud559\uc778\uc99d\uac8c\uc2dc\ud310 C 20140327 \uacf5\ud559\uc124\uacc4 \ud3ec\uc2a4\ud130\ubc1c\ud45c\uacbd\uc9c4\ub300\ud68c \ud22c\ud45c 20131210 2013\ub144 \uc878\uc5c5\uc791\ud488 \ube0c\ub85c\uc154 20131007 \uc81c 4\ub300 \ucef4\ud4e8\ud130\uacf5\ud559\ubd80 \ud559\ud68c\uc7a5\ubd80\ud559 20121105 \ub514\uc9c0\ud138 \uc2dc\uc2a4\ud15c \uc124\uacc41 \uc2e4\uc2b5\uc870\uad50 20120909 \uc18c\ud504\ud2b8\uc6e8\uc5b4\uacf5\ud559 \uc911\uac04\uace0\uc0ac \uacf5\uc9c0 20141016 \ucef4\ud4e8\ud130\uacf5\ud559\ubd80 \ud559\uc0dd\ub4e4\uc744 \uc704\ud55c \ub18d\uad6c 20141006 \ud639\uc2dc \ud64d\uc9c4\ud45c \uad50\uc218\ub2d8\uc758 \ucef4\ud4e8\ud130 \uad6c nbsp 2 20141006 \uc18c\ud504\ud2b8\uc6e8\uc5b4 \uac1c\ubc1c\ubcf4\uc548 \uacbd\uc9c4\ub300\ud68c \uac1c\ucd5c 20141001 2015\ub144 \uc0c1\ubc18\uae30 \uc0bc\uc131 \uc18c\ud504\ud2b8\uc6e8\uc5b4 20140925 \ucf64\ud14d\uc2dc\uc2a4\ud15c \uc2e0\uc785\uc0ac\uc6d0 \ubaa8\uc9d1 20141016 2014\ub144 Tmoney\ud55a\uad6d\uc2a4\ub9c8\ud2b8\uce74\ub4dc 20141014 \uc138\ub9bc\ud2f0\ub124\uc2a4\uc9c0\uc8fc \uc778\ub825 \ucc44\uc6a9 \uacf5\uace0 20140930 \uc8fc\uc5e0\ud504\ub860\ud2f0\uc5b4 \uc2dc\uc2a4\ud15c \uc6b4\uc601\uac1c\ubc1c 20140915 \ucef4\ud4e8\ud130\uacf5\ud559\ubd80 \ud559\ubd80\uc0ac\ubb34\uc2e4 \uccad\ub144\uc778\ud134 20140806 20141014 20141014 1 2014\ub144 \uc878\uc5c5 \ud559\uc220\uc81c \ucef4\ud4e8\ud130\uacf5\ud559\ubd80 \uc878\uc5c5\uc791\ud488 \uc778 20141016 \uc878\uc5c5\uc791\ud488 \ud3ec\uc0c1\uacbd\uc9c4\ub300\ud68c \uc548\ub0b4 20141015 \ub300\ud559\uc6d0\uc0dd \ub300\uc0c1 \uc548\uc804\uad50\uc721 \uc548\ub0b4 10 20141014 \ud2b9\uc131\ud654\uc0ac\uc5c5\ub2e8 \uc77c\ubcf8\uae30\uc220\ud0d0\ubc29 \uc120 20141013 2014\ub144 \ud558\ubc18\uae30 \ud154\ucf54\uc6e8\uc5b4\uc8fc \uc2e0\uc785 20141010 \uc878\uc5c5\uc791\ud488 \uc804\uc2dc\ud68c \ucef4\ud4e8\ud130\uacf5\ud559\ubd80 \uc778 20141007 \uc7ac\uacf5\uc9c0 12\uc77c \ub9c8\uac10 \uc878\uc5c5\uc791\ud488 \ud3ec 20141004 \uc870\uc774\uc2dc\ud2f0 \u2018\ub2ec\uacfc \uadf8\ub9bc\uc790\u2019 \ub3d9\ub0a8\uc544 20141017 \ud1b5\uc2e0\uc7a5\ube44\uc5c5\uacc4 \u201c\uc8fc\ud30c\uc218 \uc815\ud574\ub2ec\ub77c\u201d\u00b7 20141017 KT \ubaa8\ubc14\uc77c \ud0a4 \uc11c\ube44\uc2a4 \uc0c1\uc6a9\ud654 20141017 \ud55c\uad6d \uc815\ubcf4\ud1b5\uc2e0\ubcf4\uc870\uae30\uae30 ICT \uad6d\uc81c 20141017 \uc560\ud50c \uc544\uc774\ud328\ub4dc \uc5d0\uc5b42 \ucd9c\uc2dc 20141017\n",
        "\uc785\uc2dcQA : 1\n",
        "\ucef4\ud4e8\ud130\uc2dc\uc2a4\ud15c\uc751\uc6a9 : 1\n",
        "\u201c\uc8fc\ud30c\uc218 : 1\n",
        "\ucd9c\uc2dc : 1\n",
        "\uc815\ud574\ub2ec\ub77c\u201d\u00b7 : 1\n",
        "\uc548\uc804\uad50\uc721 : 1\n",
        "nbsp : 1\n",
        "\uacf5\uc9c0\uc0ac\ud56d : 1\n",
        "2013\ub144 : 1\n",
        "\uc7ac\uacf5\uc9c0 : 1\n",
        "\uc544\uc774\ud328\ub4dc : 1\n",
        "\uc5f0\uad6c\uc2e4\uc18c\uac1c : 1\n",
        "\ubaa8\uc9d1\uc694\uac15 : 1\n",
        "\ucde8\uc5c5\uac8c\uc2dc\ud310 : 1\n",
        "\ud559\uc220\uc81c : 1\n",
        "\uc2e0\uc785 : 1\n",
        "\uc778\ub825 : 1\n",
        "\uc815\ubcf4\ud1b5\uc2e0\ubcf4\uc870\uae30\uae30 : 1\n",
        "\uc5d0\uc5b42 : 1\n",
        "\ub18d\uad6c : 1\n",
        "\uadf8\ub9bc\uc790\u2019 : 1\n",
        "\ub3d9\ub0a8\uc544 : 1\n",
        "\ubaa8\uc9d1 : 1\n",
        "\uc2e0\uc785\uc0ac\uc6d0 : 1\n",
        "\uac15\uc758\uc790\ub8cc\uc2e4 : 1\n",
        "\ub300\ud559\uc6d0\uc0dd : 1\n",
        "\uac1c\ucd5c : 1\n",
        "20140327 : 1\n",
        "\uc878\uc5c5\uc791\ud488 : 6\n",
        "\uc8fc\uc5e0\ud504\ub860\ud2f0\uc5b4 : 1\n",
        "\uc878\uc5c5 : 1\n",
        "2015\ub144 : 1\n",
        "\ub3d9\ubb38\uac8c\uc2dc\ud310 : 1\n",
        "\ub514\uc9c0\ud138 : 1\n",
        "20131007 : 1\n",
        "20140806 : 1\n",
        "\ub300\uc0c1 : 1\n",
        "\uad50\uc218\uc9c4 : 1\n",
        "\ud559\ubd80\uc0ac\uc9c4\uac94\ub7ec\ub9ac : 1\n",
        "\uc704\ud55c : 1\n",
        "\uc0c1\ubc18\uae30 : 1\n",
        "\ud559\uc0dd\ud68c : 1\n",
        "4\ub300 : 1\n",
        "C : 1\n",
        "\ud22c\ud45c : 1\n",
        "2014\ub144 : 3\n",
        "\ud3ec\uc2a4\ud130\ubc1c\ud45c\uacbd\uc9c4\ub300\ud68c : 1\n",
        "\uad6c : 1\n",
        "\ud1b5\uc2e0\uc7a5\ube44\uc5c5\uacc4 : 1\n",
        "\uc0bc\uc131 : 1\n",
        "\uc0ac\uc9c4\uac8c\uc2dc\ud310 : 1\n",
        "\uacf5\ud559\uc778\uc99d\uc548\ub0b4 : 1\n",
        "\ucef4\ud4e8\ud130SW : 1\n",
        "\ud559\uc0dd\ub4e4\uc744 : 1\n",
        "\uad50\uc721\ubaa9\ud45c : 1\n",
        "20120909 : 1\n",
        "\uc778 : 2\n",
        "\ucde8\uc5c5\uc870\uc0ac2013 : 1\n",
        "\ucde8\uc5c5\uc870\uc0ac2014 : 1\n",
        "Tmoney\ud55a\uad6d\uc2a4\ub9c8\ud2b8\uce74\ub4dc : 1\n",
        "20141001 : 1\n",
        "20141006 : 2\n",
        "20141007 : 1\n",
        "20141004 : 1\n",
        "\uc138\ub9bc\ud2f0\ub124\uc2a4\uc9c0\uc8fc : 1\n",
        "\ucef4\ud4e8\ud130 : 1\n",
        "\ud558\ubc18\uae30 : 1\n",
        "\uc6b4\uc601\uac1c\ubc1c : 1\n",
        "\ucc3e\uc544\uc624\uc2dc\ub294\uae38 : 1\n",
        "20121105 : 1\n",
        "\uc7a5\ud559\uc81c\ub3c4 : 1\n",
        "\ud648\ud398\uc774\uc9c0 : 1\n",
        "\ucf64\ud14d\uc2dc\uc2a4\ud15c : 1\n",
        "\ub9c8\uac10 : 1\n",
        "\uccad\ub144\uc778\ud134 : 1\n",
        "\uc77c\ubcf8\uae30\uc220\ud0d0\ubc29 : 1\n",
        "\uc804\uc2dc\ud68c : 1\n",
        "2 : 1\n",
        "\uc870\uc774\uc2dc\ud2f0 : 1\n",
        "\ud559\ud68c\uc7a5\ubd80\ud559 : 1\n",
        "20141015 : 1\n",
        "20141014 : 4\n",
        "20141017 : 5\n",
        "20141016 : 3\n",
        "20141010 : 1\n",
        "20141013 : 1\n",
        "\uc124\uacc41 : 1\n",
        "\ud154\ucf54\uc6e8\uc5b4\uc8fc : 1\n",
        "\uc911\uac04\uace0\uc0ac : 1\n",
        "\uc790\uc720\uac8c\uc2dc\ud310 : 1\n",
        "20131210 : 1\n",
        "\uacf5\uace0 : 1\n",
        "\uc548\ub0b4 : 2\n",
        "\ub300\ud559\uc6d0\uc18c\uac1c : 1\n",
        "\uacbd\uc9c4\ub300\ud68c : 1\n",
        "10 : 1\n",
        "20140915 : 1\n",
        "\uc120 : 1\n",
        "\uc18c\ud504\ud2b8\uc6e8\uc5b4 : 2\n",
        "12\uc77c : 1\n",
        "\ud55c\uad6d : 1\n",
        "\ud0a4 : 1\n",
        "KT : 1\n",
        "\uc2dc\uc2a4\ud15c : 2\n",
        "\uacf5\uc9c0 : 1\n",
        "\ubaa8\ubc14\uc77c : 1\n",
        "\ucef4\ud4e8\ud130HW : 1\n",
        "\uc11c\uc2dd\ubc0f\uc591\uc2dd\uc790\ub8cc\uc2e4 : 1\n",
        "\ud64d\uc9c4\ud45c : 1\n",
        "\ucef4\ud4e8\ud130\uacf5\ud559\ubd80 : 7\n",
        "\uc2e4\uc2b5\uc870\uad50 : 1\n",
        "\ud3ec\uc0c1\uacbd\uc9c4\ub300\ud68c : 1\n",
        "\ud2b9\uc131\ud654\uc0ac\uc5c5\ub2e8 : 1\n",
        "\ub300\ud559\uc6d0\uac8c\uc2dc\ud310 : 1\n",
        "20140925 : 1\n",
        "\uad6d\uc81c : 1\n",
        "\uc560\ud50c : 1\n",
        "\uc11c\ube44\uc2a4 : 1\n",
        "1 : 1\n",
        "\uc81c : 1\n",
        "\ud3ec : 1\n",
        "\uc77c\ubc18\uc790\ub8cc\uc2e4 : 1\n",
        "\ud559\ubd80\uc0ac\ubb34\uc2e4 : 1\n",
        "\uc0c1\uc6a9\ud654 : 1\n",
        "\uacf5\ud559\uc778\uc99d\uac8c\uc2dc\ud310 : 1\n",
        "\uc18c\ud504\ud2b8\uc6e8\uc5b4\uacf5\ud559 : 1\n",
        "\uc775\uba85\uac8c\uc2dc\ud310 : 1\n",
        "\ube0c\ub85c\uc154 : 1\n",
        "\uc878\uc5c5\uc774\uc218\uc694\uac74 : 1\n",
        "\uacf5\ud559\uc124\uacc4 : 2\n",
        "20140930 : 1\n",
        "ICT : 1\n",
        "\ucef4\ud4e8\ud130\uc2a4\ub9c8\ud2b8IT : 1\n",
        "\uace0\uc7a5\uc2e0\uace0\uac8c\uc2dc\ud310 : 1\n",
        "\u2018\ub2ec\uacfc : 1\n",
        "\ucc44\uc6a9 : 1\n",
        "\uac1c\ubc1c\ubcf4\uc548 : 1\n",
        "\uad50\uc218\ub2d8\uc758 : 1\n",
        "\ud639\uc2dc : 1\n"
       ]
      }
     ],
     "prompt_number": 24
    },
    {
     "cell_type": "markdown",
     "metadata": {},
     "source": [
      "[\uc124\uba85] \uad6c\ub450\ubb38\uc790\ub97c \uc81c\uac70\ud558\ub294 \uac83\uc774 \ud544\uc694\ud55c\ub370, \uc704\uc5d0 \uad6c\ub450\ubb38\uc790 \uc911\uc5d0 \uc791\uc740 \ub530\uc634\ud45c\uc640 \ud070 \ub530\uc634\ud45c\ub294 \uc81c\uac70\ub418\uc9c0 \uc54a\ub294 \uac83\uc744 \ud655\uc778\ud560 \uc218 \uc788\ub2e4. \uc774\uac83\uc740 ASCII\uc5d0\uc11c \uc0ac\uc6a9\ub418\ub294 \uad6c\ub450\ubb38\uc790\uac00 \uc544\ub2c8\ub77c \ub2e4\ub978 \uc778\ucf54\ub529 \ubc29\uc2dd\uc73c\ub85c \uc0ac\uc6a9\ub41c \uad6c\ub450\ubb38\uc790\uc774\uae30 \ub54c\ubb38\uc5d0 \uc0dd\uae30\ub294 \ubb38\uc81c\uc810\uc774\ub2e4.(http://en.wikipedia.org/wiki/Apostrophe#Computing) \uc774 \ubb38\uc81c\ub97c \ud574\uacb0\ud558\uae30 \uc704\ud574\uc11c\ub294 \uc9c1\uc811 \uc608\uc678\ucc98\ub9ac\ub97c \ud558\uae30 \uc704\ud55c \uc870\uac74\ubb38\uc774 \ucd94\uac00\ub85c \ub4e4\uc5b4\uac00\uc57c \ud55c\ub2e4. \uadf8 \uc678\uc758 \uc544\uc2a4\ud0a4\ucf54\ub4dc\uc5d0 \ubd80\ud569\ud558\ub294 \uad6c\ub450\ubb38\uc790\uc5d0 \ub300\ud574\uc11c\ub294 \ubaa8\ub450 \uc608\uc678\ucc98\ub9ac\uac00 \ub4e4\uc5b4\uac14\ub2e4. \ub610\ud55c html \ud0dc\uadf8\uac00 \ub300\uc18c\ubb38\uc790\ub97c \uad6c\ubd84\ud558\uc9c0 \uc54a\uae30 \ub54c\ubb38\uc5d0 \uc21c\uc218 \ud14d\uc2a4\ud2b8\ub97c \uc81c\uac70\ud560 \ub54c \uc0dd\uae38 \uc218 \uc788\ub294 \ubb38\uc81c\ub97c \ubc29\uc9c0\ud558\uae30 \uc704\ud574\uc11c lower \uba54\uc18c\ub4dc\ub97c \uc0ac\uc6a9\ud558\uc5ec \ud0dc\uadf8\ub97c \uad6c\ubd84\ud558\uc600\ub2e4."
     ]
    },
    {
     "cell_type": "markdown",
     "metadata": {},
     "source": [
      "### \uc18c\uac10\n",
      "\n",
      "C\uc5b8\uc5b4\uc5d0\uc11c \ud3ec\uc778\ud130\uc758 \uac1c\ub150\uc744 \ubc30\uc6b4 \uc801\uc774 \uc788\ub294\ub370, \uc774\ubc88 \ud30c\uc774\uc36c \uacfc\uc81c\uc5d0\uc11c Deep Copy\uc640 Shallow Copy\ub97c \ub2e4\ub8e8\ub294 \ubd80\ubd84\uc5d0\uc11c \uc774\uc804\uc5d0 \ud3ec\uc778\ud130\ub97c \uacf5\ubd80\ud588\ub358 \uac83\uc774 \ub9ce\uc740 \ub3c4\uc6c0\uc774 \ub418\uc5c8\ub2e4. \ub370\uc774\ud130\uac00 \uc5b4\ub5a4 \ud750\ub984\uc73c\ub85c \ucc38\uc870\uac00 \uc774\ub8e8\uc5b4\uc9c0\ub294\uc9c0\ub97c \ud30c\uc545\ud560 \uc904 \uc544\ub294 \ub2a5\ub825\uc740 C\uc5b8\uc5b4\uc640 \uac19\uc740 low-level\uc758 \uc5b8\uc5b4 \ubfd0\ub9cc \uc544\ub2c8\ub77c \uc2a4\ud06c\ub9bd\ud2b8 \uc5b8\uc5b4\uc5d0\uc11c\ub3c4 \uc911\uc694\ud558\ub2e4\ub294 \uac83\uc744 \ub290\uaf08\ub2e4."
     ]
    }
   ],
   "metadata": {}
  }
 ]
}