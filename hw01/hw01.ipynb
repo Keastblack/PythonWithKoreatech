{
 "metadata": {
  "name": ""
 },
 "nbformat": 3,
 "nbformat_minor": 0,
 "worksheets": [
  {
   "cells": [
    {
     "cell_type": "heading",
     "level": 1,
     "metadata": {},
     "source": [
      "\uc2a4\ud06c\ub9bd\ud2b8 \ud504\ub85c\uadf8\ub798\ubc0d Assignment 1"
     ]
    },
    {
     "cell_type": "markdown",
     "metadata": {},
     "source": [
      "#-------------------------------------#\n",
      "\n",
      "\ubd84\ubc18 : 01\n",
      "\n",
      "\n",
      "\uad50\uc218 : \ud55c\uc5f0\ud76c \uad50\uc218\ub2d8\n",
      "\n",
      "\n",
      "\ud559\uacfc : \ucef4\ud4e8\ud130\uacf5\ud559\ubd80\n",
      "\n",
      "\n",
      "\ud559\ub144 : 3\ud559\ub144\n",
      "\n",
      "\n",
      "\ud559\ubc88 : 2012136116\n",
      "\n",
      "\n",
      "\uc774\ub984 : \uc815\uc7ac\uc6b0(wodndb@koreatech.ac.kr)\n",
      "\n",
      "\n",
      "\uc81c\ucd9c\uc77c : 2014\ub144 9\uc6d4 12\uc77c\n",
      "\n",
      "#-------------------------------------#"
     ]
    },
    {
     "cell_type": "heading",
     "level": 4,
     "metadata": {},
     "source": [
      "\ubb38\uc81c 1. a=\"Hello Python\" \ubb38\uc790\uc5f4\uc744 Slicing\uacfc \uc5f0\uacb0 \uc5f0\uc0b0\uc790 (+)\ub97c \uc0ac\uc6a9\ud558\uc5ec \"Python Hello\"\ub85c \ubcc0\uacbd\ud558\uc2dc\uc624.\n",
      "\n",
      "    [\uc8fc\uc758] a \ubcc0\uc218 \uc790\uccb4\uc5d0 \"Python Hello\" \ubb38\uc790\uc5f4\uc774 \uc800\uc7a5\ub418\uc5b4\uc57c \ud568"
     ]
    },
    {
     "cell_type": "markdown",
     "metadata": {},
     "source": [
      "<\ubb38\uc81c \ubd84\uc11d>"
     ]
    },
    {
     "cell_type": "markdown",
     "metadata": {},
     "source": [
      "\ubb38\uc790\uc5f4\uc744 Slicing\ud558\uc5ec \ub450 \ub2e8\uc5b4\uc758 \uc21c\uc11c\ub97c \ubc14\uafb8\uace0, \uc0ac\uc774\uc5d0 \uacf5\ubc31\ubb38\uc790\ub97c \ucd94\uac00\ud558\uc5ec \uc5f0\uacb0\uc5f0\uc0b0\uc790\ub85c \uc5f0\uacb0\ud558\uba74 \"Python Hello\"\ub97c \ub9cc\ub4e4 \uc218 \uc788\ub2e4."
     ]
    },
    {
     "cell_type": "markdown",
     "metadata": {},
     "source": [
      "<\ucf54\ub4dc : hw01_01.py>"
     ]
    },
    {
     "cell_type": "code",
     "collapsed": false,
     "input": [
      "#!/usr/local/bin/python\n",
      "# coding: utf-8\n",
      "import sys, os\n",
      "\n",
      "#\uc774 \ucf54\ub4dc\ub294 \ub9ac\ubd81\uc2a4 \uc6b0\ubd84\ud22c 14.04 LTS \ud658\uacbd\uc758 vim\uc5d0\ub514\ud130\ub85c \uc791\uc5c5\ud55c \uac83\uc73c\ub85c, \ud55c\uae00 \uc778\ucf54\ub529 \ubb38\uc81c\ub97c \ud574\uacb0\ud558\uae30 \uc704\ud574 \uc704\uc758 \uc138 \uc904\uc758 \ucf54\ub4dc\uac00 \uc6b0\uc120\uc801\uc73c\ub85c \uc0bd\uc785\ub418\uc5b4\uc57c \ud569\ub2c8\ub2e4.\n",
      "\n",
      "a = \"Hello Python\"\n",
      "print \"\ubcc0\uacbd \uc804 : \" + a\n",
      "a = a[6::] + ' ' + a[0:5]\t#Slicing \ubc0f \uc5f0\uacb0 \uc5f0\uc0b0\uc790 \uc0ac\uc6a9\n",
      "print \"\ubcc0\uacbd \ud6c4 : \" + a"
     ],
     "language": "python",
     "metadata": {},
     "outputs": [
      {
       "output_type": "stream",
       "stream": "stdout",
       "text": [
        "\ubcc0\uacbd \uc804 : Hello Python\n",
        "\ubcc0\uacbd \ud6c4 : Python Hello\n"
       ]
      }
     ],
     "prompt_number": 1
    },
    {
     "cell_type": "markdown",
     "metadata": {},
     "source": [
      "<\ucf54\ub4dc \ubc0f \uacb0\uacfc \uc124\uba85>"
     ]
    },
    {
     "cell_type": "markdown",
     "metadata": {},
     "source": [
      "\ubb38\uc790\uc5f4\uc744 Slicing\uc744 \uc774\uc6a9\ud558\uc5ec \"Hello\"\uc640 \"Python\"\ub97c \ucd94\ucd9c\ud55c \ub4a4, \uc21c\uc11c\ub97c \ubc14\uafb8\uc5b4 \uc0ac\uc774\uc5d0 \uacf5\ubc31 \ubb38\uc790\ub97c \ud3ec\ud568\ud574 \uc5f0\uacb0 \uc5f0\uc0b0\uc790\ub97c \uc0ac\uc6a9, \"Python Hello\"\ub85c \uc7ac\uc870\ub9bd\ud558\uc5ec a\uc5d0 \uc800\uc7a5\ud558\uc600\ub2e4. \ubcc0\uacbd \uc804\uacfc \ud6c4\ub97c \ube44\uad50\ud558\uae30 \uc704\ud574 \uac01\uac01 \ud45c\uc900 \ucd9c\ub825\ud558\uc600\ub2e4.\n",
      "\uadf8\ub9ac\uace0 \uac00\uc7a5 \ucc98\uc74c\uc5d0 \ub4f1\uc7a5\ud558\ub294 \uc138 \uc904\uc758 \ucf54\ub4dc\ub294 \uc2e4\uc2b5 \ud658\uacbd\uc774 \uc6b0\ubd84\ud22c\uc77c \uacbd\uc6b0 vim\uc5d0\uc11c \uc791\uc5c5\ud55c \uc18c\uc2a4 \ucf54\ub4dc\ub97c ipython\uc5d0\uc11c \ubd88\ub7ec\uc654\uc744 \ub54c \ud55c\uae00 \uc778\ucf54\ub529 \uc5d0\ub7ec \ubb38\uc81c\uac00 \ubc1c\uc0dd\ud574 \ucd94\uac00\ud55c \uac83\uc774\ub2e4. \uac00\uc7a5 \uc775\uc219\ud55c UTF-8 \ud3ec\ub9f7\uc73c\ub85c \uc778\ucf54\ub529\uc744 \uc124\uc815\ud558\uc600\uc73c\uba70, \uc774\ud6c4 \ub4f1\uc7a5\ud558\ub294 \ubaa8\ub4e0 \uc18c\uc2a4 \ucf54\ub4dc\uc5d0\ub3c4 \ub3d9\uc77c\ud558\uac8c \uc0bd\uc785\ub418\uc5b4\uc788\ub2e4.\n",
      "\n",
      "\ucc38\uace0 \uc790\ub8cc) http://legacy.python.org/dev/peps/pep-0263/"
     ]
    },
    {
     "cell_type": "markdown",
     "metadata": {},
     "source": [
      "  "
     ]
    },
    {
     "cell_type": "heading",
     "level": 4,
     "metadata": {},
     "source": [
      "\ubb38\uc81c 2. b=\"Hello Python World\" \ubb38\uc790\uc5f4\uc744 Slicing\uacfc \uc5f0\uacb0 \uc5f0\uc0b0\uc790 (+)\ub97c \uc0ac\uc6a9\ud558\uc5ec \"World Python Hello\"\ub85c \ubcc0\uacbd\ud558\uc2dc\uc624.\n",
      "\n",
      "    [\uc8fc\uc758] b \ubcc0\uc218 \uc790\uccb4\uc5d0 \"Python Hello\" \ubb38\uc790\uc5f4\uc774 \uc800\uc7a5\ub418\uc5b4\uc57c \ud568"
     ]
    },
    {
     "cell_type": "markdown",
     "metadata": {},
     "source": [
      "<\ubb38\uc81c \ubd84\uc11d>"
     ]
    },
    {
     "cell_type": "markdown",
     "metadata": {},
     "source": [
      "\ubb38\uc81c 1\uacfc \ub3d9\uc77c\ud558\ub2e4. \"World\", \"Python\", \"Hello\"\ub97c Slicing\uc73c\ub85c \ub098\ub204\uace0 \uc21c\uc11c\ub97c \ubc18\ub300\ub85c \ud558\uc5ec \uc5f0\uacb0\uc5f0\uc0b0\uc790\ub85c \uc870\ud569\ud558\uba74 \ub41c\ub2e4."
     ]
    },
    {
     "cell_type": "markdown",
     "metadata": {},
     "source": [
      "<\ucf54\ub4dc : hw01_02.py>"
     ]
    },
    {
     "cell_type": "code",
     "collapsed": false,
     "input": [
      "#!/usr/local/bin/python\n",
      "# coding: utf-8\n",
      "import sys, os\n",
      "\n",
      "b = \"Hello Python World\"\n",
      "print \"\ubcc0\uacbd \uc804 : \" + b\n",
      "b = b[13::] + ' '+ b[6:12] + ' ' + b[:5]\n",
      "print \"\ubcc0\uacbd \ud6c4 : \" + b"
     ],
     "language": "python",
     "metadata": {},
     "outputs": [
      {
       "output_type": "stream",
       "stream": "stdout",
       "text": [
        "\ubcc0\uacbd \uc804 : Hello Python World\n",
        "\ubcc0\uacbd \ud6c4 : World Python Hello\n"
       ]
      }
     ],
     "prompt_number": 3
    },
    {
     "cell_type": "markdown",
     "metadata": {},
     "source": [
      "<\ucf54\ub4dc \ubc0f \uacb0\uacfc \uc124\uba85>"
     ]
    },
    {
     "cell_type": "markdown",
     "metadata": {},
     "source": [
      "\ubb38\uc790\uc5f4\uc744 Slicing\uc744 \uc774\uc6a9\ud558\uc5ec \"Hello\", \"Python\", \"World\"\ub97c \ucd94\ucd9c\ud55c \ub4a4, \uc21c\uc11c\ub97c \ubc14\uafb8\uc5b4 \uc0ac\uc774\uc5d0 \uacf5\ubc31 \ubb38\uc790\ub97c \ud3ec\ud568\ud574 \uc5f0\uacb0 \uc5f0\uc0b0\uc790\ub97c \uc0ac\uc6a9, \"Wolrd Python Hello\"\ub85c \uc7ac\uc870\ub9bd\ud558\uc5ec b\uc5d0 \uc800\uc7a5\ud558\uc600\ub2e4. \ubcc0\uacbd \uc804\uacfc \ud6c4\ub97c \ube44\uad50\ud558\uae30 \uc704\ud574 \uac01\uac01 \ud45c\uc900 \ucd9c\ub825\ud558\uc600\ub2e4."
     ]
    },
    {
     "cell_type": "markdown",
     "metadata": {},
     "source": [
      "    "
     ]
    },
    {
     "cell_type": "heading",
     "level": 4,
     "metadata": {},
     "source": [
      "\ubb38\uc81c 3. c=\"Hello\"\ub97c \"olleH\"\ub85c \ubcc0\uacbd\ud558\uc2dc\uc624\n",
      "\n",
      "    [\uc8fc\uc758] c \ubcc0\uc218 \uc790\uccb4\uc5d0 \"olleH\" \ubb38\uc790\uc5f4\uc774 \uc800\uc7a5\ub418\uc5b4\uc57c \ud568"
     ]
    },
    {
     "cell_type": "markdown",
     "metadata": {},
     "source": [
      "<\ubb38\uc81c \ubd84\uc11d>"
     ]
    },
    {
     "cell_type": "markdown",
     "metadata": {},
     "source": [
      "Slicing\uc758 \uac00\uc7a5 \ub9c8\uc9c0\ub9c9 \uc778\uc790(step)\ub97c -1\ub85c \ud558\uba74 \uac70\uafb8\ub85c \ubb38\uc790\uc5f4\uc774 \ucd9c\ub825\ub418\ub294 \uac83\uc744 \uc774\uc6a9\ud558\uc5ec Hello\ub97c \uac70\uafb8\ub85c \ub9cc\ub4e0\ub2e4."
     ]
    },
    {
     "cell_type": "markdown",
     "metadata": {},
     "source": [
      "<\ucf54\ub4dc : hw01_03.py>"
     ]
    },
    {
     "cell_type": "code",
     "collapsed": false,
     "input": [
      "#!/usr/local/bin/python\n",
      "# coding: utf-8\n",
      "import sys, os\n",
      "\n",
      "c = \"Hello\"\n",
      "print \"\ubcc0\uacbd \uc804 : \" + c\n",
      "c = c[::-1]\n",
      "print \"\ubcc0\uacbd \ud6c4 : \" + c"
     ],
     "language": "python",
     "metadata": {},
     "outputs": [
      {
       "output_type": "stream",
       "stream": "stdout",
       "text": [
        "\ubcc0\uacbd \uc804 : Hello\n",
        "\ubcc0\uacbd \ud6c4 : olleH\n"
       ]
      }
     ],
     "prompt_number": 4
    },
    {
     "cell_type": "markdown",
     "metadata": {},
     "source": [
      "<\ucf54\ub4dc \ubc0f \uacb0\uacfc \uc124\uba85>"
     ]
    },
    {
     "cell_type": "markdown",
     "metadata": {},
     "source": [
      "\ubb38\uc790\uc5f4\uc744 Slicing\uc758 \uac00\uc7a5 \ub9c8\uc9c0\ub9c9 \uc778\uc790\ub97c -1\ub85c \ud558\uc5ec \uac70\uafb8\ub85c \ub9cc\ub4e4\uace0 \uc774\uac83\uc744 c\uc5d0 \uc800\uc7a5\ud558\uc600\ub2e4. \ubcc0\uacbd \uc804\uacfc \ud6c4\ub97c \ube44\uad50\ud558\uae30 \uc704\ud574 \uac01\uac01 \ud45c\uc900 \ucd9c\ub825\ud558\uc600\ub2e4."
     ]
    },
    {
     "cell_type": "markdown",
     "metadata": {},
     "source": [
      "  "
     ]
    },
    {
     "cell_type": "heading",
     "level": 4,
     "metadata": {},
     "source": [
      "\ubb38\uc81c 4. s=\"python\"\uc5d0 \ub300\ud574 \ub2e4\uc74c \ubb38\uc81c\ub97c \ud480\uc5b4\ubcf4\uc2dc\uc624."
     ]
    },
    {
     "cell_type": "heading",
     "level": 4,
     "metadata": {},
     "source": [
      "4-1) s[0], s[0][0], s[0][0][0]\uc740 \uac01\uac01 \uc5b4\ub5a4 \uac12\uc774 \ub098\uc624\ub294\uc9c0 \ud655\uc778\ud558\uace0 \uadf8 \uc774\uc720\ub97c \ub098\ub984\ub300\ub85c \uc124\uba85\ud574 \ubcf4\uc2dc\uc624."
     ]
    },
    {
     "cell_type": "markdown",
     "metadata": {},
     "source": [
      "<\ubb38\uc81c \ubd84\uc11d>"
     ]
    },
    {
     "cell_type": "markdown",
     "metadata": {},
     "source": [
      "s[0], s[0][0], s[0][0][0]\uc744 \ud45c\uc900 \ucd9c\ub825\ud558\uba74 \ub41c\ub2e4."
     ]
    },
    {
     "cell_type": "markdown",
     "metadata": {},
     "source": [
      "<\ucf54\ub4dc : hw01_04_01.py>"
     ]
    },
    {
     "cell_type": "code",
     "collapsed": false,
     "input": [
      "#!/usr/local/bin/python\n",
      "# coding: utf-8\n",
      "import sys, os\n",
      "\n",
      "s = \"python\"\n",
      "print \"[\uc2e4\ud589 1] s[0], s[0][0], s[0][0][0]\"\n",
      "print \": \" + s[0] + \", \" + s[0][0] + \", \" + s[0][0][0]"
     ],
     "language": "python",
     "metadata": {},
     "outputs": [
      {
       "output_type": "stream",
       "stream": "stdout",
       "text": [
        "[\uc2e4\ud589 1] s[0], s[0][0], s[0][0][0]\n",
        ": p, p, p\n"
       ]
      }
     ],
     "prompt_number": 5
    },
    {
     "cell_type": "markdown",
     "metadata": {},
     "source": [
      "<\ucf54\ub4dc \ubc0f \uacb0\uacfc \uc124\uba85>"
     ]
    },
    {
     "cell_type": "markdown",
     "metadata": {},
     "source": [
      "s\uc758 \uccab\ubc88\uc9f8 \uac1d\uccb4\uc758 \uac12\uc740 p\uc774\uba70, \uadf8 \uac1d\uccb4\uc758 \uccab\ubc88\uc9f8 \uac1d\uccb4\uc758 \uac12\ub3c4 p\uc774\uace0, \uadf8 \uac1d\uccb4\uc758 \uccab\ubc88\uc9f8 \uac1d\uccb4 \ub610\ud55c p\uc774\uae30 \ub54c\ubb38\uc5d0 p\uac00 \ucd9c\ub825\ub41c \uac83\uc774\ub2e4."
     ]
    },
    {
     "cell_type": "heading",
     "level": 4,
     "metadata": {},
     "source": [
      "4-2) s[-100], s[100]\uc740 \uac12\uc774 \ub098\uc624\ub294\uc9c0 \uc5d0\ub7ec\uac00 \ub098\uc624\ub294\uc9c0 \ud655\uc778\ud558\uace0 \uadf8 \uacb0\uacfc\uc5d0 \ub300\ud55c \uc774\uc720\ub97c \ub098\ub984\ub300\ub85c \uc124\uba85\ud574 \ubcf4\uc2dc\uc624."
     ]
    },
    {
     "cell_type": "markdown",
     "metadata": {},
     "source": [
      "<\ubb38\uc81c \ubd84\uc11d>"
     ]
    },
    {
     "cell_type": "markdown",
     "metadata": {},
     "source": [
      "s[-100], s[100]\uc744 \ud45c\uc900 \ucd9c\ub825\ud558\uba74 \ub41c\ub2e4."
     ]
    },
    {
     "cell_type": "markdown",
     "metadata": {},
     "source": [
      "<\ucf54\ub4dc : hw01_04_02.py>"
     ]
    },
    {
     "cell_type": "code",
     "collapsed": false,
     "input": [
      "#!/usr/local/bin/python\n",
      "# coding: utf-8\n",
      "import sys, os\n",
      "\n",
      "s = \"python\"\n",
      "print \"[\uc2e4\ud589 2] s[-100], s[100]\"\n",
      "print \": \" + s[-100] + ', ' + s[100]"
     ],
     "language": "python",
     "metadata": {},
     "outputs": [
      {
       "ename": "IndexError",
       "evalue": "string index out of range",
       "output_type": "pyerr",
       "traceback": [
        "\u001b[0;31m---------------------------------------------------------------------------\u001b[0m\n\u001b[0;31mIndexError\u001b[0m                                Traceback (most recent call last)",
        "\u001b[0;32m<ipython-input-2-41b7f1c39ec9>\u001b[0m in \u001b[0;36m<module>\u001b[0;34m()\u001b[0m\n\u001b[1;32m      5\u001b[0m \u001b[0ms\u001b[0m \u001b[0;34m=\u001b[0m \u001b[0;34m\"python\"\u001b[0m\u001b[0;34m\u001b[0m\u001b[0m\n\u001b[1;32m      6\u001b[0m \u001b[0;32mprint\u001b[0m \u001b[0;34m\"[\uc2e4\ud589 2] s[-100], s[100]\"\u001b[0m\u001b[0;34m\u001b[0m\u001b[0m\n\u001b[0;32m----> 7\u001b[0;31m \u001b[0;32mprint\u001b[0m \u001b[0;34m\": \"\u001b[0m \u001b[0;34m+\u001b[0m \u001b[0ms\u001b[0m\u001b[0;34m[\u001b[0m\u001b[0;34m-\u001b[0m\u001b[0;36m100\u001b[0m\u001b[0;34m]\u001b[0m \u001b[0;34m+\u001b[0m \u001b[0;34m', '\u001b[0m \u001b[0;34m+\u001b[0m \u001b[0ms\u001b[0m\u001b[0;34m[\u001b[0m\u001b[0;36m100\u001b[0m\u001b[0;34m]\u001b[0m\u001b[0;34m\u001b[0m\u001b[0m\n\u001b[0m",
        "\u001b[0;31mIndexError\u001b[0m: string index out of range"
       ]
      },
      {
       "output_type": "stream",
       "stream": "stdout",
       "text": [
        "[\uc2e4\ud589 2] s[-100], s[100]\n"
       ]
      }
     ],
     "prompt_number": 2
    },
    {
     "cell_type": "markdown",
     "metadata": {},
     "source": [
      "<\ucf54\ub4dc \ubc0f \uacb0\uacfc \uc124\uba85>"
     ]
    },
    {
     "cell_type": "markdown",
     "metadata": {},
     "source": [
      "\ubb38\uc790\uc5f4 s\ub294 \uc120\uc5b8\ub420 \ub54c \"python\", \uae38\uc774\uac00 6\uc774\ubbc0\ub85c \uadf8 \uc774\uc0c1\uc758 \uc778\ub371\uc2a4 \ubc94\uc704\uc5d0\uc11c \ubb38\uc790\ub97c \ubd88\ub7ec\uc624\ub824\uace0 \ud558\uba74 \uc5d0\ub7ec\uac00 \ubc1c\uc0dd\ud55c\ub2e4. s\uc758 \ud5c8\uc6a9 \uac00\ub2a5\ud55c \uc778\ub371\uc2a4 \ubc94\uc704\ub294 -6~5 \uc0ac\uc774\ub2e4."
     ]
    },
    {
     "cell_type": "heading",
     "level": 4,
     "metadata": {},
     "source": [
      "4-3) s[-100, 100]\uc740 \uac12\uc774 \ub098\uc624\ub294\uc9c0 \uc5d0\ub7ec\uac00 \ub098\uc624\ub294\uc9c0 \ud655\uc778\ud558\uace0 \uadf8 \uacb0\uacfc\uc5d0 \ub300\ud55c \uc774\uc720\ub97c \ub098\ub984\ub300\ub85c \uc124\uba85\ud574 \ubcf4\uc2dc\uc624."
     ]
    },
    {
     "cell_type": "markdown",
     "metadata": {},
     "source": [
      "<\ubb38\uc81c \ubd84\uc11d>"
     ]
    },
    {
     "cell_type": "markdown",
     "metadata": {},
     "source": [
      "s[-100, 100]\uc744 \ud45c\uc900 \ucd9c\ub825\ud558\uba74 \ub41c\ub2e4."
     ]
    },
    {
     "cell_type": "markdown",
     "metadata": {},
     "source": [
      "<\ucf54\ub4dc : hw01_04_03.py>"
     ]
    },
    {
     "cell_type": "code",
     "collapsed": false,
     "input": [
      "#!/usr/local/bin/python\n",
      "# coding: utf-8\n",
      "import sys, os\n",
      "\n",
      "s = \"python\"\n",
      "print \"[\uc2e4\ud589 3] s[-100, 100]\"\n",
      "print \": \" + s[-100, 100]"
     ],
     "language": "python",
     "metadata": {},
     "outputs": [
      {
       "ename": "TypeError",
       "evalue": "string indices must be integers, not tuple",
       "output_type": "pyerr",
       "traceback": [
        "\u001b[0;31m---------------------------------------------------------------------------\u001b[0m\n\u001b[0;31mTypeError\u001b[0m                                 Traceback (most recent call last)",
        "\u001b[0;32m<ipython-input-3-d584e59e4b82>\u001b[0m in \u001b[0;36m<module>\u001b[0;34m()\u001b[0m\n\u001b[1;32m      5\u001b[0m \u001b[0ms\u001b[0m \u001b[0;34m=\u001b[0m \u001b[0;34m\"python\"\u001b[0m\u001b[0;34m\u001b[0m\u001b[0m\n\u001b[1;32m      6\u001b[0m \u001b[0;32mprint\u001b[0m \u001b[0;34m\"[\uc2e4\ud589 3] s[-100, 100]\"\u001b[0m\u001b[0;34m\u001b[0m\u001b[0m\n\u001b[0;32m----> 7\u001b[0;31m \u001b[0;32mprint\u001b[0m \u001b[0;34m\": \"\u001b[0m \u001b[0;34m+\u001b[0m \u001b[0ms\u001b[0m\u001b[0;34m[\u001b[0m\u001b[0;34m-\u001b[0m\u001b[0;36m100\u001b[0m\u001b[0;34m,\u001b[0m \u001b[0;36m100\u001b[0m\u001b[0;34m]\u001b[0m\u001b[0;34m\u001b[0m\u001b[0m\n\u001b[0m",
        "\u001b[0;31mTypeError\u001b[0m: string indices must be integers, not tuple"
       ]
      },
      {
       "output_type": "stream",
       "stream": "stdout",
       "text": [
        "[\uc2e4\ud589 3] s[-100, 100]\n"
       ]
      }
     ],
     "prompt_number": 3
    },
    {
     "cell_type": "markdown",
     "metadata": {},
     "source": [
      "<\ucf54\ub4dc \ubc0f \uacb0\uacfc \uc124\uba85>"
     ]
    },
    {
     "cell_type": "markdown",
     "metadata": {},
     "source": [
      "\ubb38\uc790\uc5f4\uc758 \uc778\ub371\uc2a4 \uc548\uc5d0\ub294 \uc815\uc218 \ud558\ub098\uac00 \uc640\uc57c \ud55c\ub2e4. -100, 100\uc740 \ud29c\ud50c\ub85c \uc778\uc2dd\ud574\uc11c \ubb38\ubc95\uc5d0 \uc5b4\uae0b\ub098\ubbc0\ub85c \uc5d0\ub7ec\uac00 \ubc1c\uc0dd\ud55c\ub2e4."
     ]
    },
    {
     "cell_type": "heading",
     "level": 4,
     "metadata": {},
     "source": [
      "4-4) s[1:-1]\uc758 \uacb0\uacfc\ub97c \ud655\uc778\ud558\uace0 \uadf8 \uacb0\uacfc\uc5d0 \ub300\ud55c \uc774\uc720\ub97c \uc815\ud655\ud558\uac8c \uc124\uba85\ud558\uc2dc\uc624."
     ]
    },
    {
     "cell_type": "markdown",
     "metadata": {},
     "source": [
      "<\ubb38\uc81c \ubd84\uc11d>"
     ]
    },
    {
     "cell_type": "markdown",
     "metadata": {},
     "source": [
      "s[1:-1]\uc744 \ud45c\uc900 \ucd9c\ub825\ud55c\ub2e4."
     ]
    },
    {
     "cell_type": "markdown",
     "metadata": {},
     "source": [
      "<\ucf54\ub4dc : hw01_04_04.py>"
     ]
    },
    {
     "cell_type": "code",
     "collapsed": false,
     "input": [
      "#!/usr/local/bin/python\n",
      "# coding: utf-8\n",
      "import sys, os\n",
      "\n",
      "s = \"python\"\n",
      "print \"[\uc2e4\ud589 4] s[1:-1]\"\n",
      "print \": \" + s[1:-1]"
     ],
     "language": "python",
     "metadata": {},
     "outputs": [
      {
       "output_type": "stream",
       "stream": "stdout",
       "text": [
        "[\uc2e4\ud589 4] s[1:-1]\n",
        ": ytho\n"
       ]
      }
     ],
     "prompt_number": 4
    },
    {
     "cell_type": "markdown",
     "metadata": {},
     "source": [
      "<\ucf54\ub4dc \ubc0f \uacb0\uacfc \uc124\uba85>"
     ]
    },
    {
     "cell_type": "markdown",
     "metadata": {},
     "source": [
      "s[1:-1]\uc740 Slicing \ubb38\ubc95\uc5d0 \uc758\ud558\uba74 s\uc758 \uc778\ub371\uc2a4 1\ubd80\ud130 -1\uc804\uae4c\uc9c0\uc758 \ubb38\uc790\uc5f4\uc744 \ubc18\ud658\ud558\ub294 \uac83\uc744 \uc758\ubbf8\ud55c\ub2e4. \uadf8\ub7f0\ub370 s[-1]\uc740 \uc0ac\uc2e4 s[5]\uc640 \uac19\ub2e4. \ub530\ub77c\uc11c \uc2e4\ud589\uc774 \ub420 \ub54c s[1:5]\uc640 \ub3d9\uc77c\ud558\uac8c \uc2e4\ud589\uc774 \ub418\ub294 \uac83\uc774\ub2e4. \uad6c\uc870\ub97c \ud45c\ud604\ud558\uba74 \ub2e4\uc74c\uacfc \uac19\ub2e4."
     ]
    },
    {
     "cell_type": "markdown",
     "metadata": {},
     "source": [
      " +---+---+---+---+---+---+\n",
      " \n",
      " | P | y | t | h | o | n |\n",
      " \n",
      " +---+---+---+---+---+---+\n",
      " \n",
      " 0   1   2   3   4   5   6\n",
      " \n",
      "-6  -5  -4  -3  -2  -1"
     ]
    },
    {
     "cell_type": "markdown",
     "metadata": {},
     "source": [
      "\ub300\uc751\ub418\ub294 \uc778\ub371\uc2a4\ub97c \ucc28\ub840\ub85c \ub098\uc5f4\ud558\uba74, \uc784\uc758\uc758 \ubb38\uc790\uc5f4 str\uc774 \uc788\uace0 len[str]\uc758 \uac12\uc774 \uc815\uc218 n\uc77c \ub54c, \uc544\ub798\uc640 \uac19\ub2e4."
     ]
    },
    {
     "cell_type": "markdown",
     "metadata": {},
     "source": [
      "s[0]   == s[-n + 0]\n",
      "\n",
      "s[1]   == s[-n + 1]\n",
      "\n",
      "s[2]   == s[-n + 2]\n",
      "\n",
      "s[...] == s[-n + ...]\n",
      "\n",
      "s[n-1] == s[-1 + (n - 1)] == s[-1]"
     ]
    },
    {
     "cell_type": "markdown",
     "metadata": {},
     "source": [
      "\ucc38\uace0 \uc790\ub8cc) https://docs.python.org/2/tutorial/introduction.html#strings"
     ]
    },
    {
     "cell_type": "heading",
     "level": 4,
     "metadata": {},
     "source": [
      "4-5) s[3:-3]\uc758 \uacb0\uacfc\ub97c \ud655\uc778\ud558\uace0 \uadf8 \uacb0\uacfc\uc5d0 \ub300\ud55c \uc774\uc720\ub97c \uc815\ud655\ud558\uac8c \uc124\uba85\ud558\uc2dc\uc624."
     ]
    },
    {
     "cell_type": "markdown",
     "metadata": {},
     "source": [
      "<\ubb38\uc81c \ubd84\uc11d>"
     ]
    },
    {
     "cell_type": "markdown",
     "metadata": {},
     "source": [
      "s[3:-3]\uc744 \ud45c\uc900 \ucd9c\ub825\ud55c\ub2e4.\n",
      "\n"
     ]
    },
    {
     "cell_type": "markdown",
     "metadata": {},
     "source": [
      "  "
     ]
    },
    {
     "cell_type": "markdown",
     "metadata": {},
     "source": [
      "<\ucf54\ub4dc : hw01_04_05.py>"
     ]
    },
    {
     "cell_type": "code",
     "collapsed": false,
     "input": [
      "#!/usr/local/bin/python\n",
      "# coding: utf-8\n",
      "import sys, os\n",
      "\n",
      "s = \"python\"\n",
      "print \"[\uc2e4\ud589 5] s[3:-3]\"\n",
      "print \": \" + s[3:-3]"
     ],
     "language": "python",
     "metadata": {},
     "outputs": [
      {
       "output_type": "stream",
       "stream": "stdout",
       "text": [
        "[\uc2e4\ud589 5] s[3:-3]\n",
        ": \n"
       ]
      }
     ],
     "prompt_number": 5
    },
    {
     "cell_type": "markdown",
     "metadata": {},
     "source": [
      "<\ucf54\ub4dc \ubc0f \uacb0\uacfc \uc124\uba85>"
     ]
    },
    {
     "cell_type": "markdown",
     "metadata": {},
     "source": [
      "\ubb38\uc81c 4-4\uc5d0\uc11c \uc124\uba85\ud588\ub4ef\uc774, s[3:-3]\uc740 \ub9c8\ucc2c\uac00\uc9c0\ub85c \ubb38\uc790\uc5f4 s\ub97c \uc778\ub371\uc2a4 3\uc5d0\uc11c -3\uae4c\uc9c0\uc758 \ubb38\uc790\uc5f4\uc744 \ubc18\ud658\ud55c\ub2e4. \uadf8\ub7f0\ub370 s[3]\uacfc s[-3]\uacfc\uc740 \ub3d9\uc77c\ud55c \uc778\ub371\uc2a4\ub2e4. \uc778\ub371\uc2a4 3\uc5d0\uc11c 3\uae4c\uc9c0\uc758 \ubb38\uc790\uc5f4\uc744 \ubc18\ud658\ud55c\ub2e4\uba74 \uadf8 \uacb0\uacfc\ub294 \ube44\uc5b4\uc788\ub294 \uac83\uc774 \uc790\uba85\ud558\ub2e4. \uc2e4\uc81c \uacb0\uacfc \ub610\ud55c \uae38\uc774\uac00 \uc5c6\ub294 \ubb38\uc790\uc5f4\uc774 \ubc18\ud658\ub418\ub294 \uac83\uc744 \ubcfc \uc218 \uc788\ub2e4. \uc880 \ub354 \ud655\uc2e4\ud558\uac8c \ud655\uc778\ud558\uace0 \uc2f6\ub2e4\uba74 ipython\uc744 \uc2e4\ud589\ud558\uc5ec \uc9c1\uc811 s[3:-3]\uc758 \uac12\uc744 \ud655\uc778\ud574\ubcf4\uba74 \ub41c\ub2e4. \uc544\ub798 \ucf54\ub4dc\uc5d0\uc11c \uadf8 \uacb0\uacfc\ub97c \ud655\uc778\ud560 \uc218 \uc788\ub2e4."
     ]
    },
    {
     "cell_type": "code",
     "collapsed": false,
     "input": [
      "s = \"python\"\n",
      "s[3:-3]"
     ],
     "language": "python",
     "metadata": {},
     "outputs": [
      {
       "metadata": {},
       "output_type": "pyout",
       "prompt_number": 8,
       "text": [
        "''"
       ]
      }
     ],
     "prompt_number": 8
    },
    {
     "cell_type": "heading",
     "level": 4,
     "metadata": {},
     "source": [
      "\ubb38\uc81c 5) for\ubb38\uc744 \ud65c\uc6a9\ud558\uc5ec 1\ubd80\ud130 100\uc0ac\uc774\uc758 \ud640\uc218\ub97c \ucd9c\ub825\ud558\uc2dc\uc624."
     ]
    },
    {
     "cell_type": "markdown",
     "metadata": {},
     "source": [
      "<\ubb38\uc81c \ubd84\uc11d>"
     ]
    },
    {
     "cell_type": "markdown",
     "metadata": {},
     "source": [
      "for\ubb38\uc758 \ubc94\uc704\ub97c 1\ubd80\ud130 100\uae4c\uc9c0 \uc124\uc815\ud558\uace0 \ud0c0\uac9f \ubcc0\uc218\ub97c 2\uc529 \uc99d\uac00\uc2dc\ud0a4\uba70 \ubc18\ubcf5\ud574\uc11c \ucd9c\ub825\ud558\ub3c4\ub85d \ud55c\ub2e4."
     ]
    },
    {
     "cell_type": "markdown",
     "metadata": {},
     "source": [
      "<\ucf54\ub4dc : hw01_05.py>"
     ]
    },
    {
     "cell_type": "code",
     "collapsed": false,
     "input": [
      "#!/usr/local/bin/python\n",
      "# coding: utf-8\n",
      "import sys, os\n",
      "\n",
      "for x in range(1,101,2):\t#1\ubd80\ud130 100\uae4c\uc9c0 2\uc529 \uac00\uc0b0\ud558\uba70 \ubc18\ubcf5\n",
      "\tprint x,"
     ],
     "language": "python",
     "metadata": {},
     "outputs": [
      {
       "output_type": "stream",
       "stream": "stdout",
       "text": [
        "1 3 5 7 9 11 13 15 17 19 21 23 25 27 29 31 33 35 37 39 41 43 45 47 49 51 53 55 57 59 61 63 65 67 69 71 73 75 77 79 81 83 85 87 89 91 93 95 97 99\n"
       ]
      }
     ],
     "prompt_number": 9
    },
    {
     "cell_type": "markdown",
     "metadata": {},
     "source": [
      "<\ucf54\ub4dc \ubc0f \uacb0\uacfc \uc124\uba85>"
     ]
    },
    {
     "cell_type": "markdown",
     "metadata": {},
     "source": [
      "\ubb38\uc81c\ub97c \ubd84\uc11d\ud55c \ub300\ub85c, 2\uc529 \uc99d\uac00\uc2dc\ud0a4\uba70 \ucd9c\ub825\uc744 \ud558\uc600\ub2e4. if\ubb38\uc744 \uc0ac\uc6a9\ud558\uc5ec \ud640\uc9dd\uc744 \ud310\ubcc4\ud55c \ub4a4 \ud640\uc218\uc77c \ub54c\ub9cc \ucd9c\ub825\ud560 \uc218\ub3c4 \uc788\uc5c8\uc9c0\ub9cc, 2\uc529 \uc99d\uac00\uc2dc\ud0a4\uba74\uc11c \ud640\uc218\ub97c \ucd9c\ub825\ud558\ub294 \uac83\uc774 \ucf54\ub4dc \uae38\uc774\uac00 \ub354 \uc9e7\uc544\uc11c \uc774\uc640 \uac19\uc740 \ubc29\ubc95\uc744 \uc0ac\uc6a9\ud558\uc600\ub2e4."
     ]
    },
    {
     "cell_type": "markdown",
     "metadata": {},
     "source": [
      "  "
     ]
    },
    {
     "cell_type": "heading",
     "level": 4,
     "metadata": {},
     "source": [
      "\ubb38\uc81c 6) while\ubb38\uc744 \ud65c\uc6a9\ud558\uc5ec 1\ubd80\ud130 100\uc0ac\uc774\uc758 \uc9dd\uc218\uc758 \ud569\uc744 \uacc4\uc0b0\ud558\uc5ec \ucd9c\ub825\ud558\uc2dc\uc624."
     ]
    },
    {
     "cell_type": "markdown",
     "metadata": {},
     "source": [
      "<\ubb38\uc81c \ubd84\uc11d>"
     ]
    },
    {
     "cell_type": "markdown",
     "metadata": {},
     "source": [
      "while\uc758 \uc870\uac74\uc744 0\ubd80\ud130 2\uc529 \uc99d\uac00\ud558\ub294 \ubcc0\uc218\uac00 100 \uc774\ud558\uc77c \uacbd\uc6b0\ub85c \uc124\uc815\ud558\uace0 2\uc529 \uc99d\uac00\ud558\ub294 \ubcc0\uc218\ub4e4\uc758 \ud569\uc744 \uc800\uc7a5\ud558\ub294 \ubcc0\uc218\uc5d0 \ubc18\ubcf5\uc801\uc73c\ub85c \uc9dd\uc218\ub4e4\uc744 \uc800\uc7a5\ud558\ub3c4\ub85d \ud55c\ub2e4."
     ]
    },
    {
     "cell_type": "markdown",
     "metadata": {},
     "source": [
      "<\ucf54\ub4dc : hw01_06.py>"
     ]
    },
    {
     "cell_type": "code",
     "collapsed": false,
     "input": [
      "#!/usr/local/bin/python\n",
      "# coding: utf-8\n",
      "import sys, os\n",
      "\n",
      "i = 0\t\t# while\ubb38\uc758 \uc870\uac74 \ubcc0\uc218 \uacb8 100\uae4c\uc9c0 \uc99d\uac00\ud558\ub294 \uc9dd\uc218\n",
      "result = 0\t# \uc9dd\uc218\ub4e4\uc758 \ucd1d\ud569\uc744 \uc800\uc7a5\ud560 \ubcc0\uc218\n",
      "\n",
      "while i < 100:\t\t# i\uac00 100\uc5d0 \ub3c4\ub2ec\ud560 \ub54c\uae4c\uc9c0\n",
      "\ti += 2\t\t# i\uc5d0 2\ub97c \ub354\ud558\uace0\n",
      "\tresult += i\t# \uc99d\uac00\ub41c \uc9dd\uc218 i\ub97c result\uc5d0 \uc800\uc7a5\ud55c\ub2e4.\n",
      "\n",
      "print \"1\ubd80\ud130 100 \uc0ac\uc774\uc758 \uc9dd\uc218\ub4e4\uc758 \ud569 :\", result"
     ],
     "language": "python",
     "metadata": {},
     "outputs": [
      {
       "output_type": "stream",
       "stream": "stdout",
       "text": [
        "1\ubd80\ud130 100 \uc0ac\uc774\uc758 \uc9dd\uc218\ub4e4\uc758 \ud569 : 2550\n"
       ]
      }
     ],
     "prompt_number": 10
    },
    {
     "cell_type": "markdown",
     "metadata": {},
     "source": [
      "<\ucf54\ub4dc \ubc0f \uacb0\uacfc \uc124\uba85>"
     ]
    },
    {
     "cell_type": "markdown",
     "metadata": {},
     "source": [
      "while\ubb38\uc5d0 \uc9c4\uc785\ud558\uba74 \ucd08\uae30\uac12\uc774 0\uc774\ub358 i\ub294 2\uac00 \uc99d\uac00\ub418\uc5b4 \uc9dd\uc218\ub4e4\uc758 \ucd1d\ud569\uc744 \uc800\uc7a5\ud558\ub294 \ubcc0\uc218 result\uc5d0 \uadf8 \uac12\uc774 \uc800\uc7a5\ub41c\ub2e4. i\uac00 100\uc5d0 \ub3c4\ub2ec\ud588\uc744 \ub54c while\ubb38\uc5d0\uc11c \ube60\uc838\ub098\uc624\ub294\ub370, i\uac00 100\uc5d0 \ub3c4\ub2ec\ud55c \ub4a4\uc5d0 100\uc774 result\uc5d0 \ucd94\uac00\ub85c \ub354\ud574\uc9c0\uace0 \ub098\uc11c while\ubb38\uc744 \ube60\uc838\ub098\uc624\ubbc0\ub85c 1~100 \uc0ac\uc774\uc758 \ubaa8\ub4e0 \uc9dd\uc218\ub4e4\uc758 \ucd1d\ud569\uc774 result\uc5d0 \uc800\uc7a5\ub418\ub294 \uac83\uc774\ub2e4."
     ]
    },
    {
     "cell_type": "markdown",
     "metadata": {},
     "source": [
      "  "
     ]
    },
    {
     "cell_type": "heading",
     "level": 4,
     "metadata": {},
     "source": [
      "\ubb38\uc81c 7) \uc678\ubd80\ub85c \ubd80\ud130 \uc815\uc218\ub97c \uc785\ub825\ubc1b\uc544\uc11c 1\ubd80\ud130 \uadf8 \uc0ac\uc774\uc5d0 \uc874\uc7ac\ud558\ub294 \uc18c\uc218 (Prime number)\ub97c \ucd9c\ub825\ud558\ub294 \ud30c\uc774\uc36c \ud504\ub85c\uadf8\ub7a8\uc744 \uc791\uc131\ud558\uc2dc\uc624."
     ]
    },
    {
     "cell_type": "markdown",
     "metadata": {},
     "source": [
      "<\ubb38\uc81c \ubd84\uc11d>"
     ]
    },
    {
     "cell_type": "markdown",
     "metadata": {},
     "source": [
      "\ubb38\uc81c\uc758 \uc870\uac74\uc774 \uc870\uae08 \ubd80\uc871\ud558\uae30 \ub54c\ubb38\uc5d0 \uc785\ub825\ubc1b\ub294 \uc815\uc218\uc758 \ubc94\uc704\ub97c \uc0c1\uc2dd\uc801\uc778 \uc120\uc5d0\uc11c \ucef4\ud4e8\ud305 \ud658\uacbd\uc5d0 \ubb34\ub9ac\uac00 \uac00\uc9c0 \uc54a\ub294 \uc815\ub3c4\ub85c \uc0c1\ud55c\uc120\uc744 \ub454\ub2e4. \uadf8 \uc0c1\ud55c\uc120\uc740 \uac1c\uc778\uc801\uc73c\ub85c \ud14c\uc2a4\ud2b8\ub97c \ud55c \uacb0\uacfc 100000(\uc2ed\ub9cc)\uc774 \uc801\uc808\ud558\uc600\ub2e4.\n",
      "\uc18c\uc218\ub97c \uad6c\ud558\ub294 \uae30\ubcf8\uc801\uc778 \ubc29\ubc95\uc740 \uc18c\uc218 \ud310\ubcc4\uc744 \ud560 \uc218\ubcf4\ub2e4 \uc791\uc740 \uc218\ub85c \ud574\ub2f9 \uc218\ub97c \ub098\ub204\uc5b4\ubcf4\uba74 \ub41c\ub2e4. \ubcf4\ud1b5 \uc18c\uc218 \ud310\ubcc4\uc744 \ud560 \uc218\uc758 \uc81c\uacf1\uadfc\uae4c\uc9c0 \ub098\ub204\uc5b4 \ub5a8\uc5b4\uc9c0\ub294\uc9c0 \uc0b4\ud3b4\ubcf8\ub2e4. \uadf8 \uc774\uc0c1\uc758 \uc218\ub85c\ub294 \ubaab\uc774 \ub098\uc624\uc9c0 \uc54a\uae30 \ub54c\ubb38\uc774\ub2e4.\n",
      "\n",
      "\n",
      "\n",
      "\uadf8\ub7f0\ub370 \uc774 \ubb38\uc81c\ub294 1\ubd80\ud130 \uc785\ub825\ubc1b\uc740 \uc218 \uc0ac\uc774\uc758 \uc18c\uc218\ub97c \ucd9c\ub825\ud558\ub294 \uac83\uc774\uae30 \ub54c\ubb38\uc5d0 \uc5d0\ub77c\ud1a0\uc2a4\ud14c\ub124\uc2a4\uc758 \uccb4\ub97c \ud65c\uc6a9\ud558\uc5ec \ubb38\uc81c\ub97c \ubcf4\ub2e4 \uc27d\uac8c \ud574\uacb0\ud560 \uc218 \uc788\ub2e4. \uc21c\ucc28\uc801\uc73c\ub85c \uad6c\ud55c \uc18c\uc218\ub97c \ub2e4\uc74c \ubc88\uc73c\ub85c \uc18c\uc218 \ud310\ubcc4\uc744 \ud574\uc57c \ud560 \uc218\uc5d0 \ub098\ub204\uc5b4\uc11c \ub5a8\uc5b4\uc9c0\ub294\uc9c0\ub97c \ud655\uc778\ud558\uba70 \uc18c\uc218\ub97c \ub9ac\uc2a4\ud2b8\uc5d0 \uc800\uc7a5\ud558\uba74 1\ubd80\ud130 \uc785\ub825\ubc1b\uc740 \uc218 \uc0ac\uc774\uc5d0 \uc874\uc7ac\ud558\ub294 \uc18c\uc218\ub97c \ud310\ubcc4\ud560 \uc218 \uc788\ub2e4."
     ]
    },
    {
     "cell_type": "markdown",
     "metadata": {},
     "source": [
      "<\ucf54\ub4dc : hw01_07.py>"
     ]
    },
    {
     "cell_type": "code",
     "collapsed": false,
     "input": [
      "#!/usr/local/bin/python\n",
      "# coding: utf-8\n",
      "import sys, os, math\n",
      "\n",
      "\n",
      "#<---------- \uc8fc\uc694 \ubcc0\uc218 \uc120\uc5b8 ---------->#\n",
      "\n",
      "max_int = 100000\t# \uc785\ub825\ud560 \uc218 \uc788\ub294 \uc815\uc218 \ucd5c\ub300\uac12. \uc774 \uac12 \uc774\uc0c1\uc73c\ub85c\ub3c4 \ud504\ub85c\uadf8\ub7a8\uc744 \ub3cc\ub9b4 \uc218\ub294 \uc788\uc73c\ub098 \uad49\uc7a5\ud788 \uc624\ub798 \uac78\ub9ac\ubbc0\ub85c \uc784\uc758\ub85c \uc785\ub825 \uac12\uc758 \uc0c1\ud55c\uce58\ub97c \uacb0\uc815\ud558\uc600\ub2e4.\n",
      "MAX_INT = str(100000)\t# \uc785\ub825\ud560 \uc218 \uc788\ub294 \uc815\uc218 \ucd5c\ub300\uac12\uc744 \ubb38\uc790\uc5f4 \ud615\uc2dd\uc73c\ub85c \uc800\uc7a5\ud55c \ubcc0\uc218\n",
      "prime_num = [1, 2]\t# 1\ubd80\ud130 \uc785\ub825\ubc1b\uc740 \uc22b\uc790 \uc0ac\uc774\uc758 \uc18c\uc218\ub97c \uc800\uc7a5\ud558\ub294 \ubcc0\uc218\uc774\uc790 \uc5d0\ub77c\ud1a0\uc2a4\ud14c\ub124\uc2a4\uc758 \uccb4\n",
      "\n",
      "\n",
      "#<---------- \ud45c\uc900 \uc785\ub825 ---------->#\n",
      "\n",
      "num = input('2 \uc774\uc0c1 ' + MAX_INT + '\uc774\ud558\uc758 \uc815\uc218\ub97c \uc785\ub825\ud574\uc8fc\uc2ed\uc2dc\uc624 : ')\n",
      "\n",
      "# \uc785\ub825\uc5d0 \ub300\ud55c \uc608\uc678 \ucc98\ub9ac \ucf54\ub4dc\n",
      "while num < 2 or num > max_int or type(num) == float:\n",
      "\tif type(num) == float :\n",
      "\t\tprint '*\uc785\ub825\ub41c \uac12\uc774 \uc2e4\uc218\uc785\ub2c8\ub2e4. \uc815\uc218\ub85c \uc785\ub825\ud574\uc8fc\uc2ed\uc2dc\uc624.\\n(\ubc94\uc704\ub294 2 \uc774\uc0c1 ' + MAX_INT + ' \uc774\ud558\uc758 \uc815\uc218\uc785\ub2c8\ub2e4.)'\n",
      "\telif num < 2 :\n",
      "\t\tprint '*\uc785\ub825\ub41c \uac12\uc774 2\ubcf4\ub2e4 \uc791\uc2b5\ub2c8\ub2e4. \ub2e4\uc2dc \uc785\ub825\ud574\uc8fc\uc2ed\uc2dc\uc624.\\n(\ubc94\uc704\ub294 2 \uc774\uc0c1 ' + MAX_INT + ' \uc774\ud558\uc758 \uc815\uc218\uc785\ub2c8\ub2e4.)'\n",
      "\telse:\n",
      "\t\tprint '*\uc785\ub825\ub41c \uac12\uc774 ' + MAX_INT + ' \ubcf4\ub2e4 \ud07d\ub2c8\ub2e4. \ub2e4\uc2dc \uc785\ub825\ud574\uc8fc\uc2ed\uc2dc\uc624.\\n(\ubc94\uc704\ub294 2 \uc774\uc0c1 ' + MAX_INT + ' \uc774\ud558\uc758 \uc815\uc218\uc785\ub2c8\ub2e4.)'\n",
      "\tnum = input(': ')\n",
      "\n",
      "#<---------- \uc18c\uc218 \uad6c\ud558\uae30 ---------->#\n",
      "\n",
      "# Key-Point! \uc5d0\ub77c\ud1a0\uc2a4\ud14c\ub124\uc2a4\uc758 \uccb4\ub97c \uc774\uc6a9\ud558\uba74 \ub41c\ub2e4.\n",
      "\n",
      "for i in range(2, num+1):\n",
      "\tfor j in range(1, len(prime_num)):\n",
      "\t\tif i % prime_num[j] == 0:\t#\uc18c\uc218\ub85c \ub098\ub204\uc5b4 \ub5a8\uc5b4\uc9c4\ub2e4, \uc989 \uc18c\uc218\uac00 \uc544\ub2c8\ub2e4.\n",
      "\t\t\tj = len(prime_num) + 1\n",
      "\t\t\tbreak\n",
      "\t\telif math.sqrt(num) < prime_num[j]:\t#\uc18c\uc218 \ud310\ubcc4\ud560 \uc218\uc758 \uc81c\uacf1\uadfc\ubcf4\ub2e4 \ub098\ub217\uc148\uc73c\ub85c \ud53c\uc5f0\uc0b0\ud560 \uc18c\uc218\uac00 \ub354 \ud06c\ub2e4, \uc989 \ubc18\ubcf5\ubb38\uc744 \ube60\uc838\ub098\uc628\ub2e4.\n",
      "\t\t\tbreak\n",
      "\tif j != len(prime_num) + 1:\t\n",
      "\t\tprime_num.append(i)\n",
      "print prime_num[1:]"
     ],
     "language": "python",
     "metadata": {},
     "outputs": [
      {
       "name": "stdout",
       "output_type": "stream",
       "stream": "stdout",
       "text": [
        "2 \uc774\uc0c1 100000\uc774\ud558\uc758 \uc815\uc218\ub97c \uc785\ub825\ud574\uc8fc\uc2ed\uc2dc\uc624 : 1\n"
       ]
      },
      {
       "output_type": "stream",
       "stream": "stdout",
       "text": [
        "*\uc785\ub825\ub41c \uac12\uc774 2\ubcf4\ub2e4 \uc791\uc2b5\ub2c8\ub2e4. \ub2e4\uc2dc \uc785\ub825\ud574\uc8fc\uc2ed\uc2dc\uc624.\n",
        "(\ubc94\uc704\ub294 2 \uc774\uc0c1 100000 \uc774\ud558\uc758 \uc815\uc218\uc785\ub2c8\ub2e4.)\n"
       ]
      },
      {
       "name": "stdout",
       "output_type": "stream",
       "stream": "stdout",
       "text": [
        ": -5\n"
       ]
      },
      {
       "output_type": "stream",
       "stream": "stdout",
       "text": [
        "*\uc785\ub825\ub41c \uac12\uc774 2\ubcf4\ub2e4 \uc791\uc2b5\ub2c8\ub2e4. \ub2e4\uc2dc \uc785\ub825\ud574\uc8fc\uc2ed\uc2dc\uc624.\n",
        "(\ubc94\uc704\ub294 2 \uc774\uc0c1 100000 \uc774\ud558\uc758 \uc815\uc218\uc785\ub2c8\ub2e4.)\n"
       ]
      },
      {
       "name": "stdout",
       "output_type": "stream",
       "stream": "stdout",
       "text": [
        ": 9999999\n"
       ]
      },
      {
       "output_type": "stream",
       "stream": "stdout",
       "text": [
        "*\uc785\ub825\ub41c \uac12\uc774 100000 \ubcf4\ub2e4 \ud07d\ub2c8\ub2e4. \ub2e4\uc2dc \uc785\ub825\ud574\uc8fc\uc2ed\uc2dc\uc624.\n",
        "(\ubc94\uc704\ub294 2 \uc774\uc0c1 100000 \uc774\ud558\uc758 \uc815\uc218\uc785\ub2c8\ub2e4.)\n"
       ]
      },
      {
       "name": "stdout",
       "output_type": "stream",
       "stream": "stdout",
       "text": [
        ": 5.0\n"
       ]
      },
      {
       "output_type": "stream",
       "stream": "stdout",
       "text": [
        "*\uc785\ub825\ub41c \uac12\uc774 \uc2e4\uc218\uc785\ub2c8\ub2e4. \uc815\uc218\ub85c \uc785\ub825\ud574\uc8fc\uc2ed\uc2dc\uc624.\n",
        "(\ubc94\uc704\ub294 2 \uc774\uc0c1 100000 \uc774\ud558\uc758 \uc815\uc218\uc785\ub2c8\ub2e4.)\n"
       ]
      },
      {
       "name": "stdout",
       "output_type": "stream",
       "stream": "stdout",
       "text": [
        ": -6.1\n"
       ]
      },
      {
       "output_type": "stream",
       "stream": "stdout",
       "text": [
        "*\uc785\ub825\ub41c \uac12\uc774 \uc2e4\uc218\uc785\ub2c8\ub2e4. \uc815\uc218\ub85c \uc785\ub825\ud574\uc8fc\uc2ed\uc2dc\uc624.\n",
        "(\ubc94\uc704\ub294 2 \uc774\uc0c1 100000 \uc774\ud558\uc758 \uc815\uc218\uc785\ub2c8\ub2e4.)\n"
       ]
      },
      {
       "name": "stdout",
       "output_type": "stream",
       "stream": "stdout",
       "text": [
        ": 1000\n"
       ]
      },
      {
       "output_type": "stream",
       "stream": "stdout",
       "text": [
        "[2, 3, 5, 7, 11, 13, 17, 19, 23, 29, 31, 37, 41, 43, 47, 53, 59, 61, 67, 71, 73, 79, 83, 89, 97, 101, 103, 107, 109, 113, 127, 131, 137, 139, 149, 151, 157, 163, 167, 173, 179, 181, 191, 193, 197, 199, 211, 223, 227, 229, 233, 239, 241, 251, 257, 263, 269, 271, 277, 281, 283, 293, 307, 311, 313, 317, 331, 337, 347, 349, 353, 359, 367, 373, 379, 383, 389, 397, 401, 409, 419, 421, 431, 433, 439, 443, 449, 457, 461, 463, 467, 479, 487, 491, 499, 503, 509, 521, 523, 541, 547, 557, 563, 569, 571, 577, 587, 593, 599, 601, 607, 613, 617, 619, 631, 641, 643, 647, 653, 659, 661, 673, 677, 683, 691, 701, 709, 719, 727, 733, 739, 743, 751, 757, 761, 769, 773, 787, 797, 809, 811, 821, 823, 827, 829, 839, 853, 857, 859, 863, 877, 881, 883, 887, 907, 911, 919, 929, 937, 941, 947, 953, 967, 971, 977, 983, 991, 997]\n"
       ]
      }
     ],
     "prompt_number": 15
    },
    {
     "cell_type": "markdown",
     "metadata": {},
     "source": [
      "<\ucf54\ub4dc \ubc0f \uacb0\uacfc \uc124\uba85>"
     ]
    },
    {
     "cell_type": "markdown",
     "metadata": {},
     "source": [
      "\uc6b0\uc120 \uc785\ub825 \uac12\uc758 \ubc94\uc704\uac00 \uc5b4\uae0b\ub098\ub294 \uacbd\uc6b0\ub97c \uc608\uc678\ucc98\ub9ac\ud558\uc5ec \ubc94\uc704 \ub0b4\uc758 \uac12\uc744 \uc785\ub825\ud560 \ub54c \uc18c\uc218\ub97c \uad6c\ud558\uace0 \uacb0\uacfc\uac12\uc744 \ucd9c\ub825\ud560 \uc218 \uc788\ub3c4\ub85d \ud558\uc600\ub2e4. \ubb38\uc81c \uc0c1\uc5d0 \uc785\ub825 \ubc94\uc704\uac00 \uad6c\uccb4\uc801\uc73c\ub85c \uba85\uc2dc\ub418\uc5b4\uc788\uc9c0 \uc54a\uae30 \ub54c\ubb38\uc5d0 \uc554\ubb35\uc801\uc778 \uc0c1\uc2dd \uc120\uc5d0\uc11c 2 \uc774\uc0c1 100000 \uc774\ud558\uc758 \uc815\uc218\ub97c \uc785\ub825\ud558\ub3c4\ub85d \ud558\uc600\ub2e4. \ud2b9\ud788 \uc774 \ubc94\uc704 \uc774\ub0b4\uc758 \uc218\uac00 \uc785\ub825\ub418\ub9ac\ub77c\ub294 \ubcf4\uc7a5\uc774 \uc5c6\uae30 \ub54c\ubb38\uc5d0 \uc608\uc678\ucc98\ub9ac\ub97c \uc2e0\uacbd\uc368\uc11c \ucd94\uac00\ud558\uc600\ub2e4.\n",
      "\n",
      "\n",
      "\n",
      "\uadf8\ub9ac\uace0 \uc18c\uc218\ub97c \uad6c\ud560 \ub54c\ub294 \uc5d0\ub77c\ud1a0\uc2a4\ud14c\ub124\uc2a4\uc758 \uccb4\uc758 \uc6d0\ub9ac\ub97c \uc774\uc6a9\ud558\uc600\ub2e4. \uac00\uc7a5 \uac04\ub2e8\ud558\uba74\uc11c\ub3c4 \ud6a8\uc728\uc801\uc774\uae30 \ub54c\ubb38\uc774\ub2e4. \ub2e4\ud589\uc774 1\ubd80\ud130 \uc785\ub825\ubc1b\uc740 \uc218 \uc0ac\uc774\uc5d0 \uc788\ub294 \uc18c\uc218\ub97c \ucd9c\ub825\ud558\ub294 \uac83\uc774\uae30 \ub54c\ubb38\uc5d0 \uc774 \ubc29\ubc95\uc774 \uac00\uc7a5 \ud0c0\ub2f9\ud558\ub2e4\uace0 \ud310\ub2e8\ud558\uc600\ub2e4. \uc18c\uc218\ub97c \uc800\uc7a5\ud558\ub294 \ub9ac\uc2a4\ud2b8(\uc704 \ucf54\ub4dc\uc5d0\uc11c\ub294 prime_num, \uc774\ud558 \uc18c\uc218 \ub9ac\uc2a4\ud2b8)\ub97c \uc18c\uc218\ub97c \uac70\ub974\ub294\ub370 \uc0ac\uc6a9\ud558\ub294 \uccb4\ub85c\uc11c \ud65c\uc6a9\ud558\uc600\uace0, \ub9cc\uc57d \uc18c\uc218\uc778\uc9c0 \ud310\ubcc4\ud558\uace0\uc790 \ud558\ub294 \uc218\uac00 \uc18c\uc218 \ub9ac\uc2a4\ud2b8\uc758 \uc18c\uc218\ub85c \ub098\ub204\uc5b4 \ub5a8\uc5b4\uc9c0\uc9c0 \uc54a\ub294\ub2e4\uba74 \uc774\ub294 \uc18c\uc218\uc784\uc774 \uc790\uba85\ud558\ubbc0\ub85c \uc18c\uc218 \ub9ac\uc2a4\ud2b8\uc5d0 \uadf8 \uac12\uc744 \ucd94\uac00\uc2dc\ucf30\ub2e4. \uc774\ub7ec\ud55c \uccb4\uc758 \uc6d0\ub9ac\ub97c \uc0ac\uc6a9\ud558\uae30 \ub54c\ubb38\uc5d0 \ubc18\ubcf5\ubb38 \ub610\ud55c \uc18c\uc218 \ub9ac\uc2a4\ud2b8\uc758 \ucc98\uc74c\ubd80\ud130 \ub9c8\uc9c0\ub9c9 \uc778\ub371\uc2a4\uae4c\uc9c0\ub85c \ubc94\uc704\ub97c \uc124\uc815\ud558\uc600\ub2e4.\n",
      "\n",
      "\n",
      "\n",
      "\ub610\ud55c \uc18c\uc218\uc778\uc9c0 \ud310\ubcc4\ud558\uace0\uc790 \ud558\ub294 \uc218\uc758 \uc81c\uacf1\uadfc\ubcf4\ub2e4 \uc18c\uc218 \ub9ac\uc2a4\ud2b8\uc758 \uc18c\uc218\uac00 \ud074 \uacbd\uc6b0 \ubc18\ubcf5\ubb38\uc5d0\uc11c \ube60\uc838\ub098\uc624\ub3c4\ub85d \ud558\uc600\ub2e4. \uadf8 \uc774\uc0c1\uc758 \uc18c\uc218\ub85c \ub098\ub204\uc5c8\uc744 \uacbd\uc6b0, \ubaab\uc774 \ub098\uc624\uc9c0 \uc54a\uae30 \ub54c\ubb38\uc5d0 \uc18c\uc218\ub97c \ud310\ubcc4\ud558\ub294 \uc758\ubbf8\uac00 \uc5c6\uae30 \ub54c\ubb38\uc774\ub2e4.\n",
      "\n",
      "\n",
      "\n",
      "\ucc38\uace0\ub85c \uc18c\uc218 \ub9ac\uc2a4\ud2b8\uc758 0\ubc88 \uc778\ub371\uc2a4\uc758 \uac12\uc740 1\uc778\ub370, \uc758\ubbf8\ub294 \uc5c6\uc9c0\ub9cc 1\ubd80\ud130 \uc785\ub825\ubc1b\uc740 \uc218 \uc0ac\uc774\uc758 \uba87 \ubc88\uc9f8 \uc18c\uc218\ub97c \uc54c\uace0 \uc2f6\uc744 \ub54c \uc77c\ubc18\uc801\uc73c\ub85c \uc218\uc758 \uc2dc\uc791\uc774 1\ub85c \ud1b5\uc6a9\ub418\uae30 \ub54c\ubb38\uc5d0, \uccab\ubc88\uc9f8 \uc18c\uc218\ub97c \uc54c\uace0 \uc2f6\uc744 \ub54c \uc18c\uc218 \ub9ac\uc2a4\ud2b8\uc758 \uc778\ub371\uc2a4\ub97c 1\ub85c \ud558\uc600\uc744 \ub54c \uccab \ubc88\uc9f8 \uc18c\uc218\uac00 \ub098\uc624\ub3c4\ub85d \ud3b8\uc758\uc131\uc744 \uace0\ub824\ud558\uc5ec \uc774\ub807\uac8c \uc9c0\uc815\uc744 \ud558\uc600\ub2e4. \uc2e4\uc81c\ub85c \uc704 \ucf54\ub4dc\ub97c \uc0b4\ud3b4\ubcf4\uba74 \uc18c\uc218 \ud310\ubcc4\uc744 \ud560 \ub54c \uc18c\uc218 \ub9ac\uc2a4\ud2b8\uc758 \uc778\ub371\uc2a4 0\ubc88\uc744 \uc0ac\uc6a9\ud558\uc9c0 \uc54a\uc558\ub2e4."
     ]
    },
    {
     "cell_type": "heading",
     "level": 4,
     "metadata": {},
     "source": [
      "\uc18c\uac10)"
     ]
    },
    {
     "cell_type": "markdown",
     "metadata": {},
     "source": [
      "  \uc774\ubc88 \ud559\uae30\uc5d0\ub294 \uc2dc\uc2a4\ud15c \ud504\ub85c\uadf8\ub798\ubc0d\uc744 \uac19\uc774 \uc218\uac15\ud558\uae30 \ub54c\ubb38\uc5d0 \uc774\uc655\uc774\uba74 \uc2a4\ud06c\ub9bd\ud2b8 \ud504\ub85c\uadf8\ub798\ubc0d\uc744 \ub9ac\ub205\uc2a4 \ud658\uacbd\uc5d0\uc11c \ub2e4\ub8e8\ub294 \uac83\uc774 \uc88b\uc740 \uacbd\ud5d8\uc774 \ub420 \uac83\uc774\ub77c \uc0dd\uac01\ud588\uc2b5\ub2c8\ub2e4. \ub54c\ubb38\uc5d0 \uba40\ud2f0\ubd80\ud305\uc73c\ub85c \uc708\ub3c4\uc6b0\uc640 \uc6b0\ubd84\ud22c\ub97c \uc124\uce58\ud558\uace0, \uc6b0\ubd84\ud22c \ud658\uacbd\uc5d0\uc11c \ud30c\uc774\uc36c\uc744 \uc2e4\uc2b5\ud588\uc2b5\ub2c8\ub2e4. \uc708\ub3c4\uc6b0\uc5d0 \ube44\ud574\uc11c\ub294 \ud6e8\uc52c \ubd88\ud3b8\ud55c \uc810\uc774 \ub9ce\uc558\uc2b5\ub2c8\ub2e4. \uc2e4\uc2b5\uc5d0\uc11c \uc0ac\uc6a9\ub418\ub294 \ubaa8\ub4c8 \uc911\uc5d0\ub294 \ub530\ub85c \ud130\ubbf8\ub110\uc744 \uc5f4\uc5b4\uc11c \uc124\uce58\ud574\uc57c \ud558\ub294 \uac83\ub3c4 \uc788\uc5c8\uace0, vim \uc5d0\ub514\ud130\ub3c4 \ucc98\uc74c \uc0ac\uc6a9\ud574\ubcf4\ub294\ub370\ub2e4 \uc774 \uc5d0\ub514\ud130\ub85c \uc791\uc5c5\ud55c \uc18c\uc2a4 \ucf54\ub4dc\uc5d0 \ud55c\uae00\uc744 \ub123\uc73c\ub2c8 ipython\uc5d0\uc11c \uc778\ucf54\ub529 \uc624\ub958\uac00 \ub098\uae30\ub3c4 \ud588\uc2b5\ub2c8\ub2e4. \uc708\ub3c4\uc6b0\uc5d0\uc11c\ub294 canopy\ub9cc \uc124\uce58\ud558\uba74 \uac70\uc758 \ub300\ubd80\ubd84\uc758 \uc791\uc5c5\uc744 \uc27d\uac8c \ud560 \uc218 \uc788\uc5c8\ub358 \uac83\uacfc\ub294 \uad49\uc7a5\ud788 \ub300\uc870\uc801\uc774\uc5c8\uc2b5\ub2c8\ub2e4. github\ub97c \ud130\ubbf8\ub110\uc5d0\uc11c git\uc744 \uc124\uce58\ud558\uc5ec \uc5f0\ub3d9\ud558\ub294 \uac83\uae4c\uc9c0 \ud3ec\ud568\ud574\uc11c \ucd94\uc11d \ub300\ubd80\ubd84\uc744 \uc6b0\ubd84\ud22c\uc640 \uc2dc\ub984\ud558\uba70 \ubcf4\ub0c8\uc2b5\ub2c8\ub2e4.\n",
      "  \n",
      "  \n",
      "  \n",
      "  \uc2e4\uc2b5 \uacb0\uacfc\ub294 \uc708\ub3c4\uc6b0 \ud658\uacbd\uc5d0\uc11c \uc2e4\uc2b5\ud55c \ub2e4\ub978 \ud559\uc6b0\ub4e4\uacfc \ud070 \ucc28\uc774\ub294 \uc5c6\uaca0\uc9c0\ub9cc, \uadf8 \uacfc\uc815\uc5d0\uc11c \ub9ce\uc740 \uac83\ub4e4\uc744 \ubc30\uc6e0\uace0 \ud130\ubbf8\ub110 \ud658\uacbd\uc5d0 \uc870\uae08\uc529 \uc775\uc219\ud574\uc9c0\uba74\uc11c CLI \ud658\uacbd\ub3c4 \ub098\ub984\ub300\ub85c\uc758 \uc7a5\uc810\uc774 \uc788\ub2e4\ub294 \uac83\uc744 \uc54c\uac8c \ub418\uc5c8\uc2b5\ub2c8\ub2e4. \uac00\ub2a5\ud558\uba74 \uc55e\uc73c\ub85c\uc758 \uc2e4\uc2b5\uc5d0\uc11c\ub3c4 \uc6b0\ubd84\ud22c \ud658\uacbd\uc5d0\uc11c \ud558\uc5ec \uc870\uae08 \ub354 \ub2e4\uc591\ud55c \ud658\uacbd\uc5d0\uc11c \ud504\ub85c\uadf8\ub798\ubc0d\uc744 \ud560 \uc218 \uc788\ub294 \ub2a5\ub825\uc744 \uae30\ub974\uace0\uc790 \ud569\ub2c8\ub2e4.\n",
      "  \n",
      "  \n",
      "  \n",
      "  \uadf8\ub9ac\uace0 \uc774\ubc88 \uc2e4\uc2b5\uc5d0\uc11c \uc544\uc26c\uc6b4 \uc810\uc774 \uc788\ub2e4\uba74 \ud30c\uc774\uc36c\uc774 \uc9c1\uad00\uc801\uc774\uace0 \uc88b\uc740 \uae30\ub2a5\uc774 \ub9ce\uae30\ub294 \ud558\ub098, \uc800 \uc2a4\uc2a4\ub85c\uac00 \uc544\uc9c1 \ud30c\uc774\uc36c\uc5d0 \uc775\uc219\ud558\uc9c0 \uc54a\uc544 \uc54c\uace0\ub9ac\uc998\uc744 \ucf54\ub4dc\ub85c \uad6c\ud604\ud558\ub294 \ub370 \uc5b4\ub824\uc6c0\uc774 \uc788\uc5c8\ub358 \uac83\uc785\ub2c8\ub2e4. \uc218\uc5c5\uc744 \ub4e4\uc73c\uba74\uc11c \ucc28\uadfc\ucc28\uadfc \uc775\uc219\ud574\uc9c0\ub3c4\ub85d \ub178\ub825\ud558\uaca0\uc2b5\ub2c8\ub2e4."
     ]
    }
   ],
   "metadata": {}
  }
 ]
}