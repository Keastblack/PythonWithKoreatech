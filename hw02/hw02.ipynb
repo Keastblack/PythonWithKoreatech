{
 "metadata": {
  "name": ""
 },
 "nbformat": 3,
 "nbformat_minor": 0,
 "worksheets": [
  {
   "cells": [
    {
     "cell_type": "heading",
     "level": 1,
     "metadata": {},
     "source": [
      "\uc2a4\ud06c\ub9bd\ud2b8 \ud504\ub85c\uadf8\ub798\ubc0d Assignment 2"
     ]
    },
    {
     "cell_type": "markdown",
     "metadata": {},
     "source": [
      "|\ubd84\ubc18|01|\n",
      "|---|---|\n",
      "|\uad50\uc218|\ud55c\uc5f0\ud76c \uad50\uc218\ub2d8|\n",
      "|\ud559\uacfc|\ucef4\ud4e8\ud130\uacf5\ud559\ubd80|\n",
      "|\ud559\ub144|3\ud559\ub144|\n",
      "|\ud559\ubc88|2012136116|\n",
      "|\uc774\ub984|\uc815\uc7ac\uc6b0(wodndb@koreatech.ac.kr)\n",
      "|\uc81c\ucd9c\uc77c|2014\ub144 9\uc6d4 29\uc77c|"
     ]
    },
    {
     "cell_type": "heading",
     "level": 3,
     "metadata": {},
     "source": [
      "\ubb38\uc81c 1) \ub2e4\uc74c 6 \uac1c\uc758 Expression\uc5d0 \ub300\ud574 Evaluation \uacb0\uacfc \uac12\uc744 \ucd9c\ub825\ud558\uace0, \ud574\ub2f9 \uacb0\uacfc\uac00 \ub098\uc628 \uc774\uc720\uc5d0 \ub300\ud574 \uc124\uba85\ud558\uc2dc\uc624"
     ]
    },
    {
     "cell_type": "markdown",
     "metadata": {},
     "source": [
      "* 1 and 2 and 3 and 4\n",
      "* 1 or 2 or 3 or 4\n",
      "* 1 and 2 or 3 and 4\n",
      "* (1 and 2) or (3 and 4)\n",
      "* 1 or 2 and 3 or 4\n",
      "* (1 or 2) and (3 or 4)"
     ]
    },
    {
     "cell_type": "code",
     "collapsed": false,
     "input": [
      "#!/usr/local/bin/python\n",
      "# coding: utf-8\n",
      "import sys, os\n",
      "\n",
      "#This source code file is made with VIM in Ubuntu LTS 14.04\n",
      "\n",
      "print 1 and 2 and 3 and 4\n",
      "print 1 or 2 or 3 or 4\n",
      "print 1 and 2 or 3 and 4\n",
      "print (1 and 2) or (3 and 4)\n",
      "print 1 or 2 and 3 or 4\n",
      "print (1 or 2) and (3 or 4)"
     ],
     "language": "python",
     "metadata": {},
     "outputs": [
      {
       "output_type": "stream",
       "stream": "stdout",
       "text": [
        "4\n",
        "1\n",
        "2\n",
        "2\n",
        "1\n",
        "3\n"
       ]
      }
     ],
     "prompt_number": 1
    },
    {
     "cell_type": "markdown",
     "metadata": {},
     "source": [
      "    \uccab \ubc88\uc9f8 Expression\uc740 and\uc5f0\uc0b0\uc774 \uc21c\ucc28\uc801\uc73c\ub85c \uc218\ud589\ub418\ub294\ub370, \ucc98\uc74c\uc5d0 1\ub294 \ucc38\uc774\ubbc0\ub85c, and\uc5f0\uc0b0\uc758 \uacb0\uacfc\uac00 \ucc38\uc778\uc9c0 \uac70\uc9d3\uc778\uc9c0 \ud310\ubcc4\ud558\uae30 \uc704\ud574\uc11c\ub294 2\ub97c \ucc38\uc870\ud574\uc57c \ud55c\ub2e4. 1 and 2\uc758 \uacb0\uacfc\ub294 \ucc38\uc774\ubbc0\ub85c, \ub2e4\uc74c and\uc5f0\uc0b0\uc758 \uacb0\uacfc\ub97c \ud310\ubcc4\ud558\uae30 \uc704\ud574\uc11c\ub294 3\uc744 \ucc38\uc870\ud574\uc57c \ud558\uace0, \uadf8 \uacb0\uacfc \ub610\ud55c \ucc38\uc774 \ub418\uba70 \ub9c8\uc9c0\ub9c9 and\uc5f0\uc0b0\uc744 \ud310\ubcc4\ud558\uae30 \uc704\ud574 4\ub97c \ucc38\uc870\ud55c\ub2e4. \ub530\ub77c\uc11c \ucd5c\uc885\uc801\uc73c\ub85c\ub294 4\ub77c\ub294 \uac12\uc774 \ub098\uc624\ub294 \uac83\uc774\ub2e4.\n",
      "    \ub450 \ubc88\uc9f8 Expression\uc740 or\uc5f0\uc0b0\uc774 \uc21c\ucc28\uc801\uc73c\ub85c \uc218\ud589\ub418\ub294\ub370, \uccab \ubc88\uc9f8 or\uc5f0\uc0b0\uc5d0\uc11c 1\uc744 \ucc38\uc870\ud558\ub294\ub370, 1\uc774\ub77c\ub294 \ucc38\uc774 \uc774\ubbf8 \uc874\uc7ac\ud558\ubbc0\ub85c, \uadf8 \uc774\ud6c4\uc758 or\uc5f0\uc0b0\uc740 \uc0b4\ud3b4\ubcfc \ud544\uc694\ub3c4 \uc5c6\uc774 \ucc38\uc774\ub2e4. \ub530\ub77c\uc11c 1\uc774 \uacb0\uacfc\uac12\uc73c\ub85c \ub098\uc624\ub294 \uac83\uc774\ub2e4.\n",
      "    \uc138 \ubc88\uc9f8 Expresson\uc740 2\uac00 \uacb0\uacfc\uac12\uc73c\ub85c \ub098\uc624\ub294\ub370, 1 and 2\uc5d0\uc11c \uacb0\uacfc\ub97c \uc54c\uae30 \uc704\ud574 2\ub97c \ucc38\uc870\ud558\uac8c \ub418\uace0, \uadf8 \uacb0\uacfc\uac00 \ucc38\uc774\uae30 \ub54c\ubb38\uc5d0 \uadf8 \uc774\ud6c4\uc758 \uc5f0\uc0b0\uc778 or\uc5f0\uc0b0\uc740 \ubb34\uc2dc\ub41c\ub2e4. \ub530\ub77c\uc11c 2\ub97c \ucc38\uc870\ud55c \uac83\uc774 \ub9c8\uc9c0\ub9c9\uc774\ubbc0\ub85c 2\uac00 \uacb0\uacfc\uac12\uc73c\ub85c \ub098\uc624\ub294 \uac83\uc774\ub2e4.\n",
      "    \ub124 \ubc88\uc9f8 Expression\uc740 \uad04\ud638\ub85c \ubb36\uc778 and\uc5f0\uc0b0\uc774 \uac01\uac01 \uacb0\uacfc\uac12\uc744 2\uc640 4\ub85c \ub098\ud0c0\ub0b4\uac8c \ub418\ub294\ub370, \ub9c8\uc9c0\ub9c9 \uc5f0\uc0b0\uc740 or\uc774\ub2e4. \uc6b0\uc120 1 and 2\uc758 \uacb0\uacfc\uac12\uc778 2\ub294 \ucc38\uc5d0 \uc18d\ud558\uae30 \ub54c\ubb38\uc5d0 or \uc5f0\uc0b0\uc758 \uacb0\uacfc\ub97c \uc54c\uae30 \uc704\ud574 \uadf8 \ub4a4\uc5d0 \uc788\ub294 \uac12\uc744 \ucc38\uc870\ud560 \ud544\uc694\uac00 \uc5c6\ub2e4. \ub530\ub77c\uc11c 2\ub97c \ub9c8\uc9c0\ub9c9\uc73c\ub85c \ucc38\uc870\ud55c \uac83\uc774 \ub418\uc5b4 2\uac00 \uacb0\uacfc\uac12\uc73c\ub85c \ub098\uc624\ub294 \uac83\uc774\ub2e4.\n",
      "    \ub2e4\uc12f \ubc88\uc9f8 Expression\uc740 \ub450 \ubc88\uc9f8 Expression\uacfc \ub9c8\ucc2c\uac00\uc9c0\ub85c 1\uc774 \ucc38\uc774\uae30 \ub54c\ubb38\uc5d0 or\uc5f0\uc0b0\uc790 \ub4a4\uc758 \uac12\ub4e4\uc740 \ucc38\uc870\ud560 \ud544\uc694\ub3c4 \uc5c6\uc774 \uacb0\uacfc\uac00 \ucc38\uc774\ub2e4. \ub530\ub77c\uc11c 1\ub9cc \ucc38\uc870\ud55c \uac83\uc774 \uacb0\uacfc\uac12\uc774 \ub41c\ub2e4.\n",
      "    \uc5ec\uc12f \ubc88\uc9f8 Expression\uc5d0\uc11c\ub294 \uad04\ud638\ub85c \ubb36\uc740 or\uc5f0\uc0b0\uc774 \uac01\uac01 \uadf8 \uacb0\uacfc\ub85c 1\uacfc 3\uc774 \ub098\uc624\uac8c \ub41c\ub2e4. 1 and 2\uc5d0\uc11c\ub294 1\ub9cc\uc73c\ub85c\ub3c4 \ucc38\uc774 \uc131\ub9bd\ub418\uae30 \ub54c\ubb38\uc5d0 or \uc5f0\uc0b0\uc790 \ub4a4\uc758 \uac12\uc774 \ubb34\uc2dc\ub418\uc5b4 1\uc774 \uacb0\uacfc\uac12\uc774 \ub418\uba70, 3 and 4 \ub610\ud55c \ub3d9\uc77c\ud55c \uc774\uc720\uc5d0\uc11c 3\uc774 \uacb0\uacfc\uac12\uc774 \ub098\uc624\ub294 \uac83\uc774\ub2e4. \ub9c8\uc9c0\ub9c9 \uc5f0\uc0b0\uc778 and \uc5f0\uc0b0\uc740 \uad04\ud638 \uc548\uc758 \uc5f0\uc0b0\ub4e4\uc744 \uacb0\uacfc\uac12\uc73c\ub85c \uce58\ud658\ud558\uba74 1 and 3\uc774 \ub418\ub294\ub370, 1\uc740 \ucc38\uc774\uc9c0\ub9cc and\uc5f0\uc0b0\uc790 \ub4a4\uc758 \uac12\uc774 \ucc38\uc778\uc9c0 \uac70\uc9d3\uc778\uc9c0 \ud310\ub2e8\ud574\uc57c \uacb0\uacfc\uac12\uc744 \ud310\ub2e8\ud560 \uc218 \uc788\uae30 \ub54c\ubb38\uc5d0 3\uc744 \ucc38\uc870\ud558\uac8c \ub41c\ub2e4. \uadf8 \uacb0\uacfc\ub294 \ucc38\uc774\uba70, \ub9c8\uc9c0\ub9c9\uc73c\ub85c \ucc38\uc870\ud55c \uac12\uc774 3\uc774\ubbc0\ub85c \ucd5c\uc885\uc801\uc778 \uacb0\uacfc\uac12\uc774 3\uc774 \ub41c\ub2e4."
     ]
    },
    {
     "cell_type": "heading",
     "level": 3,
     "metadata": {},
     "source": [
      "\ubb38\uc81c 2) 7/5, -7/5, -(7/5)\uc758 \uacb0\uacfc\ub97c \ud655\uc778\ud558\uace0 \uac01\uac01\uc758 \uacb0\uacfc\uac00 \uc65c \uadf8\ub807\uac8c \ub098\uc624\ub294 \uc9c0 \uc124\uba85\ud558\uc2dc\uc624\n",
      "\n",
      "    [\ucc38\uace0] \ubaab\uc740 \ud56d\uc0c1 \uc74c\uc758 \ubb34\ud55c\ub300 \ubc29\ud5a5\uc73c\ub85c round up (\ubc18\uc62c\ub9bc) \ub41c\ub2e4\ub294 \uc810\uc744 \uae30\uc5b5\ud574\uc57c \ud568\n"
     ]
    },
    {
     "cell_type": "code",
     "collapsed": false,
     "input": [
      "#!/usr/local/bin/python\n",
      "# coding: utf-8\n",
      "import sys, os\n",
      "\n",
      "print 7/5\n",
      "print -7/5\n",
      "print -(7/5)"
     ],
     "language": "python",
     "metadata": {},
     "outputs": [
      {
       "output_type": "stream",
       "stream": "stdout",
       "text": [
        "1\n",
        "-2\n",
        "-1\n"
       ]
      }
     ],
     "prompt_number": 2
    },
    {
     "cell_type": "markdown",
     "metadata": {},
     "source": [
      "    '7 / 5' \ub294 1\uc774 \ub098\uc628\ub2e4. \uc2e4\uc218\uc77c \uacbd\uc6b0 1.4\uac00 \ub098\uc624\ub294\ub370, \ud30c\uc774\uc36c\uc740 \uc74c\uc758 \ubb34\ud55c\ub300 \ubc29\ud5a5\uc73c\ub85c \ubc18\uc62c\ub9bc\uc774 \uc774\ub8e8\uc5b4\uc9c0\uae30 \ub54c\ubb38\uc5d0 1\ub85c \uac12\uc774 \uc218\ub834\ub418\uc5b4 \uacb0\uacfc\uac12\uc774 \ub098\uc624\ub294 \uac83\uc774\ub2e4.\n",
      "    '-7 / 5'\ub294 -2\uac00 \ub098\uc628\ub2e4. \uc2e4\uc218\uc77c \uacbd\uc6b0 -1.4\uc778\ub370, \uc74c\uc758 \ubb34\ud55c\ub300 \ubc29\ud5a5\uc73c\ub85c \ubc18\uc62c\ub9bc\uc774 \uc774\ub8e8\uc5b4\uc9c0\uae30 \ub54c\ubb38\uc5d0 -2\ub85c \uc218\ub834\ud558\ub294 \uac83\uc774\ub2e4.\n",
      "    '-(7 / 5)'\ub294 -1\uc774 \ub098\uc628\ub2e4. \uad04\ud638 \uc548\uc758 \uc5f0\uc0b0 \uacb0\uacfc\uac00 \uccab \ubc88\uc9f8\ub85c \uc0b4\ud3b4\ubcf8 7 / 5\uc774\ubbc0\ub85c, 1\uc774 \ub098\uc624\ub294\ub370 \uc5ec\uae30\uc5d0 -\uac00 \ubd99\uc5b4 \uc74c\uc218\ub85c \ubcc0\ud658\ub418\uc5b4 -1\uc774 \ub418\ub294 \uac83\uc774\ub2e4."
     ]
    },
    {
     "cell_type": "heading",
     "level": 3,
     "metadata": {},
     "source": [
      "\ubb38\uc81c 3) \ud0a4\ubcf4\ub4dc\ub85c \uc815\uc218\uac12\uc744 \uc785\ub825 \ubc1b\uace0 \uadf8 \uac12\uc774 \uc591\uc218\uc778\uc9c0 \uc74c\uc218\uc778\uc9c0\ub97c \ube44\ud2b8 \uc5f0\uc0b0\uc790\ub97c \uc774\uc6a9\ud558\uc5ec \ud310\ub2e8\ud558\ub294 \ud504\ub85c\uadf8\ub7a8\uc744 \uc791\uc131\ud558\uc2dc\uc624.\n",
      "\n",
      "    [\ucc38\uace0] \uac00\uc7a5 \uc67c\ucabd\uc5d0 \uc788\ub294 \ube44\ud2b8\uac00 0\uc774\uba74 \uc591\uc218\uc774\uba70, 1\uc774\uba74 \uc74c\uc218\uc774\ub2e4."
     ]
    },
    {
     "cell_type": "code",
     "collapsed": false,
     "input": [
      "#!/usr/local/bin/python\n",
      "# coding: utf-8\n",
      "import sys, os\n",
      "\n",
      "num = int(raw_input('Please input integer number : '));\n",
      "if((num >> 63) & 0x01 == 0x01):\n",
      "\tprint num,'is negative number'\n",
      "else:\n",
      "\tprint num,'is positive number'"
     ],
     "language": "python",
     "metadata": {},
     "outputs": [
      {
       "name": "stdout",
       "output_type": "stream",
       "stream": "stdout",
       "text": [
        "Please input integer number : -5\n"
       ]
      },
      {
       "output_type": "stream",
       "stream": "stdout",
       "text": [
        "-5 is negative number\n"
       ]
      }
     ],
     "prompt_number": 3
    },
    {
     "cell_type": "markdown",
     "metadata": {},
     "source": [
      "    \uac00\uc7a5 \uc67c\ucabd\uc758 \ube44\ud2b8\uac00 1\uc778 \uacbd\uc6b0 \uc74c\uc218\ub85c \ub530\uc9c0\ub294\ub370, \uc774\ub97c \uc624\ub978\ucabd\uc73c\ub85c \uc2dc\ud504\ud2b8\uc5f0\uc0b0\uc744 \ud560 \uacbd\uc6b0 \uc77c\ubc18\uc801\uc73c\ub85c\ub294 \uc26c\ud504\ud2b8\uc5f0\uc0b0\uc5d0 \uc758\ud574 \uc0dd\uae30\ub294 \uac00\uc7a5 \uc624\ub978\ucabd\uc758 \ube44\ud2b8\uac00 1\ub85c \ucc44\uc6cc\uc9c4\ub2e4. \uadf8\ub7ec\ubbc0\ub85c 32\ube44\ud2b8\ub4e0 64\ube44\ud2b8\ub294 63\ub9cc\ud07c \uc624\ub978\ucabd\uc73c\ub85c \uc2dc\ud504\ud2b8\uc5f0\uc0b0\uc744 \ud558\uac8c \ub420 \uacbd\uc6b0 \uac00\uc7a5 \uc624\ub978\ucabd\uc758 \ube44\ud2b8\ub294 1\uc774 \ub420 \uac83\uc774\ub2e4. \uc870\uae08 \ube44\ud6a8\uc728\uc801\uc77c \uc218\ub294 \uc788\uc9c0\ub9cc, \uc774\ub807\uac8c \ud558\uba74 \uc6b4\uc601\uccb4\uc81c\uc758 \ube44\ud2b8 \uccb4\uacc4\uc5d0 \uc0c1\uad00 \uc5c6\uc774 \uc74c\uc218 \ubc0f \uc591\uc218 \ud310\ubcc4\uc774 \uac00\ub2a5\ud574\uc9c8 \uac83\uc774\ub2e4."
     ]
    },
    {
     "cell_type": "heading",
     "level": 3,
     "metadata": {},
     "source": [
      "\ubb38\uc81c 4) \ub450 \uac1c\uc758 \ub9ac\uc2a4\ud2b8\ub97c \uc778\uc790\ub85c \ubc1b\uc544\uc11c \uadf8 \ub450 \uac1c\uc758 \ub9ac\uc2a4\ud2b8\uc5d0 \ub300\ud55c '\ud569\uc9d1\ud569'\uc744 \ubc18\ud658\ud558\ub294 \ud568\uc218 list_union(lista, listb)\ub97c \uc791\uc131\ud558\uc2dc\uc624."
     ]
    },
    {
     "cell_type": "markdown",
     "metadata": {},
     "source": [
      "* \uc778\uc790\ub85c \uc804\ub2ec\ud558\ub294 \ub9ac\uc2a4\ud2b8 2 \uac1c\uc5d0\ub294 \uc815\uc218\uac12\ub9cc \ub4e4\uc5b4\uac04\ub2e4\uace0 \uac00\uc815\ud558\uc790.\n",
      "* \ud568\uc218 \ub0b4\uc5d0\uc11c \uc0c8\ub85c\uc6b4 \ub9ac\uc2a4\ud2b8\ub97c \ub9cc\ub4e4\uc5b4 \uadf8 \ub9ac\uc2a4\ud2b8 \ub0b4\uc5d0 \uc778\uc790\ub85c \ubc1b\uc740 \ub450 \ub9ac\uc2a4\ud2b8\uc758 \ubaa8\ub4e0 \uc6d0\uc18c\ub97c \ub123\uc5b4 \ubc18\ud658\ud55c\ub2e4.\n",
      "* \ubc18\ud658\ud558\ub294 \ub9ac\uc2a4\ud2b8\uc5d0\ub294 \uc808\ub300\ub85c \uc911\ubcf5\ub41c \uc6d0\uc18c\uac00 \ub4e4\uc5b4 \uc788\uc73c\uba74 \uc548\ub41c\ub2e4 (\uc9d1\ud569\uc758 \uc870\uac74).\n",
      "* \ubc18\ud658\ud558\ub294 \ub9ac\uc2a4\ud2b8\ub294 \uc815\ub82c\uc774 \ub418\uc5b4 \uc788\uc5b4\uc57c \ud55c\ub2e4.\n",
      "    * \ub2e4\uc74c\uacfc \uac19\uc740 \uc2e4\ud589 \ubc0f \ucd9c\ub825 \uacb0\uacfc\uac00 \ub3c4\ucd9c\ub418\uc5b4\uc57c \ud55c\ub2e4.\n",
      "        * list_union([1, 2, 3], [1, 2, 4])\n",
      "            * [1, 2, 3, 4]\n",
      "        * list_union([-10, -5, 0, -1], [100, 9, 0, 9])\n",
      "            * [-10, -5, -1, 0, 9, 100]\n",
      "        * list_union([0, 1, 2], [0, 1, 2])\n",
      "            * [0, 1, 2]\n",
      "* [\ucc38\uace0] \ub9ac\uc2a4\ud2b8(l) \ub0b4\uc5d0 \uc0c8\ub85c\uc6b4 \uc815\uc218\uac12 (\uc608\ub97c \ub4e4\uc5b4 10)\uc744 \ub123\ub294 \ubc29\ubc95\uc740 l.append(10) \uc774\ub2e4.\n",
      "* [\ucc38\uace0] \uc784\uc758\uc758 \uc815\uc218\uac12 (x)\uc774 \ub9ac\uc2a4\ud2b8 (l) \ub0b4\uc5d0 \uc874\uc7ac\ud558\ub294\uc9c0 \ud310\ub2e8\ud558\ub294 \ubc29\ubc95\uc740 x in l \uc774\ub2e4."
     ]
    },
    {
     "cell_type": "code",
     "collapsed": false,
     "input": [
      "#!/usr/local/bin/python\n",
      "# coding: utf-8\n",
      "import sys, os\n",
      "\n",
      "def list_union(lista, listb):\n",
      "\tresult = []\n",
      "\tresult += lista\n",
      "\tfor k in range(len(lista)):\n",
      "\t\tif(lista[k] in result):\n",
      "\t\t\tcontinue\n",
      "\t\telse:\n",
      "\t\t\tresult.append(lista[k])\n",
      "\tk = 0\n",
      "\tfor k in range(len(listb)):\n",
      "\t\tif(listb[k] in result):\n",
      "\t\t\tcontinue\n",
      "\t\telse:\n",
      "\t\t\tresult.append(listb[k])\n",
      "\tresult.sort()\n",
      "\n",
      "\treturn result\n",
      "\n",
      "print list_union([1, 2, 3], [1, 2, 4])\n",
      "print list_union([-10, -5, 0, -1], [100, 9, 0, 9])\n",
      "print list_union([0, 1, 2], [0, 1, 2])"
     ],
     "language": "python",
     "metadata": {},
     "outputs": [
      {
       "output_type": "stream",
       "stream": "stdout",
       "text": [
        "[1, 2, 3, 4]\n",
        "[-10, -5, -1, 0, 9, 100]\n",
        "[0, 1, 2]\n"
       ]
      }
     ],
     "prompt_number": 4
    },
    {
     "cell_type": "markdown",
     "metadata": {},
     "source": [
      "    \uc911\ubcf5 \uc5c6\uc774 \ub9ac\uc2a4\ud2b8\ub97c \ud569\uce58\uae30 \uc704\ud574\uc11c \uc784\uc2dc\ub85c \ube44\uc5b4\uc788\ub294 \ub9ac\uc2a4\ud2b8\ub97c \ub9cc\ub4e4\uace0, \uadf8 \ub9ac\uc2a4\ud2b8\uc5d0 \ub123\uc744 \uc6d0\uc18c\uac00 \uc774\ubbf8 \uc874\uc7ac\ud558\uc9c0 \uc54a\uc744 \ub54c\ub9cc append \ud568\uc218\ub97c \uc0ac\uc6a9\ud558\uc5ec \uc6d0\uc18c\ub97c \uc0bd\uc785\ud558\uc600\ub2e4."
     ]
    },
    {
     "cell_type": "heading",
     "level": 3,
     "metadata": {},
     "source": [
      "\ubb38\uc81c 5) \uacbd\ub85c\uc5d0 \ud574\ub2f9\ud558\ub294 \ubb38\uc790\uc5f4 1\uac1c\ub97c \uc785\ub825 \ubc1b\uc544 \uadf8 \uc548\uc5d0 \ub514\ub809\ud1a0\ub9ac \uacbd\ub85c\uba85\uacfc \ud30c\uc77c\uba85\uc744 \ubd84\ub9ac\ud558\uc5ec \ub9ac\uc2a4\ud2b8\ub85c \ubc18\ud658\ud558\ub294 \ud568\uc218 div_path(s)\ub97c \uc791\uc131\ud558\uc2dc\uc624."
     ]
    },
    {
     "cell_type": "markdown",
     "metadata": {},
     "source": [
      "* \uc778\uc790\ub85c \uc804\ub2ec\ud558\ub294 \ubb38\uc790\uc5f4\uc740 \uacbd\ub85c\ub9cc \ub4e4\uc5b4\uac04\ub2e4\uace0 \uac00\uc815\ud55c\ub2e4.\n",
      "* \uac01 \ub514\ub809\ud1a0\ub9ac\uc640 \ud30c\uc77c\uc744 \uad6c\ubd84\ud558\ub294 \ubb38\uc790\ub294 '/'\ub85c \uac00\uc815\ud55c\ub2e4.\n",
      "* \ubc18\ud658\ud558\ub294 \ub9ac\uc2a4\ud2b8\uc758 \uccab\ubc88\uc9f8 \uc6d0\uc18c\ub294 \ub514\ub809\ud1a0\ub9ac\uc774\uace0 \ub450\ubc88\uc9f8 \uc6d0\uc18c\ub294 \ud30c\uc77c\uba85\uc774\ub2e4.\n",
      "* \ub2e4\uc74c\uacfc \uac19\uc740 \uc2e4\ud589 \ubc0f \ucd9c\ub825 \uacb0\uacfc\uac00 \ub3c4\ucd9c\ub418\uc5b4\uc57c \ud55c\ub2e4.\n",
      "    * div_path('/usr/local/bin/python')\n",
      "        * ['/usr/local/bin', 'python']\n",
      "    * div_path('/home/chulsoo/test.txt')\n",
      "        * ['/home/chulsoo', 'test.txt']"
     ]
    },
    {
     "cell_type": "code",
     "collapsed": false,
     "input": [
      "#!/usr/local/bin/python\n",
      "# coding: utf-8\n",
      "import sys, os\n",
      "\n",
      "def div_path(s):\n",
      "\tresult = s.rsplit('/', 1);\n",
      "\treturn result\n",
      "\n",
      "\n",
      "print div_path('usr/local/bin/python')\n",
      "print div_path('home/chulsoo/test.txt')"
     ],
     "language": "python",
     "metadata": {},
     "outputs": [
      {
       "output_type": "stream",
       "stream": "stdout",
       "text": [
        "['usr/local/bin', 'python']\n",
        "['home/chulsoo', 'test.txt']\n"
       ]
      }
     ],
     "prompt_number": 5
    },
    {
     "cell_type": "markdown",
     "metadata": {},
     "source": [
      "    \uad50\uc218\ub2d8\uaed8\uc11c \uc81c\uacf5\ud574\uc8fc\uc2e0 \uac15\uc758\uc790\ub8cc\uc5d0 \ubb38\uc81c\ub97c \ud574\uacb0\ud558\ub294 \ub370 \uc544\uc8fc \uc801\uc808\ud788 \uc0ac\uc6a9\ub420 \uc218 \uc788\ub294 \ud568\uc218 \ud558\ub098\ub97c \ubc1c\uacac\ud558\uc600\ub2e4. rsplit\uc774\ub2e4. \uc774 \ud568\uc218\ub294 \ud2b9\uc815 \ubb38\uc790\ub97c \ud1a0\ud070\uc73c\ub85c \uc0bc\uc544 \ub9ac\uc2a4\ud2b8\ub85c \ubd84\ub9ac\ud558\uace0, \ub450 \ubc88\uc9f8 \ud568\uc218\uc758 \uc778\uc790\ub85c \uc815\uc218\ub97c \ubc1b\ub294\ub370, \uc624\ub978\ucabd\uc5d0\uc11c \uadf8 \uc785\ub825\ubc1b\uc740 \uc815\uc218\ub9cc\ud07c\uc758 \uac2f\uc218\ub97c \uae30\uc900\uc73c\ub85c \ub9ac\uc2a4\ud2b8\ub97c \ubd84\ub9ac\ud558\uc5ec \ub2e4\uc2dc \ud2b9\uc815 \ubb38\uc790\ub97c \uc5f0\uacb0\uc790\ub85c \uc0bc\uc544 \ubb38\uc790\uc5f4\ub85c \ud569\uce5c\ub2e4."
     ]
    },
    {
     "cell_type": "heading",
     "level": 3,
     "metadata": {},
     "source": [
      "\ubb38\uc81c 6) \uc6f9 URL\ub85c \uc9c0\uc815\ub41c \uc6f9\ud398\uc774\uc9c0\ub97c \ubb38\uc790\uc5f4\ub85c \uac00\uc838\uc640 1) \ubaa8\ub4e0 HTML \ud0dc\uadf8 \ubc0f CSS\uc640 Javascript\ub97c \uc81c\uc678\ud55c \uc21c\uc218 \ud14d\uc2a4\ud2b8\ub9cc\uc744 \ucd9c\ub825\ud558\uace0, 2) \uadf8 \uc21c\uc218 \ud14d\uc2a4\ud2b8 \uc548\uc5d0 \uc874\uc7ac\ud558\ub294 \ub2e8\uc5b4\uac00 \ucd1d \uba87\uac1c\uc778\uc9c0 \ucd9c\ub825\ud558\ub294 \ud504\ub85c\uadf8\ub7a8\uc744 \uc791\uc131\ud558\uc2dc\uc624."
     ]
    },
    {
     "cell_type": "markdown",
     "metadata": {},
     "source": [
      "  - HTML \ud0dc\uadf8\ub294 \ub2e4\uc74c \uc870\uac74\uc744 \uac00\uc9c0\ub294 \uac83\uc774\ub2e4.\n",
      "    - < \ub85c \uc2dc\uc791\ud558\uc5ec >\ub85c \ub05d\ub098\uac70\ub098 />\ub85c \ub05d\ub09c\ub2e4.\n",
      "    - </ \ub85c \uc2dc\uc791\ud558\uc5ec > \ub85c \ub05d\ub09c\ub2e4.\n",
      "  - HTML \ubb38\uc11c \ub0b4\uc5d0 \uc874\uc7ac\ud558\ub294 CSS \uc0ad\uc81c\uc2dc \ucc38\uace0\ud560 \uc0ac\ud56d\n",
      "    - &lt;style&gt; \ud639\uc740 &lt;STYLE&gt;\ub85c \uc2dc\uc791\ud55c\ub2e4.\n",
      "    - &lt;/style&gt; \ud639\uc740 &lt;/STYLE&gt;\ub85c \ub05d\ub09c\ub2e4.\n",
      "    - &lt;style&gt; (\ud639\uc740 &lt;STYLE&gt;)\uacfc &lt;/style&gt; (\ud639\uc740 &lt;/STYLE&gt;) \ub0b4\uc5d0 \uc874\uc7ac\ud558\ub294 CSS \ucf54\ub4dc\ub294 \ubaa8\ub450 \uc0ad\uc81c\ud55c\ub2e4.\n",
      "  - HTML \ubb38\uc11c \ub0b4\uc5d0 \uc874\uc7ac\ud558\ub294 Javascript \uc0ad\uc81c\uc2dc \ucc38\uace0\ud560 \uc0ac\ud56d\n",
      "    - &lt;script&gt; \ud639\uc740 &lt;SCRIPT&gt;\ub85c \uc2dc\uc791\ud55c\ub2e4.\n",
      "    - &lt;/script&gt; \ud639\uc740 &lt;/SCRIPT&gt;\ub85c \ub05d\ub09c\ub2e4.\n",
      "    - &lt;script&gt; (\ud639\uc740 &lt;SCRIPT&gt;)\uacfc &lt;/script&gt; (\ud639\uc740 &lt;/SCRIPT&gt;) \ub0b4\uc5d0 \uc874\uc7ac\ud558\ub294 Javascript \ucf54\ub4dc\ub294 \ubaa8\ub450 \uc0ad\uc81c\ud55c\ub2e4. \n",
      "  - \uc989, CSS \ucf54\ub4dc\uc640 Javascript \ucf54\ub4dc\ub294 \ub2e8\uc5b4\uc758 \ucd1d\uc218\ub97c \uce74\uc6b4\ud2b8 \ud560 \ub54c \uace0\ub824\ud558\uc9c0 \uc54a\ub294\ub2e4.\n",
      "  - \ub2e8\uc5b4\ub97c \ub098\ub204\ub294 \uae30\uc900\uc740 \uc624\ub85c\uc9c0 \uacf5\ubc31\ubb38\uc790\uc774\ub2e4.\n",
      "    - \ub2e4\uc74c \ucf54\ub4dc \ud65c\uc6a9\n",
      "      - import string\n",
      "      - c in string.whitespace\n",
      "  - \ud55c\ud3b8, \ub2e4\uc74c\uc740 URL\ub85c \uc9c0\uc815\ub41c \uc6f9\ud398\uc774\uc9c0\ub97c \ud2b9\uc815 \ubb38\uc790\uc5f4\ub85c \uac00\uc838\uc624\ub294 \ucf54\ub4dc\uc774\ub2e4."
     ]
    },
    {
     "cell_type": "code",
     "collapsed": false,
     "input": [
      "#!/usr/local/bin/python\n",
      "# coding: utf-8\n",
      "import sys, os, urllib, string\n",
      "\n",
      "s = urllib.urlopen('http://www.python.org/').read()\n",
      "\n",
      "\n",
      "n = 0\n",
      "pivot = 0\n",
      "while(n < len(s)):\n",
      "\tif(s.startswith('<style', n)):\n",
      "\t\tpivot = n\n",
      "\t\twhile(s.startwith('</style>', pivot) == False):\n",
      "\t\t\tpivot += 1\n",
      "\t\ts = s[0:n] + ' ' + s[pivot+8:]\n",
      "\telif(s.startswith('<STYLE', n)):\n",
      "\t\tpivot = n\n",
      "\t\twhile(s.startwith('</STYLE>', pivot) == False):\n",
      "\t\t\tpivot += 1\n",
      "\t\ts = s[0:n] + ' ' + s[pivot+8:]\n",
      "\telif(s.startswith('<script', n)):\n",
      "\t\tpivot = n\n",
      "\t\twhile(s.startswith('</script>', pivot) == False):\n",
      "\t\t\tpivot += 1\n",
      "\t\ts = s[0:n] + ' ' + s[pivot+9:]\n",
      "\telif(s.startswith('<SCRIPT', n)):\n",
      "\t\tpivot = n\n",
      "\t\twhile(s.startswith('</SCRIPT>', pivot) == False):\n",
      "\t\t\tpivot += 1\n",
      "\t\ts = s[0:n] + ' ' + s[pivot+9:]\n",
      "\telif(s[n] == '<'):\n",
      "\t\tpivot = n\n",
      "\t\twhile(s[pivot] != '>'):\n",
      "\t\t\tpivot += 1\n",
      "\t\ts = s[0:n] + ' ' + s[pivot+1:]\n",
      "\telif(s[n] == '\\n' or s[n] == '\\t'):\n",
      "\t\ts = s[0:n] + ' ' + s[n+1:]\n",
      "\telse:\n",
      "\t\tn += 1\n",
      "\n",
      "s2 = ' '.join(s.split())\n",
      "\n",
      "print 'number of character :', len(s.split())\n",
      "print\n",
      "print '<characters in webpage>'\n",
      "print s2\n"
     ],
     "language": "python",
     "metadata": {},
     "outputs": [
      {
       "output_type": "stream",
       "stream": "stdout",
       "text": [
        "number of character : 1080\n",
        "\n",
        "<characters in webpage>\n",
        "Welcome to Python.org Skip to content &#9660; Close Python PSF Docs PyPI Jobs Community &#9650; The Python Network &equiv; Menu Search This Site GO A A Smaller Larger Reset Socialize Google+ Facebook Twitter IRC on Freenode Sign In Sign Up / Register Sign In About Applications Quotes Getting Started Help Downloads All releases Source code Windows Mac OS X Other Platforms License Alternative Implementations Documentation Docs Audio/Visual Talks Beginner&#39;s Guide Developer&#39;s Guide FAQ Non-English Docs PEP Index Python Books Community Diversity IRC Mailing Lists Python Conferences Special Interest Groups Python Wiki Python Logo Merchandise Community Awards Success Stories Arts Business Education Engineering Government Scientific Software Development News Python News Community News PSF News PyCon News Events Python Events User Group Events Python Events Archive User Group Events Archive Submit an Event &gt;_ Launch Interactive Shell # Python 3: Fibonacci series up to n >>> def fib(n): >>> a, b = 0, 1 >>> while a &lt; n: >>> print(a, end=' ') >>> a, b = b, a+b >>> print() >>> fib(1000) 0 1 1 2 3 5 8 13 21 34 55 89 144 233 377 610 Functions Defined The core of extensible programming is defining functions. Python allows mandatory and optional arguments, keyword arguments, and even arbitrary argument lists. More about defining functions in Python&nbsp;3 # Python 3: For loop on a list >>> list = [2, 4, 6, 8] >>> sum = 0 >>> for num in list: >>> sum = sum + num >>> print(\"The sum is:\", sum) The sum is: 20 All the Flow You&rsquo;d Expect Python knows the usual control flow statements that other languages speak &mdash; if , for , while and range &mdash; with some of its own twists, of course. More control flow tools in Python&nbsp;3 # Python 3: Simple output (with Unicode) >>> print(\"Hello, I'm Python!\") Hello, I'm Python! # Input, assignment >>> name = input('What is your name?\\n') >>> print('Hi, %s.' % name) What is your name? Python Hi, Python. Quick &amp; Easy to Learn Experienced programmers in any other language can pick up Python very quickly, and beginners find the clean syntax and indentation structure easy to learn. Whet your appetite with our Python&nbsp;3 overview. # Python 3: List comprehensions >>> fruits = ['Banana', 'Apple', 'Lime'] >>> loud_fruits = [fruit.upper() for fruit in fruits] >>> print(loud_fruits) ['BANANA', 'APPLE', 'LIME'] # List and the enumerate function >>> list(enumerate(fruits)) [(0, 'Banana'), (1, 'Apple'), (2, 'Lime')] Compound Data Types Lists (known as arrays in other languages) are one of the compound data types that Python understands. Lists can be indexed, sliced and manipulated with other built-in functions. More about lists in Python&nbsp;3 # Python 3: Simple arithmetic >>> 1 / 2 0.5 >>> 2 ** 3 8 >>> 17 / 3 # classic division returns a float 5.666666666666667 >>> 17 // 3 # floor division 5 Intuitive Interpretation Calculations are simple with Python, and expression syntax is straightforward: the operators + , - , * and / work as expected; parentheses () can be used for grouping. More about simple math functions in Python&nbsp;3 . Python is a programming language that lets you work quickly and integrate systems more effectively. Learn More Get Started Whether you're new to programming or an experienced developer, it's easy to learn and use Python. Start with our Beginner&rsquo;s Guide Download Python source code and installers are available for download for all versions! Not sure which version to use? Check here . Latest: Python 3.4.1 - Python 2.7.8 Docs Documentation for Python's standard library, along with tutorials and guides, are available online. docs.python.org Jobs Looking for work or have a Python related position that you're trying to hire for? Our community-run job board is the place to go. jobs.python.org Latest News More 2014- 08-01 Python 3.4.1 was released on May 18th, 2014, with over ... 2014- 03-17 Python 3.4.0 has been released today. Python 3.4 includes a ... 2014- 03-11 A new bugfix release, Python 3.3.5, has been issued to ... 2014- 03-11 The third release candidate for Python 3.4 has been released. ... 2014- 02-20 The first release candidate for Python 3.4, Python 3.4.0rc1, has ... Upcoming Events More 2014- 09-30 Guadalajara, Mexico PUG 2014- 09-30 Python Meeting D\u00fcsseldorf (PyDDF) 2014- 10-02 PyConZA 2014 2014- 10-03 PyTexas 2014 2014- 10-07 Fox Valley Python User Group (WI, USA) Success Stories More ILM runs a batch processing environment capable of modeling, rendering and compositing tens of thousands of motion picture frames per day. Thousands of machines running Linux, IRIX, Compaq Tru64, OS X, Solaris, and Windows join together to provide a production pipeline used by ~800 users daily. Speed of development is key, and Python was a faster way to code (and re-code) the programs that control this production pipeline. Industrial Light &amp; Magic Runs on Python by Tim Fortenberry Use Python for&hellip; More Web Programming : Django , Pyramid , Bottle , Tornado , Flask , web2py GUI Development : wxPython , tkInter , PyGtk , PyQt Scientific and Numeric : SciPy , Pandas , IPython Software Development : Buildbot , Trac , Roundup System Administration : Ansible , Salt , OpenStack &gt;&gt;&gt; Python Enhancement Proposals (PEPs) : The future of Python is discussed here. RSS &gt;&gt;&gt; Python Software Foundation The mission of the Python Software Foundation is to promote, protect, and advance the Python programming language, and to support and facilitate the growth of a diverse and international community of Python programmers. Learn more Become a Member Donate to the PSF &#9650; Back to Top About Applications Quotes Getting Started Help Downloads All releases Source code Windows Mac OS X Other Platforms License Alternative Implementations Documentation Docs Audio/Visual Talks Beginner&#39;s Guide Developer&#39;s Guide FAQ Non-English Docs PEP Index Python Books Community Diversity IRC Mailing Lists Python Conferences Special Interest Groups Python Wiki Python Logo Merchandise Community Awards Success Stories Arts Business Education Engineering Government Scientific Software Development News Python News Community News PSF News PyCon News Events Python Events User Group Events Python Events Archive User Group Events Archive Submit an Event &#9650; Back to Top Help &amp; General Contact Diversity Initiatives Website Colophon --> Copyright &copy;2001-2014. &nbsp; Python Software Foundation &nbsp; Legal Statements &nbsp; Privacy Policy Notice: While Javascript is not essential for this website, your interaction with the content will be limited. Please turn Javascript on for the full experience. Notice: Your browser is ancient and Microsoft agrees . Upgrade to a different browser or install Google Chrome Frame to experience a better web.\n"
       ]
      }
     ],
     "prompt_number": 2
    },
    {
     "cell_type": "markdown",
     "metadata": {},
     "source": [
      "\uae30\ubcf8\uc801\uc73c\ub85c\ub294 \uc6f9\ud398\uc774\uc9c0\uc758 \uc18c\uc2a4 \ucf54\ub4dc\uac00 \ud1b5\uc9f8\ub85c \uc800\uc7a5\ub41c \ubb38\uc790\uc5f4\uc744 \uc2ac\ub77c\uc774\uc2f1\ud558\uc5ec, \ucd94\ucd9c\ud558\uace0\uc790 \ud558\ub294 \uc21c\uc218 \ud14d\uc2a4\ud2b8\ub9cc\uc744 \ub0a8\uae30\ub3c4\ub85d \ud558\ub294 \uac83\uc774 \ubb38\uc81c\uc758 \ud575\uc2ec\uc774\ub2e4. \ubb38\uc790\uc5f4 \ub0b4\uc758 \ubd88\ud544\uc694\ud55c \ucf54\ub4dc\uc778 HTML, Script, CSS\ud0dc\uadf8\ub97c \ucc3e\uace0 \uadf8 \ubc94\uc704\uc758 \uc778\ub371\uc2a4\ub97c \uad6c\ud574 \uc2ac\ub77c\uc774\uc2f1\uc73c\ub85c \uc81c\uac70\ud558\uba74 \ub41c\ub2e4. \uc804\uccb4\uc801\uc778 \uacfc\uc815\uc740 \ub2e4\uc74c\uacfc \uac19\ub2e4.\n",
      "    - \ud604\uc7ac \ubb38\uc790\uc5f4\uc758 \uc5b4\ub290 \uc778\ub371\uc2a4\ub97c \uc77d\uace0\uc788\ub294\uc9c0 \uadf8 \uc778\ub371\uc2a4 \uac12\uc744 \uc800\uc7a5\ud558\ub294 \ubcc0\uc218 n\uc774 \uc788\ub2e4. \uc774 n\uc758 \uc704\uce58\uc5d0,\n",
      "        1. '<', '<script', '<SCRIPT', '<style', '<STYLE'\uacfc \uac19\uc740 \ubd88\ud544\uc694\ud55c \ud14d\uc2a4\ud2b8\uac00 \uc874\uc7ac\ud558\ub294\uc9c0 \ud310\ubcc4\ud55c\ub2e4. \uc874\uc7ac\ud560 \uacbd\uc6b0\uc5d0\ub294 pivot\uc774\ub77c\uace0 \ud558\ub294 \ub610 \ud558\ub098\uc758 \uc778\ub371\uc2a4\ub97c \uc800\uc7a5\ud560 \ubcc0\uc218\ub97c \ub9cc\ub4e4\uace0, 1\uc529 \uac12\uc744 \uc62c\ub9ac\uba74\uc11c \ud574\ub2f9 \uc778\ub371\uc2a4\uc5d0 '>', </script>, '</SCRIPT>', '</style>', '</STYLE>'\uacfc \uac19\uc740 \ubd88\ud544\uc694\ud55c \ud14d\uc2a4\ud2b8\uac00 \ub05d\ub098\ub294 \uc704\uce58\ub97c \ucc3e\ub294\ub2e4. \uadf8\ub9ac\uace0 n\uacfc pivot + x(x\ub294 \ubd88\ud544\uc694\ud55c \ud14d\uc2a4\ud2b8\uac00 \ub05d\ub098\ub294 \uc704\uce58\uc640 pivot \uc0ac\uc774\uc758 \uae38\uc774) \uc0ac\uc774\uc758 \ubb38\uc790\uc5f4\uc744 \uc2ac\ub77c\uc774\uc2f1\uc744 \ud1b5\ud574 \uc9c0\uc6b4\ub2e4. \ud0dc\uadf8 \uc0ac\uc774\uc5d0 \uacf5\ubc31\ubb38\uc790\ub97c \ub123\uc5b4 \ub2e8\uc5b4\ub4e4\uc774 \ubd99\uc5b4\ubc84\ub9ac\ub294 \uacbd\uc6b0\ub97c \ubc29\uc9c0\ud55c\ub2e4.\n",
      "        2. \uc704\uc758 \ud14d\uc2a4\ud2b8\ub294 \uc5c6\uc73c\ub098, n\ubc88\uc9f8 \uc778\ub371\uc2a4\uc5d0\uc11c \uce90\ub9ac\uc9c0 \ub9ac\ud134 \ubb38\uc790\ub098 \ud0ed \ubb38\uc790\uac00 \uc788\uc744 \uacbd\uc6b0 ' '(\uacf5\ubc31 \ubb38\uc790)\ub85c \uce58\ud658\ud55c\ub2e4.\n",
      "        3. 1\uacfc 2\uc758 \uacbd\uc6b0\uc5d0 \ud574\ub2f9\ud558\uc9c0 \uc54a\uc73c\uba74 n\uc5d0 1\uc744 \ub354\ud574 \ub2e4\uc74c \uc778\ub371\uc2a4\ub85c \uc774\ub3d9\ud55c\ub2e4. \uadf8\ub9ac\uace0 1\ubc88 \uacfc\uc815\uc73c\ub85c \ub3cc\uc544\uac00\uc11c n\uc774 \ubb38\uc790\uc5f4\uc758 \ub05d\uae4c\uc9c0 \uc77d\uc744 \ub54c \uae4c\uc9c0 \uacc4\uc18d \uc704 \uacfc\uc815\uc744 \ubc18\ubcf5\ud55c\ub2e4.\n",
      "        4. \uc704 \uacfc\uc815\uc774 \ubaa8\ub450 \ub05d\ub098 \ubb38\uc790\uc5f4\uc744 \uc804\ubd80 \ud0d0\uc0c9\ud588\uc73c\uba74 \ubd88\ud544\uc694\ud55c \ud14d\uc2a4\ud2b8\ub294 \uc804\ubd80 \uc9c0\uc6cc\uc84c\uc744 \uac83\uc774\ub2e4. \ud558\uc9c0\ub9cc \uacf5\ubc31\ubb38\uc790\uac00 \ub0a8\uc544\uc788\ub2e4. \uacf5\ubc31\ubb38\uc790\ub97c \uae30\uc900\uc73c\ub85c split\ud568\uc218\ub97c \uc0ac\uc6a9\ud558\uc5ec \ub2e8\uc5b4\ub85c \uc774\ub8e8\uc5b4\uc9c4 \ub9ac\uc2a4\ud2b8\ub97c \ub9cc\ub4e4\uace0, \uadf8 \ub9ac\uc2a4\ud2b8\uc758 \uc6d0\uc18c \uac1c\uc218, \uc989 \ub2e8\uc5b4 \uac1c\uc218\ub97c \uad6c\ud55c\ub2e4.\n",
      "        5. \ub9c8\ubb34\ub9ac\ub85c join \ud568\uc218\ub97c \uc0ac\uc6a9\ud558\uc5ec \uacf5\ubc31\ubb38\uc790\ub85c \ub9ac\uc2a4\ud2b8\uc758 \uc6d0\uc18c\ub97c \uad6c\ubd84\ud558\uc5ec \ubb38\uc790\uc5f4\ub85c \ub9cc\ub4e0\ub2e4."
     ]
    },
    {
     "cell_type": "heading",
     "level": 3,
     "metadata": {},
     "source": [
      "\uc18c\uac10)"
     ]
    },
    {
     "cell_type": "markdown",
     "metadata": {},
     "source": [
      "\ucc98\uc74c\uc5d0\ub294 \ub9c9\ub9c9\ud588\uc9c0\ub9cc, \uad50\uc218\ub2d8\uaed8\uc11c \ub9cc\ub4e4\uc5b4\uc8fc\uc2e0 \uac15\uc758\uc790\ub8cc\ub97c \ucc28\uadfc\ucc28\uadfc \uc77d\uc5b4\ubcf4\ub2c8 \uc27d\uac8c \ubb38\uc81c\uac00 \ud480\ub838\uc2b5\ub2c8\ub2e4. \ucd5c\uadfc \uc778\ud130\ub137\uc758 \uc54c\uace0\ub9ac\uc998 \ubb38\uc81c\ub97c C\ub85c \ud480\uc5b4\ubcf4\uba74\uc11c \ub290\ub07c\ub294 \uac83\uc774\uc9c0\ub9cc, \ud30c\uc774\uc36c\uc774\ub77c\ub294 \uc5b8\uc5b4\ub294 \uc815\ub9d0 \ud3b8\ub9ac\ud558\uace0 \uc0dd\uc0b0\uc131\uc774 \ub192\uc740 \uc5b8\uc5b4\uc778 \uac83 \uac19\uc2b5\ub2c8\ub2e4. \uc5bc\ub9c8\ub098 \ub9ce\uc740 \uac83\uc744 \uc678\uc6b0\uace0 \uc788\ub290\ub0d0\ubcf4\ub2e4\ub294, \uc5bc\ub9c8\ub098 \uc6d0\ud558\ub294 \uae30\ub2a5\uc774 \uad6c\ud604\ub41c \ub77c\uc774\ube0c\ub7ec\ub9ac\ub97c \ube60\ub974\uac8c \ucc3e\uc544\uc11c \uc801\uc6a9\ud560 \uc218 \uc788\ub290\ub0d0\uac00 \uad00\uac74\uc774\ub77c\ub294 \uc0dd\uac01\uc774 \ub4ed\ub2c8\ub2e4. \ub355\ubd84\uc5d0 \ucd5c\uadfc\uc5d0\ub294 \uc800\uc758 \ud504\ub85c\uadf8\ub798\ubc0d\uc5d0 \ub300\ud55c \ud328\ub7ec\ub2e4\uc784\uc774 \ubcc0\ud558\uace0 \uc788\uc2b5\ub2c8\ub2e4. \ub0a8\uc758 \ucf54\ub4dc\ub97c \ubcf4\ub294 \uac83\uc774 \uc8c4\ub97c \uc9d3\ub294 \uac83 \uac19\uace0 \uacf5\ubd80\uc5d0 \ub3c4\uc6c0\uc774 \uc548\ub420 \uac83 \uac19\uc544\uc11c \uc624\ud788\ub824 \ud53c\ud558\uace0\ub294 \ud588\uc5c8\ub294\ub370, \uc9c0\uae08\uc740 \ub2e4\ub978 \uc0ac\ub78c\uc758 \ucf54\ub4dc\ub97c \uac70\ub9ac\ub08c \uc5c6\uc774 \uc0b4\ud3b4\ubcf4\uba74\uc11c \ub354 \ube60\ub974\uace0 \ud6a8\uc728\uc801\uc778 \ud504\ub85c\uadf8\ub7a8\uc744 \ub9cc\ub4e4\uc218\ub294 \uc5c6\uc744\uae4c\uc5d0 \ucd08\uc810\uc744 \ub450\uace0 \uc788\uc2b5\ub2c8\ub2e4. \uae00\uc744 \ub9ce\uc774 \uc77d\uc744 \uc218\ub85d \uc5b4\ud718\ub825\uc774 \ub298\ub4ef\uc774, \ucf54\ub4dc\ub97c \ub9ce\uc774 \ubd10\uc57c \ud504\ub85c\uadf8\ub798\ubc0d \uc2e4\ub825\uc774 \ub298\uc5b4\ub09c\ub2e4\ub294 \uac83\uc744 \ub290\ub07c\uace0 \uc788\uc2b5\ub2c8\ub2e4."
     ]
    },
    {
     "cell_type": "code",
     "collapsed": false,
     "input": [],
     "language": "python",
     "metadata": {},
     "outputs": []
    }
   ],
   "metadata": {}
  }
 ]
}