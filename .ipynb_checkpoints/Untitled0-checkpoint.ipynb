{
 "metadata": {
  "name": "",
  "signature": "sha256:01d0abe39b22f3153ab437e998b0476748001cbce1b3b0dec30d8f9c5120ee27"
 },
 "nbformat": 3,
 "nbformat_minor": 0,
 "worksheets": [
  {
   "cells": [
    {
     "cell_type": "code",
     "collapsed": false,
     "input": [
      "a = 2"
     ],
     "language": "python",
     "metadata": {},
     "outputs": [],
     "prompt_number": 2
    },
    {
     "cell_type": "code",
     "collapsed": false,
     "input": [
      "b = 3"
     ],
     "language": "python",
     "metadata": {},
     "outputs": [],
     "prompt_number": 3
    },
    {
     "cell_type": "code",
     "collapsed": false,
     "input": [
      "print a + b"
     ],
     "language": "python",
     "metadata": {},
     "outputs": [
      {
       "output_type": "stream",
       "stream": "stdout",
       "text": [
        "5\n"
       ]
      }
     ],
     "prompt_number": 4
    },
    {
     "cell_type": "markdown",
     "metadata": {},
     "source": [
      "\uc774 \ubb38\uc11c\ub294 ipython notebook\uc744 \ud14c\uc2a4\ud2b8\ud558\uae30 \uc704\ud55c \uac83\uc785\ub2c8\ub2e4. \ub2e4\uc2dc \ub9d0\ud574 \uc789\uc5ec\ud55c \ubb38\uc11c\ub77c\ub294 \uc758\ubbf8\uc785\ub2c8\ub2e4."
     ]
    }
   ],
   "metadata": {}
  }
 ]
}